{
 "cells": [
  {
   "cell_type": "markdown",
   "id": "bda4e133-8221-48cb-9c4f-bce54f81dc71",
   "metadata": {},
   "source": [
    "# Learning from networks project: Evaluation of different Node Embedding algorithms\n",
    "Members:<br>\n",
    "- D'Emilio Filippo, id : 2120931\n",
    "- Volpato Pietro, id : 2120825\n",
    "\n",
    "## Embedding evaluation notebook"
   ]
  },
  {
   "cell_type": "code",
   "execution_count": 26,
   "id": "a643ad2a-470f-4eca-8cb2-1fc209541c74",
   "metadata": {},
   "outputs": [],
   "source": [
    "import numpy as np\n",
    "import networkx as nx\n",
    "import matplotlib.pyplot as plt\n",
    "from sklearn.metrics import mean_squared_error\n",
    "from sklearn.metrics.pairwise import cosine_similarity\n",
    "from sklearn.manifold import TSNE\n",
    "from sklearn.decomposition import PCA\n",
    "from imblearn.over_sampling import SMOTE\n",
    "import gzip\n",
    "import re\n",
    "import os\n",
    "import random\n",
    "from sklearn.svm import SVC\n",
    "from sklearn.metrics import accuracy_score, roc_auc_score, classification_report, f1_score\n",
    "from sklearn.model_selection import train_test_split\n",
    "from sklearn.preprocessing import StandardScaler\n",
    "from sklearn.linear_model import LogisticRegression\n",
    "from imblearn.ensemble import BalancedRandomForestClassifier"
   ]
  },
  {
   "cell_type": "markdown",
   "id": "b60d9ed8-3910-48db-a759-ee09a3c3f673",
   "metadata": {},
   "source": [
    "# configuration\n",
    "Here you can properly configure the names of the graphs and the names of the embedding strategies.<br>\n",
    "Set emb_dim = 128 to load 128-dimensional embeddings, set emb_dim = 256 to load 256-dimensional embeddings."
   ]
  },
  {
   "cell_type": "code",
   "execution_count": 2,
   "id": "e77bf3ab-83c4-46d5-b007-3982b64bc9ae",
   "metadata": {},
   "outputs": [],
   "source": [
    "graph_keys = [\"facebook\",\"citation\",\"biological\",\"proteins\", \"spam\"]\n",
    "embedding_keys = [\"LINE\", \"node2vec\", \"AW\"]\n",
    "emb_dim = 128  # you can chose between 128 and 256 dimensional embeddings"
   ]
  },
  {
   "cell_type": "markdown",
   "id": "7e598ebc-0beb-4076-abc7-b185f437fb7e",
   "metadata": {},
   "source": [
    "# Loading the embeddings\n",
    "Now we load the embeddings, which should be stored as a file in the /embeddings folder as a .npy file.<br>\n",
    "*NOTE*: the file names must respect the format: \"embeddings_{graph_key}_{embedding_key}.npy\".<br>\n",
    "Embeddings are stored in a dictionary of dictionaries.<br>\n",
    "The first index refer to the graph (e.g. embeddings[\"facebook\"] contains the embeddings of the facebook graph for every embedding technique).<br>\n",
    "The second index refer to the embedding technique (e.g. embeddings[\"facebook\"][\"LINE\"] cointans the embedding of facebook graph computed using LINE)"
   ]
  },
  {
   "cell_type": "code",
   "execution_count": 108,
   "id": "2ab0adc4-e065-4bc3-8296-39ca7a42eca9",
   "metadata": {},
   "outputs": [
    {
     "name": "stdout",
     "output_type": "stream",
     "text": [
      "Warning: File '../result/embeddings_citation_node2vec_128.npy' not found.\n",
      "Warning: File '../result/embeddings_citation_AW_128.npy' not found.\n",
      "Warning: File '../result/embeddings_biological_AW_128.npy' not found.\n",
      "Warning: File '../result/embeddings_proteins_AW_128.npy' not found.\n",
      "Warning: File '../result/embeddings_spam_AW_128.npy' not found.\n"
     ]
    }
   ],
   "source": [
    "def load(name):\n",
    "    \"\"\"\n",
    "    Loads a NumPy array from a file. If the file is not found, \n",
    "    displays a warning and returns None.\n",
    "\n",
    "    name (str): The name of the file (without extension) to load from the 'embeddings' directory.\n",
    "    \n",
    "    return: np.ndarray or None: The loaded NumPy array, or None if the file is not found.\n",
    "    \"\"\"\n",
    "    file_name = f\"../result/{name}.npy\"\n",
    "    if not os.path.exists(file_name):\n",
    "        print(f\"Warning: File '{file_name}' not found.\")\n",
    "        return None\n",
    "\n",
    "    emb = np.load(file_name)\n",
    "    return emb\n",
    "\n",
    "embeddings = {}\n",
    "for k in graph_keys:\n",
    "    embeddings[k] = {}\n",
    "\n",
    "for graph_key in graph_keys:\n",
    "    for emb_key in embedding_keys:\n",
    "        s = f\"embeddings_{graph_key}_{emb_key}_{emb_dim}\"\n",
    "        embeddings[graph_key][emb_key] = load(s)"
   ]
  },
  {
   "cell_type": "markdown",
   "id": "da0573ed-f2fa-4226-88f4-ebbcf1c470e4",
   "metadata": {},
   "source": [
    "# Loading the graphs\n",
    "Selected graphs:\n",
    "- Facebook_combined    https://snap.stanford.edu/data/ego-Facebook.html          \n",
    "- cit-Helpth           https://networkrepository.com/cit-HepTh.php             \n",
    "- bio-CE-CX            https://networkrepository.com/bio-CE-CX.php             \n",
    "- proteins-full        https://networkrepository.com/PROTEINS-full.php ---- the graph has node labels\n",
    "- spam                 https://networkrepository.com/web-spam-detection.php  ---- the graph has node labels\n",
    "\n",
    "To run this notebook, adjust the paths to match where the files are saved in your PC.<br>\n",
    "To keep paths as they are, download the repository.<br>\n",
    "Graphs are stored as a dictionary: the key is the graph name, the value is the corresponding netowrkx graph.<br>\n",
    "\n",
    "When it is created a networkX graph from a text file the node are renamed as integers form 0 to |V|-1, so that we can store the embeddings\n",
    "on a matrix, and each row index corresponds to the embedding vector of the corrisponding node."
   ]
  },
  {
   "cell_type": "code",
   "execution_count": 4,
   "id": "067626d5-62a8-42a3-bf77-6952d5af8cc6",
   "metadata": {},
   "outputs": [],
   "source": [
    "facebook_path = '../data/facebook/facebook_combined.txt.gz'\n",
    "citation_path = '../data/citation/cit-HepTh.edges'\n",
    "biological_path = '../data/biological/bio-CE-CX.edges'\n",
    "proteins_path = \"../data/proteins/PROTEINS-full.edges\"\n",
    "spam_path = \"../data/spam/web-spam-detection.edges\"\n",
    "\n",
    "proteins_labels_path = \"../data/proteins/PROTEINS-full.node_labels\"\n",
    "spam_labels_path = \"../data/spam/web-spam-detection.node_labels\""
   ]
  },
  {
   "cell_type": "code",
   "execution_count": 5,
   "id": "b13a0738-853b-40ab-a2fc-2f7d9c0a24ed",
   "metadata": {},
   "outputs": [],
   "source": [
    "def load_graph_edges(path):\n",
    "    \"\"\"\n",
    "    For files with extension .edges\n",
    "    nodes are renamed as integers, starting from 0\n",
    "    \"\"\"\n",
    "    G = nx.Graph()\n",
    "    with open(path, 'rt') as f:\n",
    "        for line in f:\n",
    "            if line.startswith('%'):  # Skip comment lines\n",
    "                continue\n",
    "            # Split the line based on spaces or commas\n",
    "            data = re.split(r'[,\\s]+', line.strip())\n",
    "            if len(data) < 2:  # Skip lines that don't have at least two columns\n",
    "                continue\n",
    "            # Extract the first two columns (nodes)\n",
    "            node1, node2 = int(data[0]), int(data[1])\n",
    "            G.add_edge(node1, node2)\n",
    "        \n",
    "    return relabel_get_mapping(G)\n",
    "\n",
    "def load_graph_with_gz(path):\n",
    "    \"\"\"\n",
    "    For files with extension .txt.gz\n",
    "    nodes are renamed as integers, starting from 0\n",
    "    \"\"\"\n",
    "    G = nx.Graph()\n",
    "    with gzip.open(path, 'rt') as f:\n",
    "        for line in f:\n",
    "            node1, node2 = map(int, line.strip().split())\n",
    "            G.add_edge(node1, node2)\n",
    "            \n",
    "    return relabel_get_mapping(G)\n",
    "\n",
    "def print_graphs_info(graphs):\n",
    "    for k in graph_keys:\n",
    "        G = graphs[k]\n",
    "        print(f\"{k}: |V|={len(G.nodes)}, |E|={len(G.edges)}\")\n",
    "\n",
    "def relabel_get_mapping(G):\n",
    "    \"\"\"\n",
    "    Given a graph G, this function returns a graph where the nodes are relabeled as integers, form 0 to |V|-1.\n",
    "    It is also returned the mapping from original name to relabeled name.\n",
    "    \"\"\"\n",
    "    inverse_mapping = {i : node for i,node in enumerate(G.nodes)} # mappoing new_name : original_name\n",
    "    direct_mapping = {node : i for i,node in enumerate(G.nodes)} # mapping original_name : new_name\n",
    "    G = nx.relabel_nodes(G, direct_mapping)\n",
    "    return G, direct_mapping"
   ]
  },
  {
   "cell_type": "code",
   "execution_count": 7,
   "id": "1b659245-9c28-4968-8261-b5a05ea83ec0",
   "metadata": {},
   "outputs": [
    {
     "name": "stdout",
     "output_type": "stream",
     "text": [
      "facebook: |V|=4039, |E|=88234\n",
      "citation: |V|=22908, |E|=2444798\n",
      "biological: |V|=15229, |E|=245952\n",
      "proteins: |V|=43471, |E|=81049\n",
      "spam: |V|=9072, |E|=473854\n"
     ]
    }
   ],
   "source": [
    "graphs = {}  # dictionary containg the graphs\n",
    "mappings = {} # dictionary to contain the mappings. Original name : relabeled name\n",
    "for k in graph_keys:\n",
    "    mappings[k] = {}\n",
    "    \n",
    "# facebook graph is the only one .tar.gz        \n",
    "graphs[graph_keys[0]], mappings[graph_keys[0]] = load_graph_with_gz(facebook_path)  # relabeling nodes to integer\n",
    "graphs[graph_keys[1]], mappings[graph_keys[1]] = load_graph_edges(citation_path)\n",
    "graphs[graph_keys[2]], mappings[graph_keys[2]] = load_graph_edges(biological_path)\n",
    "graphs[graph_keys[3]], mappings[graph_keys[3]] = load_graph_edges(proteins_path)  # node labeled\n",
    "graphs[graph_keys[4]], mappings[graph_keys[4]] = load_graph_edges(spam_path)  # node labeled\n",
    "\n",
    "print_graphs_info(graphs)"
   ]
  },
  {
   "cell_type": "markdown",
   "id": "58f0f1f9-4e40-4f9a-a7b1-83d9791f3662",
   "metadata": {},
   "source": [
    "## Extract the labels\n",
    "The graph \"proteins\" has node labels. <br>\n",
    "In the text file containing the labels each line has only one number (class label), and such element refers implicitly to the line number node, according to the original node names definition.<br>\n",
    "Since when we load a graph we rename node as integers starting from 0, the mapping is applied to match each label with the correct node according\n",
    "to the modified node names.<br>"
   ]
  },
  {
   "cell_type": "code",
   "execution_count": 9,
   "id": "7c02b2a2-b8e9-491a-8f00-280af4c90900",
   "metadata": {},
   "outputs": [],
   "source": [
    "def load_node_labels(file_path, graph_key):\n",
    "    \"\"\"\n",
    "    Reads a file containing node labels and returns a dictionary mapping nodes to labels.\n",
    "    The labels are assumed to be listed in sequential order: first label is relative to first node (according to original name), and so on...\n",
    "\n",
    "    Parameters: file_path (str): Path to the node label file.\n",
    "                graph_key : key of the graph, needed for the mappings between original and renamed nodes.\n",
    "    \n",
    "\n",
    "    Returns:\n",
    "        node_labels (dict): A dictionary where keys are oroginal node names, values are their corresponding labels.\n",
    "    \"\"\"\n",
    "    node_labels = {}\n",
    "    with open(file_path, 'r') as file:\n",
    "        i = 1 # keep track of incedes of original names because bad CL fata format\n",
    "        for line in file:\n",
    "            line = line.strip()  # Remove leading/trailing whitespace\n",
    "            if not line:  # Skip empty lines\n",
    "                continue\n",
    "\n",
    "            # i is the node original name, but labels skip nodes that are isolated\n",
    "            map = mappings[graph_key]\n",
    "            while i not in map.keys():  # skip isolated nodes\n",
    "                i += 1\n",
    "            \n",
    "            real_name = map[i]\n",
    "            label = int(line)  # Parse the labels\n",
    "            node_labels[real_name] = label  # Map the line number (node ID) to the label\n",
    "            i += 1\n",
    "\n",
    "    return node_labels\n",
    "\n",
    "labels = {}\n",
    "labels[\"proteins\"] = load_node_labels(proteins_labels_path, \"proteins\")\n",
    "labels[\"spam\"] = load_node_labels(spam_labels_path, \"spam\")"
   ]
  },
  {
   "cell_type": "markdown",
   "id": "e094e049-0d43-45fa-b2ac-26df13a76c1f",
   "metadata": {},
   "source": [
    "## 2D visualization of the embeddings"
   ]
  },
  {
   "cell_type": "code",
   "execution_count": 92,
   "id": "fa515bea-41df-4b58-9aa9-cd38aee642cf",
   "metadata": {},
   "outputs": [],
   "source": [
    "def visualize_embeddings(embeddings, labels=None, method=\"tsne\", random_state=69):\n",
    "    \"\"\"\n",
    "    Visualize embeddings in 2D space using t-SNE or PCA.\n",
    "    \n",
    "    Parameters:\n",
    "        embeddings (np.ndarray): Embedding matrix of shape (n_nodes, dimensions).\n",
    "        labels (list or np.ndarray): Optional, class labels for nodes. Used for coloring.\n",
    "        method (str): Dimensionality reduction method (\"tsne\" or \"pca\").\n",
    "        random_state (int): Random state for reproducibility.\n",
    "        \n",
    "    \"\"\"\n",
    "    if method == \"tsne\":\n",
    "        reducer = TSNE(n_components=2, random_state=random_state, init='random', perplexity=30)\n",
    "        reduced_embeddings = reducer.fit_transform(embeddings)\n",
    "    elif method == \"pca\":\n",
    "        reducer = PCA(n_components=2, random_state=random_state)\n",
    "        reduced_embeddings = reducer.fit_transform(embeddings)\n",
    "    else:\n",
    "        raise ValueError(\"Method must be 'tsne' or 'pca'\")\n",
    "    \n",
    "    plt.figure(figsize=(10, 7))\n",
    "    if labels is not None:\n",
    "        scatter = plt.scatter(reduced_embeddings[:, 0], reduced_embeddings[:, 1], c=labels, cmap='tab10', s=10, alpha=0.8)\n",
    "        plt.legend(*scatter.legend_elements(), title=\"Classes\", loc=\"upper right\", fontsize=\"small\", markerscale=2)\n",
    "    else:\n",
    "        plt.scatter(reduced_embeddings[:, 0], reduced_embeddings[:, 1], s=10, alpha=0.8)\n",
    "    \n",
    "    plt.title(f\"2D Visualization of Embeddings using {method.upper()}\")\n",
    "    plt.xlabel(\"Component 1\")\n",
    "    plt.ylabel(\"Component 2\")\n",
    "    plt.grid(True, linestyle=\"--\", alpha=0.5)\n",
    "    plt.show()"
   ]
  },
  {
   "cell_type": "markdown",
   "id": "1f472b18-4249-4166-ac24-1f1a1aecee76",
   "metadata": {},
   "source": [
    "## Choose the embeddings you want to visualize"
   ]
  },
  {
   "cell_type": "code",
   "execution_count": 95,
   "id": "a8eea42f-daf6-44da-8399-cbcc5efa7cf8",
   "metadata": {},
   "outputs": [
    {
     "data": {
      "image/png": "[encoded data removed]",
      "text/plain": [
       "<Figure size 1000x700 with 1 Axes>"
      ]
     },
     "metadata": {},
     "output_type": "display_data"
    }
   ],
   "source": [
    "graph_key = \"facebook\"\n",
    "embedding_key = \"node2vec\"\n",
    "lab = None\n",
    "if graph_key == \"proteins\": \n",
    "    # sort the labels in a list to visualize node classes colors\n",
    "    lab = []\n",
    "    for i in range(len(labels[\"proteins\"])):\n",
    "        lab.append(labels[\"proteins\"][i])\n",
    "        \n",
    "visualize_embeddings(embeddings[graph_key][embedding_key], lab, method = 'tsne')"
   ]
  },
  {
   "cell_type": "markdown",
   "id": "0bcbf757-a870-4245-a68c-acfc79b39e06",
   "metadata": {},
   "source": [
    "# Reconstruction error\n",
    "The reconstruction error measures the ability of reconstructing the original graph using the node embedding vectors.<br>\n",
    "Reconstruct the connections between nodes given the embeddings is not trivial, since different embedding techniques may produce the embedding vectors in very different ways, hence the best way to reconstruct the graph vary with the embedding strategy considered.<br>\n",
    "Doing an exact computation of the reconstruction error implies to scan all possible pair of nodes, which is computationally infeasible for large graphs (10^5 nodes ----> 10^10 computation of similarities between pair of 128-dimensional vectors).<br>\n",
    "To solve the computational complexity problem, we developed a simple approximation algorithm. <br>\n",
    "First of all, we need to define a similarity function, that given the embeddings of two nodes, returns the similarity of those w.r.t. a define measure (e.g. cosine similarity, Euclidean distance). Note that a similarity measures might be optimal for an embedding strategy, and meaningless for another embedding strategy.<br>\n",
    "The approximate_reconstruction_error() is a very simple algorithm based on sampling, and can be summaryzed in two steps:\n",
    "1) Draw positive and negative samples to define a threshold, which will be the criterion to \"guess\" if, given pair of embedding vectors, there is an edge in the graph.\n",
    "2) Draw new positive and negative samples, and use the similarity function and apply the threshold to such value to make the predictions. Then the reconstruction error is defined as the number of errors divided by the number of samples. Note that an error can be a FP: guess a non-existing edge, or a FN: missed to guess an existing edge.\n",
    "\n",
    "INPUT:\n",
    "- G=(V,E) undirected graph\n",
    "- embeddings: matrix of embeddings, embeddings[i] is the embedding vector of node i\n",
    "- sample_fraction: the fraction of the true edges considered\n",
    "- sim_function: a function returning the similarity of two vectors. Assumption: higher (with sign) value represents higher similarity.\n",
    "\n",
    "OUTPUT: approximated RE of G with given embeddings\n",
    "<pre>\n",
    "approximate_reconstruction_error(G, embeddings, sample_fraction, sim_function)<br>\n",
    "{draw samples to define the similarity threshold}\n",
    "positive_edges <---- draw uniformly at random sample_fraction*|E| edges\n",
    "negative_edges <---- draw uniformly at random sample_fraction*|E| pair of nodes for which does not exist an edge in the graph\n",
    "sim_pos <---- average similarity of all pair of nodes in positive_edges\n",
    "sim_neg <---- average similarity of all pair of nodes in negative_edges\n",
    "threshold <---- (sim_pos+sim_neg)/2\n",
    "{draw samples to try reconstruct the graph}\n",
    "positive_edges <---- draw uniformly at random sample_fraction*|E| edges\n",
    "negative_edges <---- draw uniformly at random sample_fraction*|E| pair of nodes for which does not exist an edge in the graph\n",
    "samples <---- [positive_edges,negative_edges]\n",
    "errors <---- 0\n",
    "for each (u,v) in samples:\n",
    "    prediction <--- True if sim_function(embeddings[u],embeddings[v])>= threshold, False otherwise\n",
    "    compare the prediction with the actual presence of edge (u,v) in the graph, and update error counter\n",
    "return errors/|samples|\n",
    "</pre>\n",
    "\n",
    "The reconstruction error is in the interval [0,1]. RE = 1 means that (approximately) we are able to perfectly reconstruct the original graph gigen the embedding vectors. <br>\n",
    "NOTES:\n",
    "- We are free to choose the similarity function that is more meaningful w.r.t. the embedding strategy, for example the cosine similarity works perfectly with LINE embeddings, but very poorly for node2vec or Attention Walk. This is because of how the embeddings are generated: LINE embeddings are optimized to explicitly preserve proximity between nodes, making cosine similarity a natural measure of similarity. For other methods like Node2Vec and Attention Walk, the embeddings might encode other structural properties that cosine similarity fails to capture.\n",
    "- The computation of the reconstruction error might seem similar to a link prediction task, but there is a big key difference: in link prediction we are training a model providing examples, constituted by the features and the ground truth (1 = edge, 0 = no edge). During the computation of the RE instead we are only using the embeddings trying to guess the presence of edges, without ever having any information of the ground truth."
   ]
  },
  {
   "cell_type": "code",
   "execution_count": 103,
   "id": "0180ec5d-ce56-48ce-93af-06814b1b4742",
   "metadata": {},
   "outputs": [],
   "source": [
    "def similarity_function(x,y, sim_function = \"euclidean distance\"):\n",
    "    if sim_function == \"cosine similarity\":\n",
    "        return cosine_similarity(x.reshape(1, -1), y.reshape(1, -1))[0, 0]\n",
    "    if sim_function == \"euclidean distance\":\n",
    "        return -np.linalg.norm(x - y)  # since the returned value is interpreted as a similarity, - sign\n",
    "    \n",
    "def approximate_reconstruction_error(G, embeddings, sample_fraction=0.1, sim_function = \"euclidean distance\"):\n",
    "    \"\"\"\n",
    "    Computes an approximate reconstruction error for a graph embedding.\n",
    "    \n",
    "    Parameters:\n",
    "        G (nx.Graph): Input graph.\n",
    "        embeddings (np.ndarray): Embedding matrix (n_nodes x dimensions).\n",
    "        sample_fraction (float): Fraction of edges to sample for evaluation.\n",
    "        sim_function: defines what metric is used to establish the similarity between two embedding vectors\n",
    "    \n",
    "    Returns:\n",
    "        dict: Reconstruction error and additional statistics (e.g., FP, FN).\n",
    "    \"\"\"\n",
    "    if sim_function not in [\"cosine similarity\", \"euclidean distance\"]:\n",
    "        print(\"Possible values of sim_function: cosine similarity, euclidean distance\")\n",
    "        return None\n",
    "        \n",
    "    nodes = list(G.nodes())\n",
    "    n_samples = int(sample_fraction * G.number_of_edges())\n",
    "\n",
    "    # pick the samples to compute average cosine similarity of positive and negative edges\n",
    "    positive_edges = random.sample(list(G.edges()), n_samples)\n",
    "    negative_edges = []\n",
    "    while len(negative_edges) < len(positive_edges):\n",
    "        u, v = random.sample(nodes, 2)\n",
    "        if not G.has_edge(u, v) and (u, v) not in negative_edges and (v, u) not in negative_edges:\n",
    "            negative_edges.append((u, v))\n",
    "            \n",
    "    # average cos sim for existing edges\n",
    "    sim_pos = np.mean([similarity_function(embeddings[u], embeddings[v], sim_function) for u,v in positive_edges])\n",
    "    sim_neg = np.mean([similarity_function(embeddings[u], embeddings[v], sim_function) for u,v in negative_edges])\n",
    "\n",
    "    # define threshold for reconstruction of the graph\n",
    "    threshold = (sim_pos+sim_neg)/2\n",
    "\n",
    "    # pick new fresh samples to approximate the reconstructon ability of the graph\n",
    "    positive_edges = random.sample(list(G.edges()), n_samples)\n",
    "    negative_edges = []\n",
    "    while len(negative_edges) < len(positive_edges):\n",
    "        u, v = random.sample(nodes, 2)\n",
    "        if not G.has_edge(u, v) and (u, v) not in negative_edges and (v, u) not in negative_edges:\n",
    "            negative_edges.append((u, v))\n",
    "\n",
    "    errors = 0\n",
    "    fp = 0\n",
    "    fn = 0\n",
    "    samples = positive_edges + negative_edges  # concatenate the samples\n",
    "    for u,v in samples:\n",
    "        sim = similarity_function(embeddings[u], embeddings[v], sim_function)\n",
    "        prediction = True if sim >= threshold else False\n",
    "        if prediction == True and not G.has_edge(u, v):  # false positive\n",
    "            errors+=1\n",
    "            fp+=1\n",
    "        if prediction == False and  G.has_edge(u, v):  # false positive\n",
    "            errors+=1\n",
    "            fn+=1\n",
    "    re = errors/len(samples)\n",
    "    fp_rate = fp/len(samples)\n",
    "    fn_rate = fn/len(samples)\n",
    "    return {\n",
    "        \"re\": re,\n",
    "        \"fp_rate\": fp_rate,\n",
    "        \"fn_rate\": fn_rate,\n",
    "        \"sim_pos\": sim_pos,\n",
    "        \"sim_neg\": sim_neg\n",
    "    }\n",
    "    \n",
    "def print_reconstruction_error(dict, graph_name , embedding_technique, sim_function, show_all):\n",
    "    re = dict[\"re\"]\n",
    "    fp_rate = dict[\"fp_rate\"]\n",
    "    fn_rate = dict[\"fn_rate\"]\n",
    "    sim_pos = dict[\"sim_pos\"]\n",
    "    sim_neg = dict[\"sim_neg\"]\n",
    "    if show_all:\n",
    "        s = f\"RE ({sim_function}) of {graph_name} using {embedding_technique} = {re:.4f}. FP rate = {fp_rate:.4f}. FN rate = {fn_rate:.4f}. \"\n",
    "        s += f\"avg_pos = {sim_pos:.4f}, avg_neg = {sim_neg:.4f}\"\n",
    "        print(s)\n",
    "    else:\n",
    "        print(f\"RE of {graph_name} using {embedding_technique} = {re:.4f}\")\n",
    "        \n",
    "def compute_all_reconstruction_errors(graph_keys, embedding_keys, sample_fraction=0.1, sim_function = 'euclidean distance', show_all = True):\n",
    "    for graph_key in graph_keys:\n",
    "        for emb_key in embedding_keys:\n",
    "            G = graphs[graph_key]\n",
    "            E = embeddings[graph_key][emb_key]\n",
    "            if  E is not None and E.size != 0:\n",
    "                dict = approximate_reconstruction_error(G, E, sample_fraction = sample_fraction, sim_function = sim_function)\n",
    "                print_reconstruction_error(dict, graph_key, emb_key, sim_function, show_all = show_all)"
   ]
  },
  {
   "cell_type": "markdown",
   "id": "680dc3f3-8fa9-4563-b910-bf10da750a29",
   "metadata": {},
   "source": [
    "## Compute the RE\n",
    "Here you can compute the reconstruction error.<br>\n",
    "- Set graph_keys_RE with the keys of the graphs you are interested. graph_keys_RE = graph_keys for all graphs.<br>\n",
    "- set embedding_keys_RE with the keys of the embedding strategies you are interested. graph_keys_RE = embedding_keys for all embedding strategies.<br>"
   ]
  },
  {
   "cell_type": "code",
   "execution_count": 109,
   "id": "507c10ab-a648-4469-82b7-2ad908c1c3f3",
   "metadata": {},
   "outputs": [
    {
     "name": "stdout",
     "output_type": "stream",
     "text": [
      "RE (euclidean distance) of facebook using node2vec = 0.4960. FP rate = 0.1801. FN rate = 0.3159. avg_pos = -4.3801, avg_neg = -4.3910\n",
      "RE (euclidean distance) of biological using node2vec = 0.5444. FP rate = 0.2777. FN rate = 0.2668. avg_pos = -4.6331, avg_neg = -4.5180\n",
      "RE (euclidean distance) of proteins using node2vec = 0.5042. FP rate = 0.2458. FN rate = 0.2584. avg_pos = -5.8492, avg_neg = -5.8486\n",
      "RE (euclidean distance) of spam using node2vec = 0.4024. FP rate = 0.1851. FN rate = 0.2173. avg_pos = -4.1044, avg_neg = -4.4026\n"
     ]
    }
   ],
   "source": [
    "graph_keys_RE = [\"facebook\", \"biological\", \"proteins\", \"spam\"]\n",
    "embedding_keys_RE = [\"node2vec\"]\n",
    "\n",
    "sample_fraction = 0.05\n",
    "show_all = True\n",
    "sim_function = \"euclidean distance\"  # cosine similarity, euclidean distance\n",
    "\n",
    "compute_all_reconstruction_errors(graph_keys_RE, embedding_keys_RE, sample_fraction = sample_fraction, sim_function = sim_function, show_all = show_all)"
   ]
  },
  {
   "cell_type": "markdown",
   "id": "4ce44b9d-c39d-4c41-8d31-fbca41859cb6",
   "metadata": {},
   "source": [
    "# NODE CLASSIFICATION"
   ]
  },
  {
   "cell_type": "markdown",
   "id": "80c3296b-c090-4ac0-8121-1f5e2b1871c7",
   "metadata": {},
   "source": [
    "## Analysis of the datasets\n",
    "It is always a good idea to have a look at the datasets we are dealing with.<br>\n",
    "- features are the embeddings of the nodes, which is an D-dimensional vector, where D is the dimension of the specific embeddings\n",
    "we are using to training.\n",
    "- the labels represent the classes of the nodes. We can analyze the labels set to see how many different classes there are and understand how balanced the dataset is."
   ]
  },
  {
   "cell_type": "code",
   "execution_count": 14,
   "id": "87b8e962-b3fe-452a-9174-38adb7b05953",
   "metadata": {},
   "outputs": [
    {
     "name": "stdout",
     "output_type": "stream",
     "text": [
      "INFO DATASET PROTEINS GRAPH\n",
      "Number of samples: 43471\n",
      "Number of classes: 3\n",
      "Samples of class 0: 21151\n",
      "Samples of class 1: 20931\n",
      "Samples of class 2: 1389\n",
      "INFO DATASET SPAM GRAPH\n",
      "Number of samples: 9072\n",
      "Number of classes: 3\n",
      "Samples of class 2: 6365\n",
      "Samples of class 1: 594\n",
      "Samples of class 3: 2113\n"
     ]
    }
   ],
   "source": [
    "def analyze_labels(labels):\n",
    "    labels_count = {}\n",
    "    for label in labels.values():\n",
    "        if not label in labels_count.keys():\n",
    "            labels_count[label] = 0\n",
    "        labels_count[label] += 1\n",
    "    print(f\"Number of samples: {len(labels)}\")\n",
    "    print(f\"Number of classes: {len(labels_count)}\")\n",
    "    for label in labels_count.keys():\n",
    "        print(f\"Samples of class {label}: {labels_count[label]}\")\n",
    "\n",
    "print(\"INFO DATASET PROTEINS GRAPH\")\n",
    "analyze_labels(labels[\"proteins\"])\n",
    "\n",
    "print(\"INFO DATASET SPAM GRAPH\")\n",
    "analyze_labels(labels[\"spam\"])"
   ]
  },
  {
   "cell_type": "markdown",
   "id": "2b989ec4-f073-47ce-a580-41c7faa33c22",
   "metadata": {},
   "source": [
    "## Train and evaluate the model\n",
    "A support vector machine is trained from the dataset provided in input.<br>\n",
    "Class weights are used to handle the case of an imbalance dataset (some classes have considerably less examples than others).<br>\n",
    "The model is trained on 80% of the dataset (training set), while 20% of the dataset (test set) is left to make predictions and evaluate the performances of the classifier."
   ]
  },
  {
   "cell_type": "code",
   "execution_count": 24,
   "id": "982501d4-c3d3-4f9c-bdc6-0e15d6e56438",
   "metadata": {},
   "outputs": [],
   "source": [
    "def train_SVM(embeddings, labels):\n",
    "    \"\"\"\n",
    "    Train and evaluate an SVM classifier for multi-class node classification.\n",
    "\n",
    "    Parameters:\n",
    "        embeddings (np.ndarray): Numpy array where each row is a node's embedding.\n",
    "        labels (dict): Dictionary mapping node indices to their labels.\n",
    "\n",
    "    Returns:\n",
    "        dict: A dictionary with accuracy, F1 score, and a detailed classification report.\n",
    "    \"\"\"\n",
    "    # Ensure X (features) and y (labels) are aligned\n",
    "    X = np.array(embeddings)  # Node embeddings\n",
    "    scaler = StandardScaler()\n",
    "    X = scaler.fit_transform(X)  # normalization\n",
    "    y = np.array([labels[i] for i in range(len(labels))])  # Ensure correct ordering of labels\n",
    "    \n",
    "    X_train, X_test, y_train, y_test = train_test_split(X, y, test_size=0.2, random_state=41)\n",
    "\n",
    "    smote = SMOTE(random_state=42, sampling_strategy = 'auto') # (Synthetic Minority Oversampling Technique) \n",
    "    X_train, y_train = smote.fit_resample(X_train, y_train)  #resampling to handle imbalance dataset\n",
    "\n",
    "    #clf = SVC(kernel='rbf', class_weight = 'balanced', decision_function_shape='ovo')  # 'ovo' = one-vs-one for multi-class\n",
    "    clf = BalancedRandomForestClassifier(n_estimators=100, random_state=42, sampling_strategy = 'all', bootstrap = False, replacement = True)\n",
    "    clf.fit(X_train, y_train)\n",
    "\n",
    "    y_pred = clf.predict(X_test)\n",
    "\n",
    "    # Evaluate the classifier\n",
    "    accuracy = accuracy_score(y_test, y_pred)\n",
    "    f1 = f1_score(y_test, y_pred, average='macro')\n",
    "    report = classification_report(y_test, y_pred)\n",
    "\n",
    "    # Print results\n",
    "    print(\"SVM Classifier Results:\")\n",
    "    print(f\"Accuracy: {accuracy:.4f}\")\n",
    "    print(f\"Macro F1-Score: {f1:.4f}\")\n",
    "    print(\"Classification Report:\\n\", report)\n",
    "\n",
    "    # Return results as a dictionary\n",
    "    return {\"accuracy\": accuracy, \"macro_f1\": f1, \"report\": report}"
   ]
  },
  {
   "cell_type": "markdown",
   "id": "a9f07958-6c62-422a-83a6-885c2df44f53",
   "metadata": {},
   "source": [
    "## Choose the graph and the embedding strategy to train the model"
   ]
  },
  {
   "cell_type": "code",
   "execution_count": 27,
   "id": "d32ca218-3478-478e-8365-dba1092d8c32",
   "metadata": {
    "scrolled": true
   },
   "outputs": [
    {
     "name": "stdout",
     "output_type": "stream",
     "text": [
      "SVM Classifier Results:\n",
      "Accuracy: 0.6094\n",
      "Macro F1-Score: 0.3905\n",
      "Classification Report:\n",
      "               precision    recall  f1-score   support\n",
      "\n",
      "           1       0.30      0.24      0.27       134\n",
      "           2       0.68      0.81      0.74      1258\n",
      "           3       0.24      0.12      0.16       423\n",
      "\n",
      "    accuracy                           0.61      1815\n",
      "   macro avg       0.41      0.39      0.39      1815\n",
      "weighted avg       0.55      0.61      0.57      1815\n",
      "\n"
     ]
    }
   ],
   "source": [
    "embedding_key = \"LINE\"\n",
    "graph_key = \"spam\"\n",
    "x = train_SVM(embeddings[graph_key][embedding_key], labels[graph_key])"
   ]
  },
  {
   "cell_type": "markdown",
   "id": "c634f62e-ad49-480a-a4df-7045dcc42d8a",
   "metadata": {},
   "source": [
    "# LINK PREDICTION\n",
    "The link prediction task consists on training a model, logistic regression in this case, that given as input the features of a pair of nodes predicts whether the edge between them exists in the graph or not.<br>"
   ]
  },
  {
   "cell_type": "markdown",
   "id": "6d2c7493-a241-40e7-ba76-76663489b710",
   "metadata": {},
   "source": [
    "## PRODUCING THE DATASET\n",
    "We decided to produce a perfectly balanced dataset in this way: all the positive examples are all the pair of nodes (actually the features we decided to use to represent them) for which exists an edge in the graph.<br>\n",
    "The negative examples instead are created by chosing at random a pair of nodes, and if there is no edge between them such pair is a negative example. We repeat this procedure until the number of negative examples matches the number of positive examples<br>\n",
    "\n",
    "We defined 3 possible choices for the features representing pair of nodes:\n",
    "- The concatenation of the embeddings of the two nodes\n",
    "- The concatenation of the embeddings + the cosine similarity between those (a scalar)\n",
    "- Just the scalar cosine similarity between the two embeddings"
   ]
  },
  {
   "cell_type": "code",
   "execution_count": 28,
   "id": "3404fdd9-3796-448e-8caa-e9958d04d312",
   "metadata": {},
   "outputs": [],
   "source": [
    "def create_link_prediction_dataset(G, embeddings, add_cosine_sim = True):\n",
    "    \"\"\"\n",
    "    Creates a dataset for link prediction. if add_cosine_sim = False, the features are the concatenation\n",
    "    between the embedding of pair on nodes, if add_cosine_sim = True it is concatenated in addition the\n",
    "    cosine similarity between the two embeddings (1 additional feature)\n",
    "\n",
    "    Parameters:\n",
    "        G (nx.Graph): The input graph.\n",
    "        embeddings (np.ndarray): Node embeddings as a numpy array (indexed by node ID).\n",
    "        add_cosine_sim: if True the cosine similarity is concatenated to the embeddings to produce the features\n",
    "\n",
    "    Returns:\n",
    "        X (np.ndarray): Feature pairs with cosine similarity as an additional feature.\n",
    "        y (np.ndarray): Labels (1 for existing edges, 0 for non-existing edges).\n",
    "    \"\"\"\n",
    "    positive_edges = list(G.edges())\n",
    "    num_positive = len(positive_edges)\n",
    "\n",
    "    # Generate negative edges\n",
    "    nodes = list(G.nodes())\n",
    "    negative_edges = set()\n",
    "    while len(negative_edges) < num_positive:\n",
    "        u, v = random.sample(nodes, 2)\n",
    "        if not G.has_edge(u, v) and (u, v) not in negative_edges and (v, u) not in negative_edges:\n",
    "            negative_edges.add((u, v))\n",
    "\n",
    "    # Combine positive and negative edges\n",
    "    all_edges = positive_edges + list(negative_edges)\n",
    "    labels = [1] * len(positive_edges) + [0] * len(negative_edges)\n",
    "\n",
    "    # Create features from embeddings\n",
    "    X = []\n",
    "    for u, v in all_edges:\n",
    "        # Compute cosine similarity\n",
    "        u_emb = embeddings[u].reshape(1, -1)\n",
    "        v_emb = embeddings[v].reshape(1, -1)\n",
    "        if add_cosine_sim:         # Concatenate embeddings and cosine similarity\n",
    "            cosine_sim = cosine_similarity(u_emb, v_emb)[0, 0]\n",
    "            feature = np.concatenate([embeddings[u], embeddings[v], [cosine_sim]])\n",
    "        else:\n",
    "            feature = np.concatenate([embeddings[u], embeddings[v]])\n",
    "        X.append(feature)\n",
    "\n",
    "    X = np.array(X)\n",
    "    y = np.array(labels)\n",
    "\n",
    "    return X, y"
   ]
  },
  {
   "cell_type": "code",
   "execution_count": 29,
   "id": "288c487a-2dd1-4561-b97d-f60cce7f36a4",
   "metadata": {},
   "outputs": [],
   "source": [
    "def create_link_prediction_dataset_only_cosine_similarity(G, embeddings):\n",
    "    \"\"\"\n",
    "    Creates a dataset for link prediction, where each sample has a single feature (scalar), which is the cosine similarity\n",
    "    between the two nodes adjacent to the edge.\n",
    "    \"\"\"\n",
    "    positive_edges = list(G.edges())\n",
    "    num_positive = len(positive_edges)\n",
    "\n",
    "    # Generate negative edges\n",
    "    nodes = list(G.nodes())\n",
    "    negative_edges = set()\n",
    "    while len(negative_edges) < num_positive:\n",
    "        u, v = random.sample(nodes, 2)\n",
    "        if not G.has_edge(u, v) and (u, v) not in negative_edges and (v, u) not in negative_edges:\n",
    "            negative_edges.add((u, v))\n",
    "\n",
    "    # Combine positive and negative edges\n",
    "    all_edges = positive_edges + list(negative_edges)\n",
    "    labels = [1] * len(positive_edges) + [0] * len(negative_edges)\n",
    "\n",
    "    # Create features from embeddings\n",
    "    cosine_similarities = []\n",
    "    for u, v in all_edges:\n",
    "        # Compute cosine similarity\n",
    "        u_emb = embeddings[u].reshape(1, -1)\n",
    "        v_emb = embeddings[v].reshape(1, -1)\n",
    "        cosine_sim = cosine_similarity(u_emb, v_emb)[0, 0]\n",
    "        cosine_similarities.append(cosine_sim)\n",
    "\n",
    "    X = np.array(cosine_similarities).reshape(-1, 1)\n",
    "    y = np.array(labels)\n",
    "\n",
    "    return X, y"
   ]
  },
  {
   "cell_type": "markdown",
   "id": "6cba97a2-b3e4-4f42-ac7f-40230f913e5d",
   "metadata": {},
   "source": [
    "## TRAIN LOGISTIC REGRESSION CLASSIFIER"
   ]
  },
  {
   "cell_type": "code",
   "execution_count": 30,
   "id": "f2475125-54a2-426e-928d-06c883a5d6c9",
   "metadata": {},
   "outputs": [],
   "source": [
    "def LR_link_prediction(X,y):\n",
    "    \"\"\"\n",
    "    Train a logistic regression classifier for link prediction\n",
    "    \"\"\"\n",
    "    scaler = StandardScaler()\n",
    "    X = scaler.fit_transform(X)  # normalization\n",
    "    \n",
    "    X_train, X_test, y_train, y_test = train_test_split(X, y, test_size=0.2, random_state=41)\n",
    "\n",
    "    # Train logistic regression model\n",
    "    clf = LogisticRegression(max_iter = 1000)\n",
    "    clf.fit(X_train, y_train)\n",
    "    \n",
    "    # Predict and evaluate\n",
    "    y_pred = clf.predict(X_test)\n",
    "    print(\"Accuracy:\", accuracy_score(y_test, y_pred))\n",
    "    print(\"ROC AUC Score:\", roc_auc_score(y_test, clf.predict_proba(X_test)[:, 1]))\n",
    "    print(\"Classification Report:\\n\", classification_report(y_test, y_pred))"
   ]
  },
  {
   "cell_type": "code",
   "execution_count": 32,
   "id": "3322c1d5-2ffb-40ca-a377-4079d41d5ae6",
   "metadata": {},
   "outputs": [
    {
     "name": "stdout",
     "output_type": "stream",
     "text": [
      "Accuracy: 0.9004864357240084\n",
      "ROC AUC Score: 0.9540717218359781\n",
      "Classification Report:\n",
      "               precision    recall  f1-score   support\n",
      "\n",
      "           0       0.90      0.90      0.90     94573\n",
      "           1       0.90      0.90      0.90     94969\n",
      "\n",
      "    accuracy                           0.90    189542\n",
      "   macro avg       0.90      0.90      0.90    189542\n",
      "weighted avg       0.90      0.90      0.90    189542\n",
      "\n"
     ]
    }
   ],
   "source": [
    "embedding_key = \"LINE\"\n",
    "graph_key = \"spam\"\n",
    "X,y = create_link_prediction_dataset_only_cosine_similarity(graphs[graph_key], embeddings[graph_key][embedding_key])\n",
    "LR_link_prediction(X,y)"
   ]
  },
  {
   "cell_type": "markdown",
   "id": "9965b90c-61d8-4b4b-afc8-2e0f6211fbda",
   "metadata": {},
   "source": [
    "## Neighborhood preservation\n",
    "To compute the top-k nearest neighbors (k-NN) we use FAISS (Facebook AI Similarity Search), which is an approximation algorithm to compute the k-NN for each node in the graph. Since we are evaluating neighborhood preservation of the embeddings, we excluded from the top-k list the node itself (FAISS include by default the node itself as its nearest neighbor).<br>\n",
    "The neighborhood preservation score is defined as follow:<br>\n",
    "\n",
    "INPUT:\n",
    "- G = (V,E): undirected graph\n",
    "- embeddings: numpy array, where embeddings[i] is the embedding vector of node i in G\n",
    "- k: for each node are extracted the top-k neighbors in the embedding space\n",
    "- order: can be either 1 or 2. The neighborhood of u G is defined as the set of nodes reachable from u with a path of lenght \"order\" (1 or 2)\n",
    "\n",
    "OUTPUT: neighborhood preservation score\n",
    "\n",
    "<pre>\n",
    "neighborhood_preservation_score(G, embeddings, k, order)\n",
    "    \n",
    "extract top-k neighbors in embedding space using FAISS for each node in V\n",
    "for each node v in V:\n",
    "    let i be the order of neighborhood considered\n",
    "    let Nv be the set of i-th order neighborhood of v\n",
    "    let k-NNv be the set of top-k nearest neighbors of v in the embedding space (euclidean distance)\n",
    "    overlap <---- |Nv INTERSECTION k-NNv|\n",
    "    normalization <---- MIN{|Nv|, k}   (k = |k-NNv|)\n",
    "    score(v) <---- overlap / normalization\n",
    "n_p_score <---- (sum of score(v) for all v in V) / |V|\n",
    "return n_p_score\n",
    "</pre>\n",
    "\n",
    "The returned score is always in the interval [0,1]. The goal of the neighborhood preservation score is to have a an ojbective quantity\n",
    "that tells if the neighbors of the nodes in the embeddings space match with the actual neighbors of the nodes in the graph. \n",
    "<br>\n",
    "\n",
    "Consider a node v.\n",
    "- if |Nv| <= k ( MIN = |Nv|), then the score represents how many nodes in Nv are also in k-NNv. (1 = all |Nv| nodes, 0 = none)\n",
    "- if |Nv| > k ( MIN = k), then the score represents how many nodes in k-NNv are also in Nv. (1 = all k nodes, 0 = none)\n"
   ]
  },
  {
   "cell_type": "code",
   "execution_count": 75,
   "id": "8d50d040-7c01-4ad4-8789-5627b210d801",
   "metadata": {},
   "outputs": [],
   "source": [
    "import faiss\n",
    "\n",
    "def get_k_nearest_neighbors(embeddings, k = 5):\n",
    "    # Create FAISS index for L2 similarity\n",
    "    dimension = embeddings.shape[1]\n",
    "    index = faiss.IndexFlatL2(dimension)\n",
    "    \n",
    "    # Add embeddings to the index\n",
    "    index.add(embeddings)\n",
    "    \n",
    "    # Query for top-k nearest neighbors\n",
    "    distances, indices = index.search(embeddings, k + 1)  # Query for k+1 neighbors\n",
    "    top_k_neighbors = [ind[1:] for ind in indices]  # Exclude self (first neighbor)\n",
    "    return top_k_neighbors\n",
    "\n",
    "def neighborhood_preservation_score(G, embeddings, k = 5, order = 1):\n",
    "    if order not in [1,2]:\n",
    "        print(\"Order must be either 1 (first order neighborhood) or 2 (second order neighborhood)\")\n",
    "    top_k_neighbors = get_k_nearest_neighbors(embeddings, k=k)\n",
    "    scores = []\n",
    "    for v in G.nodes():\n",
    "        Nv = set(G.neighbors(v))\n",
    "        if order == 2:\n",
    "            for u in G.neighbors(v):\n",
    "                Nv = Nv.union(set(G.neighbors(u)))\n",
    "        k_NN = set(top_k_neighbors[v])\n",
    "        overlap = len(Nv & k_NN)\n",
    "        normalization = min(len(Nv), k)\n",
    "        scores.append(overlap/normalization)\n",
    "    return np.mean(scores)"
   ]
  },
  {
   "cell_type": "code",
   "execution_count": 90,
   "id": "837c1ebf-6e5d-46d6-9651-a04a0bbde73e",
   "metadata": {},
   "outputs": [
    {
     "name": "stdout",
     "output_type": "stream",
     "text": [
      "Order 2 neighborhood preservation score of facebook with node2vec: 0.3947016588264422\n"
     ]
    }
   ],
   "source": [
    "g_keys = [\"facebook\"]\n",
    "e_keys = [\"node2vec\"]\n",
    "order = 2\n",
    "\n",
    "for gk in g_keys:\n",
    "    for ek in e_keys:       \n",
    "        G = graphs[gk]\n",
    "        E = embeddings[gk][ek]\n",
    "        score = neighborhood_preservation_score(G, E, k = 5, order = order)\n",
    "        print(f\"Order {order} neighborhood preservation score of {gk} with {ek}: {score}\")"
   ]
  },
  {
   "cell_type": "code",
   "execution_count": null,
   "id": "4b23d629-7177-4fc1-b571-d15311d22a14",
   "metadata": {},
   "outputs": [],
   "source": []
  }
 ],
 "metadata": {
  "kernelspec": {
   "display_name": "Python 3 (ipykernel)",
   "language": "python",
   "name": "python3"
  },
  "language_info": {
   "codemirror_mode": {
    "name": "ipython",
    "version": 3
   },
   "file_extension": ".py",
   "mimetype": "text/x-python",
   "name": "python",
   "nbconvert_exporter": "python",
   "pygments_lexer": "ipython3",
   "version": "3.8.0"
  }
 },
 "nbformat": 4,
 "nbformat_minor": 5
}
