{
 "cells": [
  {
   "cell_type": "markdown",
   "id": "bda4e133-8221-48cb-9c4f-bce54f81dc71",
   "metadata": {},
   "source": [
    "# Learning from networks project\n",
    "### Evaluation of different Node Embedding algorithms\n",
    "Members:<br>\n",
    "- D'Emilio Filippo, id : 2120931\n",
    "- Volpato Pietro, id : 2120825\n",
    "\n",
    "### Information about the notebook"
   ]
  },
  {
   "cell_type": "code",
   "execution_count": 1,
   "id": "a643ad2a-470f-4eca-8cb2-1fc209541c74",
   "metadata": {},
   "outputs": [],
   "source": [
    "import numpy as np\n",
    "import networkx as nx\n",
    "import matplotlib.pyplot as plt\n",
    "from sklearn.metrics import mean_squared_error\n",
    "from sklearn.metrics.pairwise import cosine_similarity\n",
    "from sklearn.decomposition import PCA\n",
    "import gzip\n",
    "import re\n",
    "import os"
   ]
  },
  {
   "cell_type": "markdown",
   "id": "b60d9ed8-3910-48db-a759-ee09a3c3f673",
   "metadata": {},
   "source": [
    "# configuration\n",
    "Here you can properly configure the names of the graphs and the names of the embedding strategies. Use meaningful names."
   ]
  },
  {
   "cell_type": "code",
   "execution_count": 2,
   "id": "e77bf3ab-83c4-46d5-b007-3982b64bc9ae",
   "metadata": {},
   "outputs": [],
   "source": [
    "graph_keys = [\"facebook\",\"citation\",\"biological\",\"CL\",\"COX2\"]\n",
    "embedding_keys = [\"LINE\"]"
   ]
  },
  {
   "cell_type": "markdown",
   "id": "034f0b75-4676-40ba-b40b-cf8a0a4d7d49",
   "metadata": {},
   "source": [
    "### Functions temporary container"
   ]
  },
  {
   "cell_type": "code",
   "execution_count": 3,
   "id": "e7f9f1f0-5afb-40db-84da-951f2c5dbc92",
   "metadata": {},
   "outputs": [],
   "source": [
    "def plot_PCA(embeddings, graph_name = \"G\"):\n",
    "    # Reduce dimensions to 2D using PCA\n",
    "    pca = PCA(n_components=2)\n",
    "    pca_embeddings = pca.fit_transform(embeddings)\n",
    "    \n",
    "    plt.scatter(pca_embeddings[:, 0], pca_embeddings[:, 1], s=10)\n",
    "    plt.title(f\"Visualization in 2D of the embeddings of {graph_name} graph.\")\n",
    "    plt.xlabel(\"PCA Component 1\")\n",
    "    plt.ylabel(\"PCA Component 2\")\n",
    "    plt.figsize(5)\n",
    "    plt.show()\n",
    "\n",
    "#plot_PCA(embeddings_facebook[\"LINE\"], \"facebook\")\n",
    "#plot_PCA(embeddings_CL[\"LINE\"], \"CL\")\n",
    "#plot_PCA(embeddings_biological[\"LINE\"], \"biological\")"
   ]
  },
  {
   "cell_type": "markdown",
   "id": "7e598ebc-0beb-4076-abc7-b185f437fb7e",
   "metadata": {},
   "source": [
    "# Loading the embeddings\n",
    "Now we load the embeddings, which should be stored as a file in the /embeddings folder as a .npy file.<br>\n",
    "*NOTE*: the file names must respect the format: \"embeddings_{graph_key}_{embedding_key}.npy\".<br>\n",
    "Embeddings are stored in a dictionary of dictionaries.<br>\n",
    "The first index refer to the graph (e.g. embeddings[\"facebook\"] contains the embeddings of the facebook graph for every embedding technique).<br>\n",
    "The second index refer to the embedding technique (e.g. embeddings[\"facebook\"][\"LINE\"] cointans the embedding of facebook graph computed using LINE)"
   ]
  },
  {
   "cell_type": "code",
   "execution_count": 4,
   "id": "2ab0adc4-e065-4bc3-8296-39ca7a42eca9",
   "metadata": {},
   "outputs": [],
   "source": [
    "def load(name):\n",
    "    \"\"\"\n",
    "    Loads a NumPy array from a file. If the file is not found, \n",
    "    displays a warning and returns None.\n",
    "\n",
    "    Parameters:\n",
    "        name (str): The name of the file (without extension) to load from the 'embeddings' directory.\n",
    "\n",
    "    Returns:\n",
    "        np.ndarray or None: The loaded NumPy array, or None if the file is not found.\n",
    "    \"\"\"\n",
    "    file_name = f\"embeddings/{name}.npy\"\n",
    "    if not os.path.exists(file_name):\n",
    "        print(f\"Warning: File '{file_name}' not found.\")\n",
    "        return None\n",
    "\n",
    "    emb = np.load(file_name)\n",
    "    return emb\n",
    "\n",
    "embeddings = {}\n",
    "for k in graph_keys:\n",
    "    embeddings[k] = {}\n",
    "\n",
    "for graph_key in graph_keys:\n",
    "    for emb_key in embedding_keys:\n",
    "        emb_key.lower()\n",
    "        graph_key.lower()\n",
    "        s = f\"embeddings_{graph_key}_{emb_key}\"\n",
    "        embeddings[graph_key][emb_key] = load(s)"
   ]
  },
  {
   "cell_type": "markdown",
   "id": "da0573ed-f2fa-4226-88f4-ebbcf1c470e4",
   "metadata": {},
   "source": [
    "# Loading the graphs\n",
    "Selected graphs:\n",
    "- Facebook_combined    https://snap.stanford.edu/data/ego-Facebook.html          \n",
    "- cit-Helpth           https://networkrepository.com/cit-HepTh.php             \n",
    "- bio-CE-CX            https://networkrepository.com/bio-CE-CX.php             \n",
    "- CL-100K-1d8-L9       https://networkrepository.com/CL-100K-1d8-L9.php ---- the graph has node labels\n",
    "- COX2-MD              https://networkrepository.com/COX2-MD.php  ---- the graph has node labels\n",
    "\n",
    "To run this notebook, adjust the paths to match where the files are saved in your PC.<br>\n",
    "To keep paths as they are, create a \"data\" folder inside the directory of this notebook, and store the files there.<br><br>\n",
    "\n",
    "Graphs are stored as a dictionary: the key is the graph name, the value is the corresponding netowrkx graph.<br>"
   ]
  },
  {
   "cell_type": "code",
   "execution_count": 5,
   "id": "067626d5-62a8-42a3-bf77-6952d5af8cc6",
   "metadata": {},
   "outputs": [],
   "source": [
    "facebook_path = 'data/facebook_combined.txt.gz'\n",
    "citation_path = 'data/cit-HepTh.edges'\n",
    "biological_path = 'data/bio-CE-CX.edges'\n",
    "CL_path = \"data/CL-100K-1d8-L9/CL-100K-1d8-L9.edges\"\n",
    "COX2_path = \"data/COX2-MD/COX2-MD.edges\""
   ]
  },
  {
   "cell_type": "code",
   "execution_count": 12,
   "id": "b13a0738-853b-40ab-a2fc-2f7d9c0a24ed",
   "metadata": {},
   "outputs": [],
   "source": [
    "def load_graph(path):\n",
    "    \"\"\"\n",
    "    For files with extension .edges\n",
    "    \"\"\"\n",
    "    G = nx.Graph()\n",
    "    with open(path, 'rt') as f:\n",
    "        for line in f:\n",
    "            if line.startswith('%'):  # Skip comment lines\n",
    "                continue\n",
    "            # Split the line based on spaces or commas\n",
    "            data = re.split(r'[,\\s]+', line.strip())\n",
    "            if len(data) < 2:  # Skip lines that don't have at least two columns\n",
    "                continue\n",
    "            # Extract the first two columns (nodes)\n",
    "            node1, node2 = int(data[0]), int(data[1])\n",
    "            G.add_edge(node1, node2)\n",
    "    G = nx.convert_node_labels_to_integers(G)  # Relabel nodes to integers\n",
    "    return G\n",
    "\n",
    "def load_graph_with_gz(path):\n",
    "    \"\"\"\n",
    "    For files with extension .txt.gz\n",
    "    \"\"\"\n",
    "    G = nx.Graph()\n",
    "    with gzip.open(path, 'rt') as f:\n",
    "        for line in f:\n",
    "            node1, node2 = map(int, line.strip().split())\n",
    "            G.add_edge(node1, node2)\n",
    "    G = nx.convert_node_labels_to_integers(G)  # Relabel nodes to integers\n",
    "    return G\n",
    "\n",
    "def print_graphs_info(graphs):\n",
    "    for k in graph_keys:\n",
    "        G = graphs[k]\n",
    "        print(f\"{k}: |V|={len(G.nodes)}, |E|={len(G.edges)}\")"
   ]
  },
  {
   "cell_type": "code",
   "execution_count": 13,
   "id": "1b659245-9c28-4968-8261-b5a05ea83ec0",
   "metadata": {},
   "outputs": [
    {
     "name": "stdout",
     "output_type": "stream",
     "text": [
      "facebook: |V|=4039, |E|=88234\n",
      "citation: |V|=22908, |E|=2444798\n",
      "biological: |V|=15229, |E|=245952\n",
      "CL: |V|=92482, |E|=436611\n",
      "COX2: |V|=7962, |E|=101542\n"
     ]
    }
   ],
   "source": [
    "graphs = {}\n",
    "\n",
    "# facebook graph is the only one .tar.gz        \n",
    "graphs[graph_keys[0]] = load_graph_with_gz(facebook_path)  # relabeling nodes to integer\n",
    "graphs[graph_keys[1]] = load_graph(citation_path)\n",
    "graphs[graph_keys[2]] = load_graph(biological_path)\n",
    "graphs[graph_keys[3]] = load_graph(CL_path)  # node labeled\n",
    "graphs[graph_keys[4]] = load_graph(COX2_path)  # node labeled\n",
    "\n",
    "print_graphs_info(graphs)"
   ]
  },
  {
   "cell_type": "markdown",
   "id": "0bcbf757-a870-4245-a68c-acfc79b39e06",
   "metadata": {},
   "source": [
    "# Reconstruction error"
   ]
  },
  {
   "cell_type": "code",
   "execution_count": 14,
   "id": "0180ec5d-ce56-48ce-93af-06814b1b4742",
   "metadata": {},
   "outputs": [],
   "source": [
    "# The reconstruction error data structure is built as the embeddings data structure.\n",
    "RE = {}\n",
    "for k in graph_keys:\n",
    "    RE[k] = {}\n",
    "\n",
    "def reconstruction_error(G, embeddings):\n",
    "    \"\"\"\n",
    "    Computes the reconstruction error of the graph by comparing cosine similarity\n",
    "    only for existing edges in the graph, avoiding dense adjacency matrix computations.\n",
    "    The reason is that for large graph an exact computation causes memory issues, due to very large matrices.\n",
    "\n",
    "    Parameters:\n",
    "        G (networkx.Graph): The input graph.\n",
    "        embeddings (NumPy array): numpy array containing the embeddings, each row is a node embedding\n",
    "\n",
    "    Returns:\n",
    "        float: The reconstruction error as the average squared difference for existing edges.\n",
    "    \"\"\"\n",
    "    # Convert embeddings to matrix\n",
    "    embedding_vectors = np.array([embeddings[node] for node in G.nodes])\n",
    "\n",
    "    # Compute similarities only for existing edges\n",
    "    error = 0\n",
    "    for u, v in G.edges():\n",
    "        u_vec = embedding_vectors[u].reshape(1, -1)\n",
    "        v_vec = embedding_vectors[v].reshape(1, -1)\n",
    "        sim = cosine_similarity(u_vec, v_vec)[0, 0]\n",
    "        error += (1 - sim) ** 2\n",
    "\n",
    "    return error / G.number_of_edges()\n",
    "\n",
    "def print_reconstruction_error(err, graph_name , embedding_technique):\n",
    "    print(f\"RE of {graph_name} graph using {embedding_technique}: {err}\")\n",
    "\n",
    "def compute_all_reconstruction_errors(graph_keys, embedding_keys, show_results = True):\n",
    "    for graph_key in graph_keys:\n",
    "        if show_results:\n",
    "            print(f\"\\nReconstruction errors for {graph_key} graph:\\n\")\n",
    "        for emb_key in embedding_keys:     \n",
    "            RE[graph_key][emb_key]= reconstruction_error(graphs[graph_key], embeddings[graph_key][emb_key])\n",
    "            if show_results:\n",
    "                print_reconstruction_error(RE[graph_key][emb_key], graph_key, emb_key)"
   ]
  },
  {
   "cell_type": "code",
   "execution_count": null,
   "id": "507c10ab-a648-4469-82b7-2ad908c1c3f3",
   "metadata": {},
   "outputs": [
    {
     "name": "stdout",
     "output_type": "stream",
     "text": [
      "Reconstruction errors for facebook graph\n",
      "RE of facebook graph using LINE: 0.11006272702076819\n",
      "Reconstruction errors for citation graph\n"
     ]
    }
   ],
   "source": [
    "compute_all_reconstruction_errors(graph_keys, embedding_keys, show_results = True)"
   ]
  },
  {
   "cell_type": "code",
   "execution_count": null,
   "id": "d32ca218-3478-478e-8365-dba1092d8c32",
   "metadata": {},
   "outputs": [],
   "source": []
  }
 ],
 "metadata": {
  "kernelspec": {
   "display_name": "Python 3 (ipykernel)",
   "language": "python",
   "name": "python3"
  },
  "language_info": {
   "codemirror_mode": {
    "name": "ipython",
    "version": 3
   },
   "file_extension": ".py",
   "mimetype": "text/x-python",
   "name": "python",
   "nbconvert_exporter": "python",
   "pygments_lexer": "ipython3",
   "version": "3.8.0"
  }
 },
 "nbformat": 4,
 "nbformat_minor": 5
}
