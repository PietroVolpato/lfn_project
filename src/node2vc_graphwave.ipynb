{
 "cells": [
  {
   "cell_type": "markdown",
   "id": "d121cbd5",
   "metadata": {
    "id": "d121cbd5"
   },
   "source": [
    "<a href=\"https://colab.research.google.com/github/PietroVolpato/lfn_project/blob/main/src/LFN_project_embeddings.ipynb\" target=\"_parent\"><img src=\"https://colab.research.google.com/assets/colab-badge.svg\" alt=\"Open In Colab\"/></a>"
   ]
  },
  {
   "cell_type": "markdown",
   "id": "358080be-e62b-4a82-b8d3-e5becb180aac",
   "metadata": {
    "id": "358080be-e62b-4a82-b8d3-e5becb180aac"
   },
   "source": [
    "# Learning from networks project\n",
    "### Evaluation of different Node Embedding algorithms\n",
    "Members:<br>\n",
    "- D'Emilio Filippo, id : 2120931\n",
    "- Volpato Pietro, id : 2120825\n",
    "\n",
    "### Introduction to the project\n",
    " ---- to do ----\n"
   ]
  },
  {
   "cell_type": "markdown",
   "id": "sV4UQZva4C0Q",
   "metadata": {
    "id": "sV4UQZva4C0Q"
   },
   "source": []
  },
  {
   "cell_type": "markdown",
   "id": "99cc3ec4-7b01-4806-8c92-32e5f7334af7",
   "metadata": {
    "id": "99cc3ec4-7b01-4806-8c92-32e5f7334af7"
   },
   "source": [
    "### Required installations:\n"
   ]
  },
  {
   "cell_type": "markdown",
   "id": "6cada866-0a47-4ea1-8f2d-b90ff50e1815",
   "metadata": {
    "colab": {
     "base_uri": "https://localhost:8080/"
    },
    "id": "Gh8uol2ZKose",
    "outputId": "27bcd0e9-ed66-4dcc-8b71-26b32ab1a197"
   },
   "source": [
    "!pip install node2vec\n",
    "!pip install requests"
   ]
  },
  {
   "cell_type": "markdown",
   "id": "bb1d3b60-f774-4fc7-b0bc-7617057d6459",
   "metadata": {
    "id": "bb1d3b60-f774-4fc7-b0bc-7617057d6459"
   },
   "source": [
    "### Imports"
   ]
  },
  {
   "cell_type": "code",
   "execution_count": 2,
   "id": "93987c53-ecce-41d6-948b-4a4b7ac4978a",
   "metadata": {
    "id": "93987c53-ecce-41d6-948b-4a4b7ac4978a"
   },
   "outputs": [],
   "source": [
    "import numpy as np\n",
    "import networkx as nx\n",
    "import matplotlib.pyplot as plt\n",
    "from node2vec import Node2Vec\n",
    "from sklearn.metrics import mean_squared_error\n",
    "from sklearn.metrics.pairwise import cosine_similarity\n",
    "import gzip\n",
    "import urllib.request\n",
    "import requests\n",
    "import sys\n"
   ]
  },
  {
   "cell_type": "markdown",
   "id": "79f6ca3e-b5f5-4869-a3ef-47fb66cd7c56",
   "metadata": {
    "id": "79f6ca3e-b5f5-4869-a3ef-47fb66cd7c56"
   },
   "source": [
    "### Loading the graphs\n",
    "Adjust the paths of the graphs according to where are stored on your pc."
   ]
  },
  {
   "cell_type": "code",
   "execution_count": 3,
   "id": "TtpPrXlsIUgJ",
   "metadata": {
    "id": "TtpPrXlsIUgJ"
   },
   "outputs": [],
   "source": [
    "facebook_path = 'facebook_combined.txt.gz' # commentala non cancellarla\n",
    "cit_path = 'cit-HepTh.edges'\n",
    "biological_path = 'bio-CE-CX.edges'"
   ]
  },
  {
   "cell_type": "code",
   "execution_count": 4,
   "id": "c2ab6207-3fe1-44b0-bf8e-636a7d9f9f2b",
   "metadata": {
    "colab": {
     "base_uri": "https://localhost:8080/"
    },
    "id": "c2ab6207-3fe1-44b0-bf8e-636a7d9f9f2b",
    "outputId": "b810991c-26ec-47d1-b2c3-248de16db6fe"
   },
   "outputs": [
    {
     "name": "stdout",
     "output_type": "stream",
     "text": [
      "Facebook graph: |V|=4039, |E|=88234\n",
      "citation graph: |V|=22908, |E|=2444798\n",
      "ENZYMES graph: |V|=15229, |E|=245952\n"
     ]
    }
   ],
   "source": [
    "G_facebook = nx.Graph()\n",
    "\n",
    "filename = 'facebook_combined.txt.gz'\n",
    "with gzip.open(facebook_path, 'rt') as f:\n",
    "    for line in f:\n",
    "        node1, node2 = map(int, line.strip().split())\n",
    "        G_facebook.add_edge(node1, node2)\n",
    "print(f\"Facebook graph: |V|={len(G_facebook.nodes)}, |E|={len(G_facebook.edges)}\")\n",
    "\n",
    "G_citation = nx.Graph()\n",
    "\n",
    "with open(cit_path, 'r') as f:\n",
    "    for line in f:     # data in this file is formatted differently\n",
    "        if line.startswith('%'): # Skip comment lines\n",
    "            continue\n",
    "        # Split the line and extract the first two columns (nodes)\n",
    "        data = line.strip().split()\n",
    "        node1, node2 = int(data[0]), int(data[1])\n",
    "        G_citation.add_edge(node1, node2)\n",
    "print(f\"citation graph: |V|={len(G_citation.nodes)}, |E|={len(G_citation.edges)}\")\n",
    "\n",
    "G_biological = nx.Graph()\n",
    "with open(biological_path, 'rt') as f:\n",
    "    for line in f:\n",
    "        data = line.strip().split()\n",
    "        node1, node2 = int(data[0]), int(data[1])\n",
    "        G_biological.add_edge(node1, node2)\n",
    "print(f\"ENZYMES graph: |V|={len(G_biological.nodes)}, |E|={len(G_biological.edges)}\")"
   ]
  },
  {
   "cell_type": "markdown",
   "id": "66b0aada-e8df-421a-bf3a-d40c09885e40",
   "metadata": {
    "id": "66b0aada-e8df-421a-bf3a-d40c09885e40"
   },
   "source": [
    "Spiegazione sui parametri di node2vec:<br>\n",
    "- G (required): The graph on which to run Node2Vec. Must be an undirected networkx.Graph object.\n",
    "- dimensions (default = 128): The dimensionality of the node embeddings. Higher dimensions allow for capturing more information but increase computational cost.\n",
    "- walk_length (default = 80): The number of steps for each random walk. A larger walk_length captures more of the network structure.\n",
    "- num_walks (default = 10): The number of random walks to start per node. Increasing this can improve the representation at the cost of additional computation.\n",
    "- workers (default = 1): The number of CPU cores to use for parallel processing. If you're running this on a multi-core machine, increasing this can speed up the computation.\n",
    "- p (return parameter): p<1: Increases the likelihood of revisiting a node (DFS-like behavior). p>1: Discourages revisiting nodes, encouraging exploration (BFS-like behavior).\n",
    "- q (in-out parameter): q<1: Encourages walks to nodes further away from the starting node (BFS-like).q>1: Biases walks to nodes closer to the starting node (DFS-like).\n",
    "\n",
    "Spiegazione di : model = node2vec.fit(window=5, min_count=1, batch_words=4)<br>\n",
    "This trains a Word2Vec model (from the gensim library) using the random walks. Let’s go over the parameters:<br>\n",
    "\n",
    "- window (default = 10): The maximum distance between the current and predicted nodes in the random walk sequence. Larger windows capture more context but require more computation.\n",
    "\n",
    "- min_count (default = 1): Minimum frequency for a node to be considered in the embedding. Since most graphs are sparse, this is often set to 1.\n",
    "\n",
    "- batch_words (default = 4): The number of words (or nodes) processed in each training batch. Adjust this for performance depending on your hardware."
   ]
  },
  {
   "cell_type": "code",
   "execution_count": 5,
   "id": "uGXltpAgVuYp",
   "metadata": {
    "id": "uGXltpAgVuYp"
   },
   "outputs": [],
   "source": [
    "def reconstruction_error(G, embeddings):\n",
    "    # Adjacency matrix of the original graph\n",
    "    A = nx.to_numpy_array(G)\n",
    "\n",
    "    # Compute similarity matrix from embeddings\n",
    "    embedding_vectors = np.array([embeddings[node] for node in G.nodes])\n",
    "    similarity_matrix = cosine_similarity(embedding_vectors)\n",
    "\n",
    "    # Normalize similarity matrix to match adjacency scale\n",
    "    similarity_matrix = (similarity_matrix - similarity_matrix.min()) / (\n",
    "        similarity_matrix.max() - similarity_matrix.min()\n",
    "    )\n",
    "\n",
    "    # Compute reconstruction error (MSE)\n",
    "    mse = mean_squared_error(A.flatten(), similarity_matrix.flatten())\n",
    "    return mse"
   ]
  },
  {
   "cell_type": "markdown",
   "id": "d7649b02-023b-4ec3-b1e7-4d051776d0f2",
   "metadata": {
    "id": "d7649b02-023b-4ec3-b1e7-4d051776d0f2"
   },
   "source": [
    "# Node2Vec"
   ]
  },
  {
   "cell_type": "code",
   "execution_count": 6,
   "id": "c54d5a3a-a0ff-4044-8ba4-808588927dba",
   "metadata": {
    "colab": {
     "base_uri": "https://localhost:8080/",
     "height": 405,
     "referenced_widgets": [
      "08a2aa42a02244cca504a2553ee3a9d3",
      "121ff0f0d9a940ab9ebf233013e0526a",
      "8a997cdf9e1f4141a65e806dcf974c65",
      "4d686c59f72c4a07a244a1d9183e9855",
      "3b98a185484e4302abe56263ada93980",
      "e587efe0fc234ea4b413cb1ab80bf9ac",
      "255e4240da824b8ab6c035a659407984",
      "385aa92c3d8541dc9de0ef77007a3bfa",
      "1800b26997924888a4fbfea29ceaf1d6",
      "341b42b7c516425bae603d44be7e8aa8",
      "465fcc5fe5cb44189b3647adc27d29d2"
     ]
    },
    "id": "c54d5a3a-a0ff-4044-8ba4-808588927dba",
    "outputId": "866852e5-e669-4cb7-ec76-c02effbe9815"
   },
   "outputs": [],
   "source": [
    "def embedding_node2vec(G, dimensions=128, walk_length=10, num_walks=20, p=1, q=1, workers=1):\n",
    "  node2vec = Node2Vec(G, dimensions, walk_length, num_walks, p, q, workers)\n",
    "  model = node2vec.fit(window=10, min_count=1, batch_words=4)\n",
    "  embeddings = {node: model.wv[node] for node in G.nodes}\n",
    "  return embeddings\n",
    "\n",
    "\n",
    "#embeddings_facebook_node2vec = embedding_node2vec(G_facebook)\n",
    "#embeddings_citation_node2vec = embedding_node2vec(G_citation)\n",
    "#embeddings_biological_node2vec = embedding_node2vec(G_biological)\n",
    "\n",
    "#print(reconstruction_error(G_biological, embeddings_biological_node2vec))\n"
   ]
  },
  {
   "cell_type": "markdown",
   "id": "XVf9VoyVkXMO",
   "metadata": {
    "id": "XVf9VoyVkXMO"
   },
   "source": [
    "# GraphWave\n",
    "git clone https://github.com/snap-stanford/graphwave.git"
   ]
  },
  {
   "cell_type": "code",
   "execution_count": null,
   "id": "Y-6r-mSHw4QO",
   "metadata": {
    "id": "Y-6r-mSHw4QO"
   },
   "outputs": [],
   "source": []
  },
  {
   "cell_type": "code",
   "execution_count": 18,
   "id": "z0wJAhcDo2mx",
   "metadata": {
    "colab": {
     "base_uri": "https://localhost:8080/",
     "height": 408
    },
    "id": "z0wJAhcDo2mx",
    "outputId": "74afc3ef-4602-4b66-89db-db5e14d410ea"
   },
   "outputs": [],
   "source": [
    "# Add the path to the directory containing graphwave.py\n",
    "sys.path.append(r'C:\\Users\\oppil\\OneDrive\\Desktop\\Universita\\magistrale\\2_1\\LFN\\graphwave_pkg\\graphwave')\n",
    "# Import graphwave.py as a module\n",
    "import graphwave\n",
    "# Define time points\n",
    "time_pnts = np.linspace(0, 10, 50)\n",
    "# Use the graphwave_alg function\n",
    "chi, heat_print, taus = graphwave.graphwave_alg(G_facebook, time_pnts, verbose=True, order = 40)"
   ]
  },
  {
   "cell_type": "markdown",
   "id": "13ac4a49-1a15-462e-8504-33759c1a9919",
   "metadata": {},
   "source": [
    "#### show the embedding in 2D with PCA"
   ]
  },
  {
   "cell_type": "code",
   "execution_count": 17,
   "id": "a7f48948-72a1-49a2-8a25-5c99232d4a8e",
   "metadata": {},
   "outputs": [
    {
     "name": "stdout",
     "output_type": "stream",
     "text": [
      "Reconstruction error from matrix A: 0.9724565023119403\n"
     ]
    },
    {
     "data": {
      "image/png": "[encoded data removed]",
      "text/plain": [
       "<Figure size 640x480 with 1 Axes>"
      ]
     },
     "metadata": {},
     "output_type": "display_data"
    }
   ],
   "source": [
    "\n",
    "\n",
    "from sklearn.decomposition import PCA\n",
    "import matplotlib.pyplot as plt\n",
    "\n",
    "# Reduce dimensions to 2D using PCA\n",
    "pca = PCA(n_components=2)\n",
    "chi_2d = pca.fit_transform(chi)\n",
    "\n",
    "# Plot the embeddings\n",
    "plt.scatter(chi_2d[:, 0], chi_2d[:, 1], s=10)\n",
    "plt.title(\"2D Visualization of GraphWave Embeddings\")\n",
    "plt.xlabel(\"PCA Component 1\")\n",
    "plt.ylabel(\"PCA Component 2\")\n",
    "print(f\"Reconstruction error from matrix A: {reconstruction_error(G_facebook, chi)}\")\n",
    "plt.show()"
   ]
  },
  {
   "cell_type": "markdown",
   "id": "900c4f4c-6f35-4c15-bff0-837960ef3411",
   "metadata": {},
   "source": []
  }
 ],
 "metadata": {
  "colab": {
   "provenance": []
  },
  "kernelspec": {
   "display_name": "Python 3 (ipykernel)",
   "language": "python",
   "name": "python3"
  },
  "language_info": {
   "codemirror_mode": {
    "name": "ipython",
    "version": 3
   },
   "file_extension": ".py",
   "mimetype": "text/x-python",
   "name": "python",
   "nbconvert_exporter": "python",
   "pygments_lexer": "ipython3",
   "version": "3.8.0"
  },
  "widgets": {
   "application/vnd.jupyter.widget-state+json": {
    "08a2aa42a02244cca504a2553ee3a9d3": {
     "model_module": "@jupyter-widgets/controls",
     "model_module_version": "1.5.0",
     "model_name": "HBoxModel",
     "state": {
      "_dom_classes": [],
      "_model_module": "@jupyter-widgets/controls",
      "_model_module_version": "1.5.0",
      "_model_name": "HBoxModel",
      "_view_count": null,
      "_view_module": "@jupyter-widgets/controls",
      "_view_module_version": "1.5.0",
      "_view_name": "HBoxView",
      "box_style": "",
      "children": [
       "IPY_MODEL_121ff0f0d9a940ab9ebf233013e0526a",
       "IPY_MODEL_8a997cdf9e1f4141a65e806dcf974c65",
       "IPY_MODEL_4d686c59f72c4a07a244a1d9183e9855"
      ],
      "layout": "IPY_MODEL_3b98a185484e4302abe56263ada93980"
     }
    },
    "121ff0f0d9a940ab9ebf233013e0526a": {
     "model_module": "@jupyter-widgets/controls",
     "model_module_version": "1.5.0",
     "model_name": "HTMLModel",
     "state": {
      "_dom_classes": [],
      "_model_module": "@jupyter-widgets/controls",
      "_model_module_version": "1.5.0",
      "_model_name": "HTMLModel",
      "_view_count": null,
      "_view_module": "@jupyter-widgets/controls",
      "_view_module_version": "1.5.0",
      "_view_name": "HTMLView",
      "description": "",
      "description_tooltip": null,
      "layout": "IPY_MODEL_e587efe0fc234ea4b413cb1ab80bf9ac",
      "placeholder": "​",
      "style": "IPY_MODEL_255e4240da824b8ab6c035a659407984",
      "value": "Computing transition probabilities: 100%"
     }
    },
    "1800b26997924888a4fbfea29ceaf1d6": {
     "model_module": "@jupyter-widgets/controls",
     "model_module_version": "1.5.0",
     "model_name": "ProgressStyleModel",
     "state": {
      "_model_module": "@jupyter-widgets/controls",
      "_model_module_version": "1.5.0",
      "_model_name": "ProgressStyleModel",
      "_view_count": null,
      "_view_module": "@jupyter-widgets/base",
      "_view_module_version": "1.2.0",
      "_view_name": "StyleView",
      "bar_color": null,
      "description_width": ""
     }
    },
    "255e4240da824b8ab6c035a659407984": {
     "model_module": "@jupyter-widgets/controls",
     "model_module_version": "1.5.0",
     "model_name": "DescriptionStyleModel",
     "state": {
      "_model_module": "@jupyter-widgets/controls",
      "_model_module_version": "1.5.0",
      "_model_name": "DescriptionStyleModel",
      "_view_count": null,
      "_view_module": "@jupyter-widgets/base",
      "_view_module_version": "1.2.0",
      "_view_name": "StyleView",
      "description_width": ""
     }
    },
    "341b42b7c516425bae603d44be7e8aa8": {
     "model_module": "@jupyter-widgets/base",
     "model_module_version": "1.2.0",
     "model_name": "LayoutModel",
     "state": {
      "_model_module": "@jupyter-widgets/base",
      "_model_module_version": "1.2.0",
      "_model_name": "LayoutModel",
      "_view_count": null,
      "_view_module": "@jupyter-widgets/base",
      "_view_module_version": "1.2.0",
      "_view_name": "LayoutView",
      "align_content": null,
      "align_items": null,
      "align_self": null,
      "border": null,
      "bottom": null,
      "display": null,
      "flex": null,
      "flex_flow": null,
      "grid_area": null,
      "grid_auto_columns": null,
      "grid_auto_flow": null,
      "grid_auto_rows": null,
      "grid_column": null,
      "grid_gap": null,
      "grid_row": null,
      "grid_template_areas": null,
      "grid_template_columns": null,
      "grid_template_rows": null,
      "height": null,
      "justify_content": null,
      "justify_items": null,
      "left": null,
      "margin": null,
      "max_height": null,
      "max_width": null,
      "min_height": null,
      "min_width": null,
      "object_fit": null,
      "object_position": null,
      "order": null,
      "overflow": null,
      "overflow_x": null,
      "overflow_y": null,
      "padding": null,
      "right": null,
      "top": null,
      "visibility": null,
      "width": null
     }
    },
    "385aa92c3d8541dc9de0ef77007a3bfa": {
     "model_module": "@jupyter-widgets/base",
     "model_module_version": "1.2.0",
     "model_name": "LayoutModel",
     "state": {
      "_model_module": "@jupyter-widgets/base",
      "_model_module_version": "1.2.0",
      "_model_name": "LayoutModel",
      "_view_count": null,
      "_view_module": "@jupyter-widgets/base",
      "_view_module_version": "1.2.0",
      "_view_name": "LayoutView",
      "align_content": null,
      "align_items": null,
      "align_self": null,
      "border": null,
      "bottom": null,
      "display": null,
      "flex": null,
      "flex_flow": null,
      "grid_area": null,
      "grid_auto_columns": null,
      "grid_auto_flow": null,
      "grid_auto_rows": null,
      "grid_column": null,
      "grid_gap": null,
      "grid_row": null,
      "grid_template_areas": null,
      "grid_template_columns": null,
      "grid_template_rows": null,
      "height": null,
      "justify_content": null,
      "justify_items": null,
      "left": null,
      "margin": null,
      "max_height": null,
      "max_width": null,
      "min_height": null,
      "min_width": null,
      "object_fit": null,
      "object_position": null,
      "order": null,
      "overflow": null,
      "overflow_x": null,
      "overflow_y": null,
      "padding": null,
      "right": null,
      "top": null,
      "visibility": null,
      "width": null
     }
    },
    "3b98a185484e4302abe56263ada93980": {
     "model_module": "@jupyter-widgets/base",
     "model_module_version": "1.2.0",
     "model_name": "LayoutModel",
     "state": {
      "_model_module": "@jupyter-widgets/base",
      "_model_module_version": "1.2.0",
      "_model_name": "LayoutModel",
      "_view_count": null,
      "_view_module": "@jupyter-widgets/base",
      "_view_module_version": "1.2.0",
      "_view_name": "LayoutView",
      "align_content": null,
      "align_items": null,
      "align_self": null,
      "border": null,
      "bottom": null,
      "display": null,
      "flex": null,
      "flex_flow": null,
      "grid_area": null,
      "grid_auto_columns": null,
      "grid_auto_flow": null,
      "grid_auto_rows": null,
      "grid_column": null,
      "grid_gap": null,
      "grid_row": null,
      "grid_template_areas": null,
      "grid_template_columns": null,
      "grid_template_rows": null,
      "height": null,
      "justify_content": null,
      "justify_items": null,
      "left": null,
      "margin": null,
      "max_height": null,
      "max_width": null,
      "min_height": null,
      "min_width": null,
      "object_fit": null,
      "object_position": null,
      "order": null,
      "overflow": null,
      "overflow_x": null,
      "overflow_y": null,
      "padding": null,
      "right": null,
      "top": null,
      "visibility": null,
      "width": null
     }
    },
    "465fcc5fe5cb44189b3647adc27d29d2": {
     "model_module": "@jupyter-widgets/controls",
     "model_module_version": "1.5.0",
     "model_name": "DescriptionStyleModel",
     "state": {
      "_model_module": "@jupyter-widgets/controls",
      "_model_module_version": "1.5.0",
      "_model_name": "DescriptionStyleModel",
      "_view_count": null,
      "_view_module": "@jupyter-widgets/base",
      "_view_module_version": "1.2.0",
      "_view_name": "StyleView",
      "description_width": ""
     }
    },
    "4d686c59f72c4a07a244a1d9183e9855": {
     "model_module": "@jupyter-widgets/controls",
     "model_module_version": "1.5.0",
     "model_name": "HTMLModel",
     "state": {
      "_dom_classes": [],
      "_model_module": "@jupyter-widgets/controls",
      "_model_module_version": "1.5.0",
      "_model_name": "HTMLModel",
      "_view_count": null,
      "_view_module": "@jupyter-widgets/controls",
      "_view_module_version": "1.5.0",
      "_view_name": "HTMLView",
      "description": "",
      "description_tooltip": null,
      "layout": "IPY_MODEL_341b42b7c516425bae603d44be7e8aa8",
      "placeholder": "​",
      "style": "IPY_MODEL_465fcc5fe5cb44189b3647adc27d29d2",
      "value": " 15229/15229 [03:51&lt;00:00, 2713.44it/s]"
     }
    },
    "8a997cdf9e1f4141a65e806dcf974c65": {
     "model_module": "@jupyter-widgets/controls",
     "model_module_version": "1.5.0",
     "model_name": "FloatProgressModel",
     "state": {
      "_dom_classes": [],
      "_model_module": "@jupyter-widgets/controls",
      "_model_module_version": "1.5.0",
      "_model_name": "FloatProgressModel",
      "_view_count": null,
      "_view_module": "@jupyter-widgets/controls",
      "_view_module_version": "1.5.0",
      "_view_name": "ProgressView",
      "bar_style": "success",
      "description": "",
      "description_tooltip": null,
      "layout": "IPY_MODEL_385aa92c3d8541dc9de0ef77007a3bfa",
      "max": 15229,
      "min": 0,
      "orientation": "horizontal",
      "style": "IPY_MODEL_1800b26997924888a4fbfea29ceaf1d6",
      "value": 15229
     }
    },
    "e587efe0fc234ea4b413cb1ab80bf9ac": {
     "model_module": "@jupyter-widgets/base",
     "model_module_version": "1.2.0",
     "model_name": "LayoutModel",
     "state": {
      "_model_module": "@jupyter-widgets/base",
      "_model_module_version": "1.2.0",
      "_model_name": "LayoutModel",
      "_view_count": null,
      "_view_module": "@jupyter-widgets/base",
      "_view_module_version": "1.2.0",
      "_view_name": "LayoutView",
      "align_content": null,
      "align_items": null,
      "align_self": null,
      "border": null,
      "bottom": null,
      "display": null,
      "flex": null,
      "flex_flow": null,
      "grid_area": null,
      "grid_auto_columns": null,
      "grid_auto_flow": null,
      "grid_auto_rows": null,
      "grid_column": null,
      "grid_gap": null,
      "grid_row": null,
      "grid_template_areas": null,
      "grid_template_columns": null,
      "grid_template_rows": null,
      "height": null,
      "justify_content": null,
      "justify_items": null,
      "left": null,
      "margin": null,
      "max_height": null,
      "max_width": null,
      "min_height": null,
      "min_width": null,
      "object_fit": null,
      "object_position": null,
      "order": null,
      "overflow": null,
      "overflow_x": null,
      "overflow_y": null,
      "padding": null,
      "right": null,
      "top": null,
      "visibility": null,
      "width": null
     }
    }
   }
  }
 },
 "nbformat": 4,
 "nbformat_minor": 5
}
