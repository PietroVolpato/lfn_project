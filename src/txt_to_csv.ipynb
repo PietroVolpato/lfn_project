{
 "cells": [
  {
   "cell_type": "markdown",
   "metadata": {},
   "source": [
    "# Convert a .txt file into .csv file"
   ]
  },
  {
   "cell_type": "code",
   "execution_count": 1,
   "metadata": {},
   "outputs": [],
   "source": [
    "import pandas as pd\n",
    "import gzip\n",
    "\n",
    "edges = []\n",
    "\n",
    "filepath = '../data/facebook_combined.txt.gz'\n",
    "\n",
    "with gzip.open(filepath, 'rt') as file:\n",
    "    for line in file:\n",
    "        node1, node2 = map(int, line.strip().split())\n",
    "        edges.append((node1, node2))\n",
    "\n",
    "df = pd.DataFrame(edges, columns=['node1', 'node2'])\n",
    "df.to_csv('../data/facebook_edges.csv', index=False)"
   ]
  }
 ],
 "metadata": {
  "kernelspec": {
   "display_name": "Python 3",
   "language": "python",
   "name": "python3"
  },
  "language_info": {
   "codemirror_mode": {
    "name": "ipython",
    "version": 3
   },
   "file_extension": ".py",
   "mimetype": "text/x-python",
   "name": "python",
   "nbconvert_exporter": "python",
   "pygments_lexer": "ipython3",
   "version": "3.9.7"
  }
 },
 "nbformat": 4,
 "nbformat_minor": 2
}
