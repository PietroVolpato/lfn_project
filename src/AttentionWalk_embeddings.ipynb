{
 "cells": [
  {
   "cell_type": "markdown",
   "metadata": {
    "id": "Qxfzy1Wxd0GQ"
   },
   "source": [
    "# AttentionWalk"
   ]
  },
  {
   "cell_type": "code",
   "execution_count": 1,
   "metadata": {
    "colab": {
     "base_uri": "https://localhost:8080/"
    },
    "id": "SEhgmKeQdPeC",
    "outputId": "d4328c5f-1627-40e0-f49e-f543a8a125d5"
   },
   "outputs": [
    {
     "name": "stdout",
     "output_type": "stream",
     "text": [
      "Cloning into 'AttentionWalk'...\n",
      "remote: Enumerating objects: 284, done.\u001b[K\n",
      "remote: Counting objects: 100% (38/38), done.\u001b[K\n",
      "remote: Compressing objects: 100% (31/31), done.\u001b[K\n",
      "remote: Total 284 (delta 21), reused 9 (delta 7), pack-reused 246 (from 1)\u001b[K\n",
      "Receiving objects: 100% (284/284), 1.26 MiB | 22.62 MiB/s, done.\n",
      "Resolving deltas: 100% (162/162), done.\n"
     ]
    }
   ],
   "source": [
    "!git clone https://github.com/benedekrozemberczki/AttentionWalk.git"
   ]
  },
  {
   "cell_type": "code",
   "execution_count": 2,
   "metadata": {
    "colab": {
     "base_uri": "https://localhost:8080/"
    },
    "id": "p2ZWa1QIhAXM",
    "outputId": "9f2280a2-523c-4f75-9650-5e6f727b7487"
   },
   "outputs": [
    {
     "name": "stdout",
     "output_type": "stream",
     "text": [
      "Collecting texttable==1.6.7\n",
      "  Downloading texttable-1.6.7-py2.py3-none-any.whl.metadata (9.8 kB)\n",
      "Downloading texttable-1.6.7-py2.py3-none-any.whl (10 kB)\n",
      "Installing collected packages: texttable\n",
      "Successfully installed texttable-1.6.7\n"
     ]
    }
   ],
   "source": [
    "!pip install texttable==1.6.7"
   ]
  },
  {
   "cell_type": "code",
   "execution_count": 3,
   "metadata": {
    "id": "fFcPs_S2iAKu"
   },
   "outputs": [],
   "source": [
    "import requests\n",
    "\n",
    "file_path = \"https://raw.githubusercontent.com/PietroVolpato/lfn_project/main/data/facebook_edges.csv\"\n",
    "\n",
    "\n",
    "response = requests.get(file_path, stream=True)\n",
    "response.raise_for_status()\n",
    "\n",
    "with open(\"facebook_edges.csv\", \"wb\") as file:\n",
    "    file.write(response.content)"
   ]
  },
  {
   "cell_type": "code",
   "execution_count": 4,
   "metadata": {
    "colab": {
     "base_uri": "https://localhost:8080/"
    },
    "id": "tMm_BFngfeiW",
    "outputId": "48d6c4df-6856-49c0-ceda-64184ce55e01"
   },
   "outputs": [
    {
     "name": "stdout",
     "output_type": "stream",
     "text": [
      "+----------------+-------------------------------------+\n",
      "| Attention path | ./output/chameleon_AW_attention.csv |\n",
      "+================+=====================================+\n",
      "| Beta           | 0.500                               |\n",
      "+----------------+-------------------------------------+\n",
      "| Dimensions     | 128                                 |\n",
      "+----------------+-------------------------------------+\n",
      "| Edge path      | ../facebook_edges.csv               |\n",
      "+----------------+-------------------------------------+\n",
      "| Embedding path | ./output/chameleon_AW_embedding.csv |\n",
      "+----------------+-------------------------------------+\n",
      "| Epochs         | 200                                 |\n",
      "+----------------+-------------------------------------+\n",
      "| Gamma          | 0.500                               |\n",
      "+----------------+-------------------------------------+\n",
      "| Learning rate  | 0.010                               |\n",
      "+----------------+-------------------------------------+\n",
      "| Num of walks   | 80                                  |\n",
      "+----------------+-------------------------------------+\n",
      "| Window size    | 5                                   |\n",
      "+----------------+-------------------------------------+\n",
      "\n",
      "Target matrix creation started.\n",
      "\n",
      "Adjacency matrix powers: 100% 4/4 [00:04<00:00,  1.19s/it]\n",
      "\n",
      "Training the model.\n",
      "\n",
      "Attention Walk (Loss=nan): 100% 200/200 [06:09<00:00,  1.85s/it]\n",
      "\n",
      "Saving the model.\n",
      "\n"
     ]
    }
   ],
   "source": [
    "!cd AttentionWalk && python src/main.py --edge-path ../facebook_edges.csv"
   ]
  }
 ],
 "metadata": {
  "accelerator": "GPU",
  "colab": {
   "gpuType": "T4",
   "provenance": []
  },
  "kernelspec": {
   "display_name": "Python 3",
   "name": "python3"
  },
  "language_info": {
   "name": "python"
  }
 },
 "nbformat": 4,
 "nbformat_minor": 0
}
