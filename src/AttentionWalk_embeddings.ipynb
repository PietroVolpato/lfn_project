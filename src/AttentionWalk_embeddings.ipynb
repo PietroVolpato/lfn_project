{
  "nbformat": 4,
  "nbformat_minor": 0,
  "metadata": {
    "colab": {
      "provenance": [],
      "gpuType": "T4"
    },
    "kernelspec": {
      "name": "python3",
      "display_name": "Python 3"
    },
    "language_info": {
      "name": "python"
    },
    "accelerator": "GPU"
  },
  "cells": [
    {
      "cell_type": "markdown",
      "source": [
        "# AttentionWalk"
      ],
      "metadata": {
        "id": "Qxfzy1Wxd0GQ"
      }
    },
    {
      "cell_type": "code",
      "execution_count": 1,
      "metadata": {
        "colab": {
          "base_uri": "https://localhost:8080/"
        },
        "id": "SEhgmKeQdPeC",
        "outputId": "d4328c5f-1627-40e0-f49e-f543a8a125d5"
      },
      "outputs": [
        {
          "output_type": "stream",
          "name": "stdout",
          "text": [
            "Cloning into 'AttentionWalk'...\n",
            "remote: Enumerating objects: 284, done.\u001b[K\n",
            "remote: Counting objects: 100% (38/38), done.\u001b[K\n",
            "remote: Compressing objects: 100% (31/31), done.\u001b[K\n",
            "remote: Total 284 (delta 21), reused 9 (delta 7), pack-reused 246 (from 1)\u001b[K\n",
            "Receiving objects: 100% (284/284), 1.26 MiB | 22.62 MiB/s, done.\n",
            "Resolving deltas: 100% (162/162), done.\n"
          ]
        }
      ],
      "source": [
        "!git clone https://github.com/benedekrozemberczki/AttentionWalk.git"
      ]
    },
    {
      "source": [
        "!pip install texttable==1.6.7"
      ],
      "cell_type": "code",
      "metadata": {
        "colab": {
          "base_uri": "https://localhost:8080/"
        },
        "id": "p2ZWa1QIhAXM",
        "outputId": "9f2280a2-523c-4f75-9650-5e6f727b7487"
      },
      "execution_count": 2,
      "outputs": [
        {
          "output_type": "stream",
          "name": "stdout",
          "text": [
            "Collecting texttable==1.6.7\n",
            "  Downloading texttable-1.6.7-py2.py3-none-any.whl.metadata (9.8 kB)\n",
            "Downloading texttable-1.6.7-py2.py3-none-any.whl (10 kB)\n",
            "Installing collected packages: texttable\n",
            "Successfully installed texttable-1.6.7\n"
          ]
        }
      ]
    },
    {
      "cell_type": "code",
      "source": [
        "import requests\n",
        "\n",
        "file_path = \"https://raw.githubusercontent.com/PietroVolpato/lfn_project/main/data/facebook_edges.csv\"\n",
        "\n",
        "\n",
        "response = requests.get(file_path, stream=True)\n",
        "response.raise_for_status()\n",
        "\n",
        "with open(\"facebook_edges.csv\", \"wb\") as file:\n",
        "    file.write(response.content)"
      ],
      "metadata": {
        "id": "fFcPs_S2iAKu"
      },
      "execution_count": 3,
      "outputs": []
    },
    {
      "cell_type": "code",
      "source": [
        "!cd AttentionWalk && python src/main.py --edge-path ../facebook_edges.csv"
      ],
      "metadata": {
        "colab": {
          "base_uri": "https://localhost:8080/"
        },
        "id": "tMm_BFngfeiW",
        "outputId": "48d6c4df-6856-49c0-ceda-64184ce55e01"
      },
      "execution_count": 4,
      "outputs": [
        {
          "output_type": "stream",
          "name": "stdout",
          "text": [
            "+----------------+-------------------------------------+\n",
            "| Attention path | ./output/chameleon_AW_attention.csv |\n",
            "+================+=====================================+\n",
            "| Beta           | 0.500                               |\n",
            "+----------------+-------------------------------------+\n",
            "| Dimensions     | 128                                 |\n",
            "+----------------+-------------------------------------+\n",
            "| Edge path      | ../facebook_edges.csv               |\n",
            "+----------------+-------------------------------------+\n",
            "| Embedding path | ./output/chameleon_AW_embedding.csv |\n",
            "+----------------+-------------------------------------+\n",
            "| Epochs         | 200                                 |\n",
            "+----------------+-------------------------------------+\n",
            "| Gamma          | 0.500                               |\n",
            "+----------------+-------------------------------------+\n",
            "| Learning rate  | 0.010                               |\n",
            "+----------------+-------------------------------------+\n",
            "| Num of walks   | 80                                  |\n",
            "+----------------+-------------------------------------+\n",
            "| Window size    | 5                                   |\n",
            "+----------------+-------------------------------------+\n",
            "\n",
            "Target matrix creation started.\n",
            "\n",
            "Adjacency matrix powers: 100% 4/4 [00:04<00:00,  1.19s/it]\n",
            "\n",
            "Training the model.\n",
            "\n",
            "Attention Walk (Loss=nan): 100% 200/200 [06:09<00:00,  1.85s/it]\n",
            "\n",
            "Saving the model.\n",
            "\n"
          ]
        }
      ]
    },
    {
      "cell_type": "markdown",
      "source": [
        "## Parameters to set:\n",
        "<ul>\n",
        "<li>"
      ],
      "metadata": {
        "id": "zW_CSKPzeUyz"
      }
    }
  ]
}