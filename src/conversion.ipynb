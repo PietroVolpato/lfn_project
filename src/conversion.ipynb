{
 "cells": [
  {
   "cell_type": "markdown",
   "metadata": {},
   "source": [
    "# Convert a .txt.gz file into .csv file"
   ]
  },
  {
   "cell_type": "code",
   "execution_count": 8,
   "metadata": {},
   "outputs": [],
   "source": [
    "import pandas as pd\n",
    "import gzip\n",
    "\n",
    "edges = []\n",
    "\n",
    "filepath = '../data/facebook_combined.txt.gz'\n",
    "filename = filepath.split('/')[-1][:-7] + '.csv'\n",
    "\n",
    "with gzip.open(filepath, 'rt') as file:\n",
    "    for line in file:\n",
    "        if line.startswith('#'):\n",
    "            continue\n",
    "        node1, node2 = map(int, line.strip().split())\n",
    "        edges.append((node1, node2))\n",
    "\n",
    "df = pd.DataFrame(edges, columns=['node1', 'node2'])\n",
    "df.to_csv('../data/' + filename, index=False)"
   ]
  },
  {
   "cell_type": "markdown",
   "metadata": {},
   "source": [
    "## Remove first column of CSV file"
   ]
  },
  {
   "cell_type": "code",
   "execution_count": 5,
   "metadata": {},
   "outputs": [],
   "source": [
    "def remove_first_column(input_file, output_file):\n",
    "    \"\"\"\n",
    "    Removes the first column from a file and saves only the second column to a new file.\n",
    "    \n",
    "    Parameters:\n",
    "        input_file (str): Path to the input file with two columns (comma-separated or space-separated).\n",
    "        output_file (str): Path to the output file containing only the second column.\n",
    "    \"\"\"\n",
    "    with open(input_file, 'r') as infile, open(output_file, 'w') as outfile:\n",
    "        for line in infile:\n",
    "            line = line.strip()\n",
    "            if not line:  # Skip empty lines\n",
    "                continue\n",
    "            \n",
    "            # Split the line and extract the second column\n",
    "            columns = line.split(',') if ',' in line else line.split()\n",
    "            if len(columns) >= 2:\n",
    "                outfile.write(columns[1] + '\\n')\n",
    "\n",
    "# Example usage:\n",
    "# remove_first_column(\"input.txt\", \"output.txt\")\n",
    "spam_labels_path = \"../data/spam/web-spam-detection.node_labels\"\n",
    "out = \"../data/web-spam-detection.node_labels\"\n",
    "remove_first_column(spam_labels_path, out)"
   ]
  },
  {
   "cell_type": "markdown",
   "metadata": {},
   "source": [
    "## Convert from csv to json"
   ]
  },
  {
   "cell_type": "code",
   "execution_count": 5,
   "metadata": {},
   "outputs": [
    {
     "ename": "KeyError",
     "evalue": "'node'",
     "output_type": "error",
     "traceback": [
      "\u001b[1;31m---------------------------------------------------------------------------\u001b[0m",
      "\u001b[1;31mKeyError\u001b[0m                                  Traceback (most recent call last)",
      "Cell \u001b[1;32mIn[5], line 25\u001b[0m\n\u001b[0;32m     23\u001b[0m input_file \u001b[38;5;241m=\u001b[39m \u001b[38;5;124m\"\u001b[39m\u001b[38;5;124m../data/proteins/PROTEINS-full.csv\u001b[39m\u001b[38;5;124m\"\u001b[39m\n\u001b[0;32m     24\u001b[0m output_file \u001b[38;5;241m=\u001b[39m \u001b[38;5;124m\"\u001b[39m\u001b[38;5;124m../data/proteins/PROTEINS-full.json\u001b[39m\u001b[38;5;124m\"\u001b[39m\n\u001b[1;32m---> 25\u001b[0m \u001b[43mcsv_to_json\u001b[49m\u001b[43m(\u001b[49m\u001b[43minput_file\u001b[49m\u001b[43m,\u001b[49m\u001b[43m \u001b[49m\u001b[43moutput_file\u001b[49m\u001b[43m)\u001b[49m\n",
      "Cell \u001b[1;32mIn[5], line 16\u001b[0m, in \u001b[0;36mcsv_to_json\u001b[1;34m(input_file, output_file)\u001b[0m\n\u001b[0;32m     14\u001b[0m     reader \u001b[38;5;241m=\u001b[39m csv\u001b[38;5;241m.\u001b[39mDictReader(csvfile)\n\u001b[0;32m     15\u001b[0m     \u001b[38;5;28;01mfor\u001b[39;00m rows \u001b[38;5;129;01min\u001b[39;00m reader:\n\u001b[1;32m---> 16\u001b[0m         key \u001b[38;5;241m=\u001b[39m \u001b[43mrows\u001b[49m\u001b[43m[\u001b[49m\u001b[38;5;124;43m'\u001b[39;49m\u001b[38;5;124;43mnode\u001b[39;49m\u001b[38;5;124;43m'\u001b[39;49m\u001b[43m]\u001b[49m\n\u001b[0;32m     17\u001b[0m         data[key] \u001b[38;5;241m=\u001b[39m rows\n\u001b[0;32m     19\u001b[0m \u001b[38;5;28;01mwith\u001b[39;00m \u001b[38;5;28mopen\u001b[39m(output_file, \u001b[38;5;124m'\u001b[39m\u001b[38;5;124mw\u001b[39m\u001b[38;5;124m'\u001b[39m) \u001b[38;5;28;01mas\u001b[39;00m jsonfile:\n",
      "\u001b[1;31mKeyError\u001b[0m: 'node'"
     ]
    }
   ],
   "source": [
    "import csv\n",
    "import json\n",
    "\n",
    "def csv_to_json (input_file, output_file):\n",
    "    \"\"\"\n",
    "    Converts a CSV file to a JSON file.\n",
    "    \n",
    "    Parameters:\n",
    "        input_file (str): Path to the input CSV file.\n",
    "        output_file (str): Path to the output JSON file.\n",
    "    \"\"\"\n",
    "    data = {}\n",
    "    with open(input_file, 'r') as csvfile:\n",
    "        reader = csv.DictReader(csvfile)\n",
    "        for rows in reader:\n",
    "            key = rows['node']\n",
    "            data[key] = rows\n",
    "\n",
    "    with open(output_file, 'w') as jsonfile:\n",
    "        jsonfile.write(json.dumps(data, indent=4))\n",
    "    \n",
    "\n",
    "input_file = \"../data/proteins/PROTEINS-full.csv\"\n",
    "output_file = \"../data/proteins/PROTEINS-full.json\"\n",
    "csv_to_json(input_file, output_file)"
   ]
  },
  {
   "cell_type": "markdown",
   "metadata": {},
   "source": [
    "### Convert Attention Walk embeddings from csv to npy\n",
    "NOTE: it is needed to remove first column, since it refers to node name (large integer)"
   ]
  },
  {
   "cell_type": "code",
   "execution_count": 19,
   "metadata": {},
   "outputs": [
    {
     "name": "stdout",
     "output_type": "stream",
     "text": [
      "The .csv file appears to be already preprocessed, no modifications done\n"
     ]
    }
   ],
   "source": [
    "import numpy as np\n",
    "import os\n",
    "\n",
    "def remove_first_column_in_place(file_path):\n",
    "    \"\"\"\n",
    "    This function has the only meaning on convert the .csv data format produced by attention walk in \n",
    "    a numpy array, and save it\n",
    "    \n",
    "    Parameters:\n",
    "        file_path (str): Path to the input file with multiple columns (comma-separated or space-separated).\n",
    "    \"\"\"\n",
    "    temp_file_path = file_path + \".tmp\"  # Temporary file path\n",
    "    \n",
    "    with open(file_path, 'r') as infile, open(temp_file_path, 'w') as outfile:\n",
    "        for i,line in enumerate(infile):\n",
    "            if i == 0: # first raw is metadata\n",
    "                columns = line.split(',') if ',' in line else line.split()\n",
    "                if columns[0] != \"id\":\n",
    "                    print(\"The .csv file appears to be already preprocessed, no modifications done\")\n",
    "                    return\n",
    "                continue \n",
    "            line = line.strip()\n",
    "            if not line:  # Skip empty lines\n",
    "                continue\n",
    "            \n",
    "            # Split the line and extract all columns except the first one\n",
    "            columns = line.split(',') if ',' in line else line.split()\n",
    "            if len(columns) > 1:\n",
    "                outfile.write(','.join(columns[1:]) + '\\n')\n",
    "    \n",
    "    # Replace the original file with the temporary file\n",
    "    os.replace(temp_file_path, file_path)\n",
    "\n",
    "### CHOOSE\n",
    "csv_file = \"../result/embeddings_facebook_AW_128.csv\"\n",
    "\n",
    "remove_first_column_in_place(csv_file)\n",
    "\n",
    "vec = np.loadtxt(csv_file, delimiter=',')\n",
    "np.save(f\"{csv_file[:-4]}.npy\", vec)"
   ]
  },
  {
   "cell_type": "markdown",
   "metadata": {},
   "source": [
    "### copy of .edges without self loops (spam graph)"
   ]
  },
  {
   "cell_type": "code",
   "execution_count": 6,
   "metadata": {},
   "outputs": [],
   "source": [
    "def remove_self_loops(input_file, output_file):\n",
    "    \"\"\"\n",
    "    Removes self-loops (edges of the form x,x) from an edges file and saves the result to a new file.\n",
    "\n",
    "    Parameters:\n",
    "        input_file (str): Path to the input edges file (e.g., .edges).\n",
    "        output_file (str): Path to the output edges file without self-loops.\n",
    "    \"\"\"\n",
    "    with open(input_file, 'r') as infile, open(output_file, 'w') as outfile:\n",
    "        for line in infile:\n",
    "            line = line.strip()\n",
    "            if not line:  # Skip empty lines\n",
    "                continue\n",
    "\n",
    "            # Split the line to get the two nodes of the edge\n",
    "            nodes = line.split(',')\n",
    "            if len(nodes) == 2:\n",
    "                # Write the edge only if it's not a self-loop\n",
    "                if nodes[0] != nodes[1]:\n",
    "                    outfile.write(line + '\\n')\n",
    "\n",
    "# Example usage\n",
    "input_path = \"../data/spam/web-spam-detection.edges\"  # Path to your original .edges file\n",
    "output_path = \"../data/spam/web-spam-detection-no-self-loops.edges\"  # Path to the new .edges file\n",
    "remove_self_loops(input_path, output_path)"
   ]
  },
  {
   "cell_type": "markdown",
   "metadata": {},
   "source": [
    "### create .csv from NX graph loaded from .edges\n",
    "AW needs a .csv file in input, to be sure AW works on the same graph as LINE and node2vec, the csv file is created from the networkXgraph"
   ]
  },
  {
   "cell_type": "code",
   "execution_count": 17,
   "metadata": {},
   "outputs": [
    {
     "name": "stdout",
     "output_type": "stream",
     "text": [
      "is_txt_gz = False\n",
      "Graph saved to ../data/spam/web-spam-detection.csv with header 'node1,node2'.\n",
      "Graph has 9072 nodes and 473854 edges.\n"
     ]
    }
   ],
   "source": [
    "import networkx as nx\n",
    "import gzip\n",
    "import re\n",
    "\n",
    "def load_graph(path):\n",
    "    \"\"\"\n",
    "    For files with extension .edges\n",
    "    nodes are renamed as integers, starting from 0\n",
    "    \"\"\"\n",
    "    G = nx.Graph()\n",
    "    with open(path, 'rt') as f:\n",
    "        for line in f:\n",
    "            if line.startswith('%'):  # Skip comment lines\n",
    "                continue\n",
    "            # Split the line based on spaces or commas\n",
    "            data = re.split(r'[,\\s]+', line.strip())\n",
    "            if len(data) < 2:  # Skip lines that don't have at least two columns\n",
    "                continue\n",
    "            # Extract the first two columns (nodes)\n",
    "            node1, node2 = int(data[0]), int(data[1])\n",
    "            G.add_edge(node1, node2)\n",
    "    mapping = {node : i for i,node in enumerate(G.nodes)} # mappoing original : relabeled\n",
    "    G = nx.relabel_nodes(G, mapping)\n",
    "    return G\n",
    "\n",
    "def load_graph_with_gz(path):\n",
    "    \"\"\"\n",
    "    For files with extension .txt.gz\n",
    "    nodes are renamed as integers, starting from 0\n",
    "    \"\"\"\n",
    "    G = nx.Graph()\n",
    "    with gzip.open(path, 'rt') as f:\n",
    "        for line in f:\n",
    "            node1, node2 = map(int, line.strip().split())\n",
    "            G.add_edge(node1, node2)\n",
    "    mapping = {node : i for i,node in enumerate(G.nodes)} # mappoing original : relabeled\n",
    "    G = nx.relabel_nodes(G, mapping)\n",
    "    return G\n",
    "\n",
    "def edges_to_csv(edges_file, output_csv, delimiter=\",\", is_txt_gz = False):\n",
    "    \"\"\"\n",
    "    Reads a .edges file, constructs a networkx graph, and saves the graph as a .csv file\n",
    "    with the header \"node1,node2\".\n",
    "    \n",
    "    Parameters:\n",
    "        edges_file (str): Path to the input .edges file.\n",
    "        output_csv (str): Path to the output .csv file.\n",
    "        delimiter (str): Delimiter used in the .edges file (default: ',').\n",
    "        directed (bool): If True, creates a directed graph; otherwise, creates an undirected graph.\n",
    "    \n",
    "    Returns:\n",
    "        nx.Graph or nx.DiGraph: The graph object created from the .edges file.\n",
    "    \"\"\"\n",
    "    # Create the appropriate type of graph\n",
    "    G = load_graph(edges_file) if not is_txt_gz else load_graph_with_gz(edges_file)\n",
    "\n",
    "    # Save the graph as a .csv file with the header\n",
    "    with open(output_csv, \"w\") as f:\n",
    "        f.write(\"node1,node2\\n\")  # Write the header\n",
    "        for u, v in G.edges():\n",
    "            f.write(f\"{u}{delimiter}{v}\\n\")\n",
    "    print(f\"Graph saved to {output_csv} with header 'node1,node2'.\")\n",
    "    return G\n",
    "facebook_paths = (\"../data/facebook/facebook_combined.txt.gz\", \"../data/facebook/facebook_combined.csv\")\n",
    "citation_paths = (\"../data/citation/cit-HepTh.edges\", \"../data/citation/cit-HepTh.csv\")\n",
    "biological_paths = (\"../data/biological/bio-CE-CX.edges\", \"../data/biological/bio-CE-CX.csv\")\n",
    "proteins_paths = (\"../data/proteins/PROTEINS-full.edges\", \"../data/proteins/PROTEINS-full.csv\")\n",
    "spam_paths = (\"../data/spam/web-spam-detection.edges\", \"../data/spam/web-spam-detection.csv\")\n",
    "\n",
    "#### MODIFY ONLY THIS TO CHOOSE GRAPH #####\n",
    "curr_paths = spam_paths\n",
    "#### MODIFY ONLY THIS TO CHOOSE GRAPH #####\n",
    "\n",
    "# Define file paths\n",
    "is_txt_gz = True if curr_paths == facebook_paths else False\n",
    "print(f\"is_txt_gz = {is_txt_gz}\")\n",
    "edges_file = curr_paths[0]\n",
    "output_csv = curr_paths[1]\n",
    "\n",
    "\n",
    "# Convert edges file to CSV for Attention Walk\n",
    "graph = edges_to_csv(edges_file, output_csv, delimiter=\",\", is_txt_gz = is_txt_gz)\n",
    "\n",
    "# Use the returned `graph` object for LINE or Node2Vec\n",
    "print(f\"Graph has {graph.number_of_nodes()} nodes and {graph.number_of_edges()} edges.\")"
   ]
  },
  {
   "cell_type": "code",
   "execution_count": null,
   "metadata": {},
   "outputs": [],
   "source": []
  }
 ],
 "metadata": {
  "kernelspec": {
   "display_name": "Python 3 (ipykernel)",
   "language": "python",
   "name": "python3"
  },
  "language_info": {
   "codemirror_mode": {
    "name": "ipython",
    "version": 3
   },
   "file_extension": ".py",
   "mimetype": "text/x-python",
   "name": "python",
   "nbconvert_exporter": "python",
   "pygments_lexer": "ipython3",
   "version": "3.8.0"
  }
 },
 "nbformat": 4,
 "nbformat_minor": 4
}
