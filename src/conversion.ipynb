{
 "cells": [
  {
   "cell_type": "markdown",
   "metadata": {},
   "source": [
    "# Convert a .txt.gz file into .csv file"
   ]
  },
  {
   "cell_type": "code",
   "execution_count": 8,
   "metadata": {},
   "outputs": [],
   "source": [
    "import pandas as pd\n",
    "import gzip\n",
    "\n",
    "edges = []\n",
    "\n",
    "filepath = '../data/facebook_combined.txt.gz'\n",
    "filename = filepath.split('/')[-1][:-7] + '.csv'\n",
    "\n",
    "with gzip.open(filepath, 'rt') as file:\n",
    "    for line in file:\n",
    "        if line.startswith('#'):\n",
    "            continue\n",
    "        node1, node2 = map(int, line.strip().split())\n",
    "        edges.append((node1, node2))\n",
    "\n",
    "df = pd.DataFrame(edges, columns=['node1', 'node2'])\n",
    "df.to_csv('../data/' + filename, index=False)"
   ]
  },
  {
   "cell_type": "markdown",
   "metadata": {},
   "source": [
    "# Convert a .edges file into a .csv file"
   ]
  },
  {
   "cell_type": "code",
   "execution_count": 1,
   "metadata": {},
   "outputs": [],
   "source": [
    "import pandas as pd\n",
    "import re\n",
    "\n",
    "edges = []\n",
    "\n",
    "filepath_input = '../data/proteins/PROTEINS-full.edges'\n",
    "filepath_output = '../data/proteins/PROTEINS-full.csv'\n",
    "\n",
    "with open(filepath_input, 'rt') as f:\n",
    "        for line in f:\n",
    "            if line.startswith('%'):  # Skip comment lines\n",
    "                continue\n",
    "            # Split the line based on spaces or commas\n",
    "            data = re.split(r'[,\\s]+', line.strip())\n",
    "            if len(data) < 2:  # Skip lines that don't have at least two columns\n",
    "                continue\n",
    "            # Extract the first two columns (nodes)\n",
    "            node1, node2 = int(data[0]), int(data[1])\n",
    "            edges.append((node1, node2))\n",
    "            \n",
    "df = pd.DataFrame(edges, columns=['node1', 'node2'])\n",
    "df.to_csv(filepath_output, index=False)"
   ]
  },
  {
   "cell_type": "markdown",
   "metadata": {},
   "source": [
    "# Conveert from .csv to .npy"
   ]
  },
  {
   "cell_type": "code",
   "execution_count": 1,
   "metadata": {},
   "outputs": [],
   "source": [
    "import numpy as np\n",
    "\n",
    "folder = '../result/'\n",
    "filename = 'embeddings_spam_AW_128_400_16_25.csv'\n",
    "\n",
    "vec = np.loadtxt(folder + filename, delimiter=',', skiprows=1)\n",
    "np.save(f\"{folder + filename[:-4]}.npy\", vec)"
   ]
  },
  {
   "cell_type": "markdown",
   "metadata": {},
   "source": [
    "## Remove first column of CSV file"
   ]
  },
  {
   "cell_type": "code",
   "execution_count": 5,
   "metadata": {},
   "outputs": [],
   "source": [
    "def remove_first_column(input_file, output_file):\n",
    "    \"\"\"\n",
    "    Removes the first column from a file and saves only the second column to a new file.\n",
    "    \n",
    "    Parameters:\n",
    "        input_file (str): Path to the input file with two columns (comma-separated or space-separated).\n",
    "        output_file (str): Path to the output file containing only the second column.\n",
    "    \"\"\"\n",
    "    with open(input_file, 'r') as infile, open(output_file, 'w') as outfile:\n",
    "        for line in infile:\n",
    "            line = line.strip()\n",
    "            if not line:  # Skip empty lines\n",
    "                continue\n",
    "            \n",
    "            # Split the line and extract the second column\n",
    "            columns = line.split(',') if ',' in line else line.split()\n",
    "            if len(columns) >= 2:\n",
    "                outfile.write(columns[1] + '\\n')\n",
    "\n",
    "# Example usage:\n",
    "# remove_first_column(\"input.txt\", \"output.txt\")\n",
    "spam_labels_path = \"../data/spam/web-spam-detection.node_labels\"\n",
    "out = \"../data/web-spam-detection.node_labels\"\n",
    "remove_first_column(spam_labels_path, out)"
   ]
  },
  {
   "cell_type": "markdown",
   "metadata": {},
   "source": [
    "## Convert from csv to json"
   ]
  },
  {
   "cell_type": "code",
   "execution_count": 5,
   "metadata": {},
   "outputs": [
    {
     "ename": "KeyError",
     "evalue": "'node'",
     "output_type": "error",
     "traceback": [
      "\u001b[1;31m---------------------------------------------------------------------------\u001b[0m",
      "\u001b[1;31mKeyError\u001b[0m                                  Traceback (most recent call last)",
      "Cell \u001b[1;32mIn[5], line 25\u001b[0m\n\u001b[0;32m     23\u001b[0m input_file \u001b[38;5;241m=\u001b[39m \u001b[38;5;124m\"\u001b[39m\u001b[38;5;124m../data/proteins/PROTEINS-full.csv\u001b[39m\u001b[38;5;124m\"\u001b[39m\n\u001b[0;32m     24\u001b[0m output_file \u001b[38;5;241m=\u001b[39m \u001b[38;5;124m\"\u001b[39m\u001b[38;5;124m../data/proteins/PROTEINS-full.json\u001b[39m\u001b[38;5;124m\"\u001b[39m\n\u001b[1;32m---> 25\u001b[0m \u001b[43mcsv_to_json\u001b[49m\u001b[43m(\u001b[49m\u001b[43minput_file\u001b[49m\u001b[43m,\u001b[49m\u001b[43m \u001b[49m\u001b[43moutput_file\u001b[49m\u001b[43m)\u001b[49m\n",
      "Cell \u001b[1;32mIn[5], line 16\u001b[0m, in \u001b[0;36mcsv_to_json\u001b[1;34m(input_file, output_file)\u001b[0m\n\u001b[0;32m     14\u001b[0m     reader \u001b[38;5;241m=\u001b[39m csv\u001b[38;5;241m.\u001b[39mDictReader(csvfile)\n\u001b[0;32m     15\u001b[0m     \u001b[38;5;28;01mfor\u001b[39;00m rows \u001b[38;5;129;01min\u001b[39;00m reader:\n\u001b[1;32m---> 16\u001b[0m         key \u001b[38;5;241m=\u001b[39m \u001b[43mrows\u001b[49m\u001b[43m[\u001b[49m\u001b[38;5;124;43m'\u001b[39;49m\u001b[38;5;124;43mnode\u001b[39;49m\u001b[38;5;124;43m'\u001b[39;49m\u001b[43m]\u001b[49m\n\u001b[0;32m     17\u001b[0m         data[key] \u001b[38;5;241m=\u001b[39m rows\n\u001b[0;32m     19\u001b[0m \u001b[38;5;28;01mwith\u001b[39;00m \u001b[38;5;28mopen\u001b[39m(output_file, \u001b[38;5;124m'\u001b[39m\u001b[38;5;124mw\u001b[39m\u001b[38;5;124m'\u001b[39m) \u001b[38;5;28;01mas\u001b[39;00m jsonfile:\n",
      "\u001b[1;31mKeyError\u001b[0m: 'node'"
     ]
    }
   ],
   "source": [
    "import csv\n",
    "import json\n",
    "\n",
    "def csv_to_json (input_file, output_file):\n",
    "    \"\"\"\n",
    "    Converts a CSV file to a JSON file.\n",
    "    \n",
    "    Parameters:\n",
    "        input_file (str): Path to the input CSV file.\n",
    "        output_file (str): Path to the output JSON file.\n",
    "    \"\"\"\n",
    "    data = {}\n",
    "    with open(input_file, 'r') as csvfile:\n",
    "        reader = csv.DictReader(csvfile)\n",
    "        for rows in reader:\n",
    "            key = rows['node']\n",
    "            data[key] = rows\n",
    "\n",
    "    with open(output_file, 'w') as jsonfile:\n",
    "        jsonfile.write(json.dumps(data, indent=4))\n",
    "    \n",
    "\n",
    "input_file = \"../data/proteins/PROTEINS-full.csv\"\n",
    "output_file = \"../data/proteins/PROTEINS-full.json\"\n",
    "csv_to_json(input_file, output_file)"
   ]
  }
 ],
 "metadata": {
  "kernelspec": {
   "display_name": "Python 3",
   "language": "python",
   "name": "python3"
  },
  "language_info": {
   "codemirror_mode": {
    "name": "ipython",
    "version": 3
   },
   "file_extension": ".py",
   "mimetype": "text/x-python",
   "name": "python",
   "nbconvert_exporter": "python",
   "pygments_lexer": "ipython3",
   "version": "3.10.4"
  }
 },
 "nbformat": 4,
 "nbformat_minor": 4
}
