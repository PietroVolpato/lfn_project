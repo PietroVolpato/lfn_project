{
 "cells": [
  {
   "cell_type": "markdown",
   "metadata": {},
   "source": [
    "# Convert a .txt.gz file into .csv file"
   ]
  },
  {
   "cell_type": "code",
   "execution_count": 8,
   "metadata": {},
   "outputs": [],
   "source": [
    "import pandas as pd\n",
    "import gzip\n",
    "\n",
    "edges = []\n",
    "\n",
    "filepath = '../data/facebook_combined.txt.gz'\n",
    "filename = filepath.split('/')[-1][:-7] + '.csv'\n",
    "\n",
    "with gzip.open(filepath, 'rt') as file:\n",
    "    for line in file:\n",
    "        if line.startswith('#'):\n",
    "            continue\n",
    "        node1, node2 = map(int, line.strip().split())\n",
    "        edges.append((node1, node2))\n",
    "\n",
    "df = pd.DataFrame(edges, columns=['node1', 'node2'])\n",
    "df.to_csv('../data/' + filename, index=False)"
   ]
  },
  {
   "cell_type": "markdown",
   "metadata": {},
   "source": [
    "# Convert a .edges file into a .csv file"
   ]
  },
  {
   "cell_type": "code",
   "execution_count": 1,
   "metadata": {},
   "outputs": [],
   "source": [
    "import pandas as pd\n",
    "import re\n",
    "\n",
    "edges = []\n",
    "\n",
    "filepath_input = '../data/proteins/PROTEINS-full.edges'\n",
    "filepath_output = '../data/proteins/PROTEINS-full.csv'\n",
    "\n",
    "with open(filepath_input, 'rt') as f:\n",
    "        for line in f:\n",
    "            if line.startswith('%'):  # Skip comment lines\n",
    "                continue\n",
    "            # Split the line based on spaces or commas\n",
    "            data = re.split(r'[,\\s]+', line.strip())\n",
    "            if len(data) < 2:  # Skip lines that don't have at least two columns\n",
    "                continue\n",
    "            # Extract the first two columns (nodes)\n",
    "            node1, node2 = int(data[0]), int(data[1])\n",
    "            edges.append((node1, node2))\n",
    "            \n",
    "df = pd.DataFrame(edges, columns=['node1', 'node2'])\n",
    "df.to_csv(filepath_output, index=False)"
   ]
  },
  {
   "cell_type": "markdown",
   "metadata": {},
   "source": [
    "# Conveert from .csv to .npy"
   ]
  },
  {
   "cell_type": "code",
   "execution_count": 4,
   "metadata": {},
   "outputs": [],
   "source": [
    "import numpy as np\n",
    "\n",
    "folder = '../result/'\n",
    "filename = 'embeddings_facebook_AW_128.csv'\n",
    "\n",
    "vec = np.loadtxt(folder + filename, delimiter=',', skiprows=1)\n",
    "np.save(f\"{folder + filename[:-4]}.npy\", vec)"
   ]
  },
  {
   "cell_type": "code",
   "execution_count": null,
   "metadata": {},
   "outputs": [],
   "source": []
  }
 ],
 "metadata": {
  "kernelspec": {
   "display_name": "Python 3 (ipykernel)",
   "language": "python",
   "name": "python3"
  },
  "language_info": {
   "codemirror_mode": {
    "name": "ipython",
    "version": 3
   },
   "file_extension": ".py",
   "mimetype": "text/x-python",
   "name": "python",
   "nbconvert_exporter": "python",
   "pygments_lexer": "ipython3",
   "version": "3.8.0"
  }
 },
 "nbformat": 4,
 "nbformat_minor": 4
}
