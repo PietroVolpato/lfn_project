{
 "cells": [
  {
   "cell_type": "markdown",
   "id": "358080be-e62b-4a82-b8d3-e5becb180aac",
   "metadata": {},
   "source": [
    "# Learning from networks project\n",
    "### Evaluation of different Node Embedding algorithms\n",
    "Members:<br>\n",
    "- D'Emilio Filippo, id : 2120931\n",
    "- Volpato Pietro, id : 2120825\n",
    "\n",
    "### Introduction to the project\n",
    " ---- to do ----\n"
   ]
  },
  {
   "cell_type": "markdown",
   "id": "99cc3ec4-7b01-4806-8c92-32e5f7334af7",
   "metadata": {},
   "source": [
    "### Required installations:\n",
    "- pip install node2vec"
   ]
  },
  {
   "cell_type": "markdown",
   "id": "bb1d3b60-f774-4fc7-b0bc-7617057d6459",
   "metadata": {},
   "source": [
    "### Imports"
   ]
  },
  {
   "cell_type": "code",
   "execution_count": 14,
   "id": "93987c53-ecce-41d6-948b-4a4b7ac4978a",
   "metadata": {},
   "outputs": [],
   "source": [
    "import numpy as np\n",
    "import networkx as nx\n",
    "import matplotlib.pyplot as plt\n",
    "from node2vec import Node2Vec\n",
    "from sklearn.metrics import mean_squared_error\n",
    "from sklearn.metrics.pairwise import cosine_similarity\n",
    "import gzip"
   ]
  },
  {
   "cell_type": "markdown",
   "id": "79f6ca3e-b5f5-4869-a3ef-47fb66cd7c56",
   "metadata": {},
   "source": [
    "### Picking the graphs\n",
    "(per ora solo questo esempio giocattolo). Grafo di facebook: https://snap.stanford.edu/data/ego-Facebook.html"
   ]
  },
  {
   "cell_type": "code",
   "execution_count": 19,
   "id": "c2ab6207-3fe1-44b0-bf8e-636a7d9f9f2b",
   "metadata": {},
   "outputs": [
    {
     "name": "stdout",
     "output_type": "stream",
     "text": [
      "Number of nodes: 4039\n",
      "Number of edges: 88234\n"
     ]
    }
   ],
   "source": [
    "file_path = \"../data/facebook_combined.txt.gz\"\n",
    "\n",
    "# Read and parse the graph\n",
    "G = nx.Graph()  # Create an empty undirected graph\n",
    "with gzip.open(file_path, 'rt') as f:\n",
    "    for line in f:\n",
    "        node1, node2 = map(int, line.strip().split())\n",
    "        G.add_edge(node1, node2)\n",
    "\n",
    "print(f\"Number of nodes: {len(G.nodes)}\")\n",
    "print(f\"Number of edges: {len(G.edges)}\")"
   ]
  },
  {
   "cell_type": "markdown",
   "id": "66b0aada-e8df-421a-bf3a-d40c09885e40",
   "metadata": {},
   "source": [
    "Per Pietro: ciao, visto che ti ho fatto fare il proposal, qui proverò a fare l'embedding di un grafo giocattolousando node2vec.<br>\n",
    "Ho visto il link a github nel proposal e si tratta proprio dell'implementazione standard in python di node2vec, visto che nel readme come guida di installazione dice: pip install node2vec.\n",
    "<br><br>\n",
    "Spiegazione sui parametri di node2vec:<br>\n",
    "- G (required): The graph on which to run Node2Vec. Must be an undirected networkx.Graph object.\n",
    "- dimensions (default = 128): The dimensionality of the node embeddings. Higher dimensions allow for capturing more information but increase computational cost.\n",
    "- walk_length (default = 80): The number of steps for each random walk. A larger walk_length captures more of the network structure.\n",
    "- num_walks (default = 10): The number of random walks to start per node. Increasing this can improve the representation at the cost of additional computation.\n",
    "- workers (default = 1): The number of CPU cores to use for parallel processing. If you're running this on a multi-core machine, increasing this can speed up the computation.\n",
    "- p (return parameter): p<1: Increases the likelihood of revisiting a node (DFS-like behavior). p>1: Discourages revisiting nodes, encouraging exploration (BFS-like behavior).\n",
    "- q (in-out parameter): q<1: Encourages walks to nodes further away from the starting node (BFS-like).q>1: Biases walks to nodes closer to the starting node (DFS-like).\n",
    "\n",
    "Spiegazione di : model = node2vec.fit(window=5, min_count=1, batch_words=4)<br>\n",
    "This trains a Word2Vec model (from the gensim library) using the random walks. Let’s go over the parameters:<br>\n",
    "\n",
    "- window (default = 10): The maximum distance between the current and predicted nodes in the random walk sequence. Larger windows capture more context but require more computation.\n",
    "\n",
    "- min_count (default = 1): Minimum frequency for a node to be considered in the embedding. Since most graphs are sparse, this is often set to 1.\n",
    "\n",
    "- batch_words (default = 4): The number of words (or nodes) processed in each training batch. Adjust this for performance depending on your hardware."
   ]
  },
  {
   "cell_type": "markdown",
   "id": "d7649b02-023b-4ec3-b1e7-4d051776d0f2",
   "metadata": {},
   "source": [
    "### Test provando il reconstruction error"
   ]
  },
  {
   "cell_type": "code",
   "execution_count": null,
   "id": "c54d5a3a-a0ff-4044-8ba4-808588927dba",
   "metadata": {},
   "outputs": [
    {
     "name": "stdout",
     "output_type": "stream",
     "text": [
      "Evaluating p=0.25, q=0.25...\n"
     ]
    },
    {
     "data": {
      "application/vnd.jupyter.widget-view+json": {
       "model_id": "b083d03c56f04fa59343caae7b0d8556",
       "version_major": 2,
       "version_minor": 0
      },
      "text/plain": [
       "Computing transition probabilities:   0%|          | 0/4039 [00:00<?, ?it/s]"
      ]
     },
     "metadata": {},
     "output_type": "display_data"
    },
    {
     "name": "stdout",
     "output_type": "stream",
     "text": [
      "Reconstruction Error: 0.2701472292931636\n",
      "Evaluating p=0.25, q=0.5...\n"
     ]
    },
    {
     "data": {
      "application/vnd.jupyter.widget-view+json": {
       "model_id": "e8c88d10f2824d8582dd4694fba341a4",
       "version_major": 2,
       "version_minor": 0
      },
      "text/plain": [
       "Computing transition probabilities:   0%|          | 0/4039 [00:00<?, ?it/s]"
      ]
     },
     "metadata": {},
     "output_type": "display_data"
    },
    {
     "name": "stdout",
     "output_type": "stream",
     "text": [
      "Reconstruction Error: 0.26431369322650033\n",
      "Evaluating p=0.25, q=1...\n"
     ]
    },
    {
     "data": {
      "application/vnd.jupyter.widget-view+json": {
       "model_id": "538fbce7dde44cdeb5fcf4f691409513",
       "version_major": 2,
       "version_minor": 0
      },
      "text/plain": [
       "Computing transition probabilities:   0%|          | 0/4039 [00:00<?, ?it/s]"
      ]
     },
     "metadata": {},
     "output_type": "display_data"
    },
    {
     "name": "stdout",
     "output_type": "stream",
     "text": [
      "Reconstruction Error: 0.2539990913159048\n",
      "Evaluating p=0.25, q=2...\n"
     ]
    },
    {
     "data": {
      "application/vnd.jupyter.widget-view+json": {
       "model_id": "d66b14eebafb457e827ce64c2441215f",
       "version_major": 2,
       "version_minor": 0
      },
      "text/plain": [
       "Computing transition probabilities:   0%|          | 0/4039 [00:00<?, ?it/s]"
      ]
     },
     "metadata": {},
     "output_type": "display_data"
    },
    {
     "name": "stdout",
     "output_type": "stream",
     "text": [
      "Reconstruction Error: 0.2559409015413418\n",
      "Evaluating p=0.25, q=4...\n"
     ]
    },
    {
     "data": {
      "application/vnd.jupyter.widget-view+json": {
       "model_id": "4dc0bac7e21140949276c2057a3a38f0",
       "version_major": 2,
       "version_minor": 0
      },
      "text/plain": [
       "Computing transition probabilities:   0%|          | 0/4039 [00:00<?, ?it/s]"
      ]
     },
     "metadata": {},
     "output_type": "display_data"
    },
    {
     "name": "stdout",
     "output_type": "stream",
     "text": [
      "Reconstruction Error: 0.2311173155050151\n",
      "Evaluating p=0.5, q=0.25...\n"
     ]
    },
    {
     "data": {
      "application/vnd.jupyter.widget-view+json": {
       "model_id": "f1b8aa8c628b4c35bcb090ee11400422",
       "version_major": 2,
       "version_minor": 0
      },
      "text/plain": [
       "Computing transition probabilities:   0%|          | 0/4039 [00:00<?, ?it/s]"
      ]
     },
     "metadata": {},
     "output_type": "display_data"
    },
    {
     "name": "stdout",
     "output_type": "stream",
     "text": [
      "Reconstruction Error: 0.26310072528408524\n",
      "Evaluating p=0.5, q=0.5...\n"
     ]
    },
    {
     "data": {
      "application/vnd.jupyter.widget-view+json": {
       "model_id": "abfffbd6708c44f1b7e4b68eca65a17e",
       "version_major": 2,
       "version_minor": 0
      },
      "text/plain": [
       "Computing transition probabilities:   0%|          | 0/4039 [00:00<?, ?it/s]"
      ]
     },
     "metadata": {},
     "output_type": "display_data"
    },
    {
     "name": "stdout",
     "output_type": "stream",
     "text": [
      "Reconstruction Error: 0.27476605307279406\n",
      "Evaluating p=0.5, q=1...\n"
     ]
    },
    {
     "data": {
      "application/vnd.jupyter.widget-view+json": {
       "model_id": "f5390aa0a2c34610a3ab144ed36c586a",
       "version_major": 2,
       "version_minor": 0
      },
      "text/plain": [
       "Computing transition probabilities:   0%|          | 0/4039 [00:00<?, ?it/s]"
      ]
     },
     "metadata": {},
     "output_type": "display_data"
    },
    {
     "name": "stdout",
     "output_type": "stream",
     "text": [
      "Reconstruction Error: 0.2735465842805719\n",
      "Evaluating p=0.5, q=2...\n"
     ]
    },
    {
     "data": {
      "application/vnd.jupyter.widget-view+json": {
       "model_id": "b3e3da75b4034e5882e0bedd34a0a5b6",
       "version_major": 2,
       "version_minor": 0
      },
      "text/plain": [
       "Computing transition probabilities:   0%|          | 0/4039 [00:00<?, ?it/s]"
      ]
     },
     "metadata": {},
     "output_type": "display_data"
    },
    {
     "name": "stdout",
     "output_type": "stream",
     "text": [
      "Reconstruction Error: 0.25712319069877626\n",
      "Evaluating p=0.5, q=4...\n"
     ]
    },
    {
     "data": {
      "application/vnd.jupyter.widget-view+json": {
       "model_id": "ed63fd9a8ea4497ab4e58ca49e218afc",
       "version_major": 2,
       "version_minor": 0
      },
      "text/plain": [
       "Computing transition probabilities:   0%|          | 0/4039 [00:00<?, ?it/s]"
      ]
     },
     "metadata": {},
     "output_type": "display_data"
    },
    {
     "name": "stdout",
     "output_type": "stream",
     "text": [
      "Reconstruction Error: 0.23122614678320177\n",
      "Evaluating p=1, q=0.25...\n"
     ]
    },
    {
     "data": {
      "application/vnd.jupyter.widget-view+json": {
       "model_id": "78081b9e664c4555ad5abe67a80c3006",
       "version_major": 2,
       "version_minor": 0
      },
      "text/plain": [
       "Computing transition probabilities:   0%|          | 0/4039 [00:00<?, ?it/s]"
      ]
     },
     "metadata": {},
     "output_type": "display_data"
    },
    {
     "name": "stdout",
     "output_type": "stream",
     "text": [
      "Reconstruction Error: 0.27319153802185336\n",
      "Evaluating p=1, q=0.5...\n"
     ]
    },
    {
     "data": {
      "application/vnd.jupyter.widget-view+json": {
       "model_id": "b7d733e70bff48cba1f3759f6ad09f77",
       "version_major": 2,
       "version_minor": 0
      },
      "text/plain": [
       "Computing transition probabilities:   0%|          | 0/4039 [00:00<?, ?it/s]"
      ]
     },
     "metadata": {},
     "output_type": "display_data"
    },
    {
     "name": "stdout",
     "output_type": "stream",
     "text": [
      "Reconstruction Error: 0.27886158411085643\n",
      "Evaluating p=1, q=1...\n"
     ]
    },
    {
     "data": {
      "application/vnd.jupyter.widget-view+json": {
       "model_id": "f57d73165fc34bc7b0d27edf931d74a0",
       "version_major": 2,
       "version_minor": 0
      },
      "text/plain": [
       "Computing transition probabilities:   0%|          | 0/4039 [00:00<?, ?it/s]"
      ]
     },
     "metadata": {},
     "output_type": "display_data"
    },
    {
     "name": "stdout",
     "output_type": "stream",
     "text": [
      "Reconstruction Error: 0.2851119592059456\n",
      "Evaluating p=1, q=2...\n"
     ]
    },
    {
     "data": {
      "application/vnd.jupyter.widget-view+json": {
       "model_id": "785b8fa0eb33435784d90710d08e22e6",
       "version_major": 2,
       "version_minor": 0
      },
      "text/plain": [
       "Computing transition probabilities:   0%|          | 0/4039 [00:00<?, ?it/s]"
      ]
     },
     "metadata": {},
     "output_type": "display_data"
    },
    {
     "name": "stdout",
     "output_type": "stream",
     "text": [
      "Reconstruction Error: 0.2751326887142336\n",
      "Evaluating p=1, q=4...\n"
     ]
    },
    {
     "data": {
      "application/vnd.jupyter.widget-view+json": {
       "model_id": "7ad2aa8146e6474395ee35e31f7f5d71",
       "version_major": 2,
       "version_minor": 0
      },
      "text/plain": [
       "Computing transition probabilities:   0%|          | 0/4039 [00:00<?, ?it/s]"
      ]
     },
     "metadata": {},
     "output_type": "display_data"
    },
    {
     "name": "stdout",
     "output_type": "stream",
     "text": [
      "Reconstruction Error: 0.24256983450267536\n",
      "Evaluating p=2, q=0.25...\n"
     ]
    },
    {
     "data": {
      "application/vnd.jupyter.widget-view+json": {
       "model_id": "c7c9eac8af3646139abd411c4c7bf481",
       "version_major": 2,
       "version_minor": 0
      },
      "text/plain": [
       "Computing transition probabilities:   0%|          | 0/4039 [00:00<?, ?it/s]"
      ]
     },
     "metadata": {},
     "output_type": "display_data"
    },
    {
     "name": "stdout",
     "output_type": "stream",
     "text": [
      "Reconstruction Error: 0.2569877472550811\n",
      "Evaluating p=2, q=0.5...\n"
     ]
    },
    {
     "data": {
      "application/vnd.jupyter.widget-view+json": {
       "model_id": "76ddc5db96214924bdd3f4b26938fb91",
       "version_major": 2,
       "version_minor": 0
      },
      "text/plain": [
       "Computing transition probabilities:   0%|          | 0/4039 [00:00<?, ?it/s]"
      ]
     },
     "metadata": {},
     "output_type": "display_data"
    }
   ],
   "source": [
    "def reconstruction_error(G, embeddings):\n",
    "    # Adjacency matrix of the original graph\n",
    "    A = nx.to_numpy_array(G)\n",
    "\n",
    "    # Compute similarity matrix from embeddings\n",
    "    embedding_vectors = np.array([embeddings[node] for node in G.nodes])\n",
    "    similarity_matrix = cosine_similarity(embedding_vectors)\n",
    "\n",
    "    # Normalize similarity matrix to match adjacency scale\n",
    "    similarity_matrix = (similarity_matrix - similarity_matrix.min()) / (\n",
    "        similarity_matrix.max() - similarity_matrix.min()\n",
    "    )\n",
    "\n",
    "    # Compute reconstruction error (MSE)\n",
    "    mse = mean_squared_error(A.flatten(), similarity_matrix.flatten())\n",
    "    return mse\n",
    "\n",
    "# Function to evaluate the reconstruction error\n",
    "def evaluate_reconstruction_error(G, dimensions, walk_length, num_walks, p, q):\n",
    "    # Generate embeddings with Node2Vec\n",
    "    node2vec = Node2Vec(\n",
    "        G, dimensions=dimensions, walk_length=walk_length, num_walks=num_walks, p=p, q=q, workers=2\n",
    "    )\n",
    "    model = node2vec.fit(window=10, min_count=1, batch_words=4)\n",
    "    embeddings = {node: model.wv[node] for node in G.nodes}\n",
    "    \n",
    "    # Compute reconstruction error\n",
    "    return reconstruction_error(G, embeddings)\n",
    "\n",
    "# Define the parameter grid for p and q\n",
    "p_values = [0.25, 0.5, 1, 2, 4]\n",
    "q_values = [0.25, 0.5, 1, 2, 4]\n",
    "\n",
    "# Placeholder for results\n",
    "results = []\n",
    "\n",
    "# Loop over p and q values\n",
    "for p in p_values:\n",
    "    for q in q_values:\n",
    "        print(f\"Evaluating p={p}, q={q}...\")\n",
    "        error = evaluate_reconstruction_error(G, dimensions=128, walk_length=10, num_walks=20, p=p, q=q)\n",
    "        results.append((p, q, error))\n",
    "        print(f\"Reconstruction Error: {error}\")\n",
    "\n",
    "# Convert results to a structured format\n",
    "results = np.array(results, dtype=[('p', float), ('q', float), ('error', float)])\n",
    "\n",
    "# Find the best combination of p and q\n",
    "best_index = np.argmin(results['error'])\n",
    "best_p, best_q, best_error = results[best_index]\n",
    "print(f\"Best parameters: p={best_p}, q={best_q} with Reconstruction Error: {best_error}\")"
   ]
  },
  {
   "cell_type": "code",
   "execution_count": null,
   "id": "8b507a4e-4020-48c7-936c-e6ed45619c0c",
   "metadata": {},
   "outputs": [],
   "source": []
  }
 ],
 "metadata": {
  "kernelspec": {
   "display_name": "Python 3",
   "language": "python",
   "name": "python3"
  },
  "language_info": {
   "codemirror_mode": {
    "name": "ipython",
    "version": 3
   },
   "file_extension": ".py",
   "mimetype": "text/x-python",
   "name": "python",
   "nbconvert_exporter": "python",
   "pygments_lexer": "ipython3",
   "version": "3.9.7"
  }
 },
 "nbformat": 4,
 "nbformat_minor": 5
}
