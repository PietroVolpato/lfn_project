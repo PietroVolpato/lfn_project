{
 "cells": [
  {
   "cell_type": "markdown",
   "id": "d121cbd5",
   "metadata": {
    "id": "d121cbd5"
   },
   "source": [
    "<a href=\"https://colab.research.google.com/github/PietroVolpato/lfn_project/blob/main/src/LFN_project_embeddings.ipynb\" target=\"_parent\"><img src=\"https://colab.research.google.com/assets/colab-badge.svg\" alt=\"Open In Colab\"/></a>"
   ]
  },
  {
   "cell_type": "markdown",
   "id": "358080be-e62b-4a82-b8d3-e5becb180aac",
   "metadata": {
    "id": "358080be-e62b-4a82-b8d3-e5becb180aac"
   },
   "source": [
    "# Learning from networks project\n",
    "### Evaluation of different Node Embedding algorithms\n",
    "Members:<br>\n",
    "- D'Emilio Filippo, id : 2120931\n",
    "- Volpato Pietro, id : 2120825\n",
    "\n",
    "### Information about the notebook (have a look at the report for details)\n",
    "This notebook are computed the embeddings for every selected using 3 different embedding algorithms.<br>\n",
    "Each embedding is saved to file as a numpy array (extension .npy), in the directory /results. In this way once an embedding is computed, it won't be lost when the runtime of the notebook is terminated.<br>\n",
    "We can then efficiently load the embeddings in the \"test\" notebook, and evaluate the quality of the embeddings.<br>\n",
    "Selected embedding techniques:\n",
    "- Node2Vec\n",
    "- Line\n",
    "- Attention Walk\n",
    "\n",
    "For information about the graphs, se cells below.<br>\n",
    "*NOTE*: by implementation choice, the computation of each embedding is computed separately (there are no function to coincisely compute all embeddings).<br>\n",
    "This choice comes from the fact that computing embeddings is computationally intensive, and we might want to compute only a specific embedding strategy for a specific graph."
   ]
  },
  {
   "cell_type": "markdown",
   "id": "bb1d3b60-f774-4fc7-b0bc-7617057d6459",
   "metadata": {
    "id": "bb1d3b60-f774-4fc7-b0bc-7617057d6459"
   },
   "source": [
    "### Imports"
   ]
  },
  {
   "cell_type": "code",
   "execution_count": 1,
   "id": "93987c53-ecce-41d6-948b-4a4b7ac4978a",
   "metadata": {
    "id": "93987c53-ecce-41d6-948b-4a4b7ac4978a"
   },
   "outputs": [],
   "source": [
    "import numpy as np\n",
    "import networkx as nx\n",
    "import matplotlib.pyplot as plt\n",
    "from node2vec import Node2Vec\n",
    "from sklearn.metrics import mean_squared_error\n",
    "from sklearn.metrics.pairwise import cosine_similarity\n",
    "import gzip\n",
    "import sys\n",
    "import re"
   ]
  },
  {
   "cell_type": "markdown",
   "id": "d6b64818-de78-4c30-945e-b95279c7f1c9",
   "metadata": {
    "id": "d6b64818-de78-4c30-945e-b95279c7f1c9"
   },
   "source": [
    "# configuration\n",
    "Here you can properly configure the names of the graphs and the names of the embedding strategies. Use meaningful names."
   ]
  },
  {
   "cell_type": "code",
   "execution_count": 2,
   "id": "6e5b26d0-84d0-46ad-83dd-ac826faac4fe",
   "metadata": {
    "id": "6e5b26d0-84d0-46ad-83dd-ac826faac4fe"
   },
   "outputs": [],
   "source": [
    "graph_keys = [\"facebook\",\"citation\",\"biological\",\"proteins\", \"spam\"]\n",
    "embedding_keys = [\"LINE\", \"node2vec\"]"
   ]
  },
  {
   "cell_type": "markdown",
   "id": "79f6ca3e-b5f5-4869-a3ef-47fb66cd7c56",
   "metadata": {
    "id": "79f6ca3e-b5f5-4869-a3ef-47fb66cd7c56"
   },
   "source": [
    "# Loading the graphs\n",
    "Selected graphs:\n",
    "- Facebook_combined    https://snap.stanford.edu/data/ego-Facebook.html          \n",
    "- cit-Helpth           https://networkrepository.com/cit-HepTh.php             \n",
    "- bio-CE-CX            https://networkrepository.com/bio-CE-CX.php             \n",
    "- proteins-full        https://networkrepository.com/PROTEINS-full.php ---- the graph has node labels\n",
    "- COX2-MD              https://networkrepository.com/COX2-MD.php  ---- the graph has node labels\n",
    "\n",
    "To run this notebook, adjust the paths to match where the files are saved in your PC.<br>\n",
    "To keep paths as they are, create a \"data\" folder inside the directory of this notebook, and store the files there.<br>\n",
    "Graphs are stored as a dictionary: the key is the graph name, the value is the corresponding netowrkx graph.<br>\n",
    "\n",
    "When it is created a networkX graph from a text file the node are renamed as integers form 0 to |V|-1, so that we can store the embeddings\n",
    "on a matrix, and each row index corresponds to the embedding vector of the corrisponding node."
   ]
  },
  {
   "cell_type": "code",
   "execution_count": 3,
   "id": "TtpPrXlsIUgJ",
   "metadata": {
    "id": "TtpPrXlsIUgJ"
   },
   "outputs": [],
   "source": [
    "facebook_path = '../data/facebook/facebook_combined.txt.gz'\n",
    "citation_path = '../data/citation/cit-HepTh.edges'\n",
    "biological_path = '../data/biological/bio-CE-CX.edges'\n",
    "proteins_path = \"../data/proteins/PROTEINS-full.edges\"\n",
    "spam_path = \"../data/spam/web-spam-detection.edges\""
   ]
  },
  {
   "cell_type": "code",
   "execution_count": 4,
   "id": "e83f7ed1-5bbd-4e15-8d0c-1a93e9802783",
   "metadata": {
    "id": "e83f7ed1-5bbd-4e15-8d0c-1a93e9802783"
   },
   "outputs": [],
   "source": [
    "def load_graph(path):\n",
    "    \"\"\"\n",
    "    For files with extension .edges\n",
    "    nodes are renamed as integers, starting from 0\n",
    "    \"\"\"\n",
    "    G = nx.Graph()\n",
    "    with open(path, 'rt') as f:\n",
    "        for line in f:\n",
    "            if line.startswith('%'):  # Skip comment lines\n",
    "                continue\n",
    "            # Split the line based on spaces or commas\n",
    "            data = re.split(r'[,\\s]+', line.strip())\n",
    "            if len(data) < 2:  # Skip lines that don't have at least two columns\n",
    "                continue\n",
    "            # Extract the first two columns (nodes)\n",
    "            node1, node2 = int(data[0]), int(data[1])\n",
    "            G.add_edge(node1, node2)\n",
    "    mapping = {node : i for i,node in enumerate(G.nodes)} # mappoing original : relabeled\n",
    "    G = nx.relabel_nodes(G, mapping)\n",
    "    return G\n",
    "\n",
    "def load_graph_with_gz(path):\n",
    "    \"\"\"\n",
    "    For files with extension .txt.gz\n",
    "    nodes are renamed as integers, starting from 0\n",
    "    \"\"\"\n",
    "    G = nx.Graph()\n",
    "    with gzip.open(path, 'rt') as f:\n",
    "        for line in f:\n",
    "            node1, node2 = map(int, line.strip().split())\n",
    "            G.add_edge(node1, node2)\n",
    "    mapping = {node : i for i,node in enumerate(G.nodes)} # mappoing original : relabeled\n",
    "    G = nx.relabel_nodes(G, mapping)\n",
    "    return G\n",
    "\n",
    "def print_graphs_info(graphs):\n",
    "    for k in graph_keys:\n",
    "        G = graphs[k]\n",
    "        print(f\"{k}: |V|={len(G.nodes)}, |E|={len(G.edges)}\")"
   ]
  },
  {
   "cell_type": "code",
   "execution_count": 5,
   "id": "c2ab6207-3fe1-44b0-bf8e-636a7d9f9f2b",
   "metadata": {
    "colab": {
     "base_uri": "https://localhost:8080/"
    },
    "id": "c2ab6207-3fe1-44b0-bf8e-636a7d9f9f2b",
    "outputId": "b810991c-26ec-47d1-b2c3-248de16db6fe"
   },
   "outputs": [
    {
     "name": "stdout",
     "output_type": "stream",
     "text": [
      "facebook: |V|=4039, |E|=88234\n",
      "citation: |V|=22908, |E|=2444798\n",
      "biological: |V|=15229, |E|=245952\n",
      "proteins: |V|=43471, |E|=81049\n",
      "spam: |V|=9072, |E|=473854\n"
     ]
    }
   ],
   "source": [
    "graphs = {}\n",
    "\n",
    "# facebook graph is the only one .tar.gz\n",
    "graphs[graph_keys[0]] = load_graph_with_gz(facebook_path)  # relabeling nodes to integer\n",
    "graphs[graph_keys[1]] = load_graph(citation_path)\n",
    "graphs[graph_keys[2]] = load_graph(biological_path)\n",
    "graphs[graph_keys[3]] = load_graph(proteins_path)  # node labeled\n",
    "graphs[graph_keys[4]] = load_graph(spam_path)  # node labeled\n",
    "\n",
    "print_graphs_info(graphs)"
   ]
  },
  {
   "cell_type": "markdown",
   "id": "8tGjO8jcn7P5",
   "metadata": {
    "id": "8tGjO8jcn7P5"
   },
   "source": [
    "# Download the dataset from the GitHub repository"
   ]
  },
  {
   "cell_type": "code",
   "execution_count": 9,
   "id": "pBB2zmeGoCXe",
   "metadata": {
    "id": "pBB2zmeGoCXe"
   },
   "outputs": [],
   "source": [
    "import requests\n",
    "\n",
    "url = \"https://raw.githubusercontent.com/PietroVolpato/lfn_project/main/data/\"\n",
    "filename = \"bio-CE-CX_edges.csv\"\n",
    "\n",
    "response = requests.get(url + filename)\n",
    "with open(filename, \"wb\") as file:\n",
    "    file.write(response.content)"
   ]
  },
  {
   "cell_type": "markdown",
   "id": "f14ab17a-9328-47b5-bc28-15dbd59deabf",
   "metadata": {
    "id": "f14ab17a-9328-47b5-bc28-15dbd59deabf"
   },
   "source": [
    "# Functions and declarations for the embeddings\n",
    "Embedding data structure is defined as following:<br>\n",
    "- The first index refer to the graph (e.g. embeddings[\"facebook\"] contains the embeddings of the facebook graph for every embedding technique).<br>\n",
    "- The second index refer to the embedding technique (e.g. embeddings[\"facebook\"][\"LINE\"] cointans the embedding of facebook graph computed using LINE)"
   ]
  },
  {
   "cell_type": "code",
   "execution_count": 6,
   "id": "0e7e55ae-2aa3-4989-8903-0ccc3898309f",
   "metadata": {
    "id": "0e7e55ae-2aa3-4989-8903-0ccc3898309f"
   },
   "outputs": [],
   "source": [
    "def save(emb, graph_key, embedding_key, emb_dim):\n",
    "    path = f\"../result/embeddings_{graph_key}_{embedding_key}_{emb_dim}.npy\"\n",
    "    np.save(path, emb)\n",
    "    print(f\"Successfully saved the embeddings in {path}\")\n",
    "\n",
    "# dictionaries to store the embeddings, obtained by several techniques, for each graph\n",
    "embeddings = {}\n",
    "for k in graph_keys:\n",
    "    embeddings[k] = {}"
   ]
  },
  {
   "cell_type": "markdown",
   "id": "d7649b02-023b-4ec3-b1e7-4d051776d0f2",
   "metadata": {
    "id": "d7649b02-023b-4ec3-b1e7-4d051776d0f2"
   },
   "source": [
    "# Node2Vec\n",
    "- pip install node2vec"
   ]
  },
  {
   "cell_type": "code",
   "execution_count": 39,
   "id": "c54d5a3a-a0ff-4044-8ba4-808588927dba",
   "metadata": {
    "id": "c54d5a3a-a0ff-4044-8ba4-808588927dba"
   },
   "outputs": [],
   "source": [
    "def get_node2vec_embeddings(G, dimensions=128, walk_length=50, num_walks=40, neighborhood_size = 10, p=0.5, q=2):\n",
    "    \"\"\"\n",
    "    Generate node embeddings for a graph using the Node2Vec algorithm.\n",
    "\n",
    "    Parameters:\n",
    "        G (networkx.Graph):The input graph for which embeddings are to be generated.\n",
    "            The graph should have nodes labeled as integers, ideally sequentially starting from 0.\n",
    "        dimensions (int, optional): The dimensionality of the embedding space. Default is 128.\n",
    "        walk_length (int, optional): The length of each random walk. Default is 10.\n",
    "        num_walks (int, optional): The number of random walks to start from each node. Default is 20.\n",
    "        p (float, optional):\n",
    "            The return parameter, controlling the likelihood of immediately revisiting a node in the walk.\n",
    "            A higher value makes it more likely to backtrack. Default is 1.\n",
    "        q (float, optional):\n",
    "            The in-out parameter, controlling the likelihood of exploring outward from the starting node.\n",
    "            A higher value makes it more likely to move outward. Default is 1.\n",
    "        workers (int, optional): The number of parallel workers for random walk generation and model training. Default is 1.\n",
    "\n",
    "    Returns:\n",
    "        np.ndarray: A NumPy array where each row represents the embedding of a node.\n",
    "            The row index corresponds to the node ID, and each row has `dimensions` elements.\n",
    "    \"\"\"\n",
    "    # Initialize Node2Vec model\n",
    "    node2vec = Node2Vec(G, dimensions=dimensions, walk_length=walk_length, num_walks=num_walks, p=p, q=q, workers=1)\n",
    "\n",
    "    # Fit the Node2Vec model and generate embeddings\n",
    "    model = node2vec.fit(window=neighborhood_size, min_count=1, batch_words=4)\n",
    "\n",
    "    # Convert embeddings to a NumPy array\n",
    "    num_nodes = G.number_of_nodes()\n",
    "    embeddings = np.zeros((num_nodes, dimensions))  # Preallocate array\n",
    "    for node in G.nodes:\n",
    "        embeddings[node] = model.wv[str(node)]  # in the vocabulary node names are converted always to strings\n",
    "    return embeddings"
   ]
  },
  {
   "cell_type": "markdown",
   "id": "019d9eac-2b78-4283-bea5-354f1f324e49",
   "metadata": {},
   "source": [
    "## Produce the embeddings with node2vec\n",
    "here you can easily produce the embeddings for any of the loaded graphs using node2vec.<br>\n",
    "Adjust the variable curr_graph_key with the key of the graph you want to compute the embeddings for.<br>\n",
    "The embeddings are saved to file (look output to get path)."
   ]
  },
  {
   "cell_type": "code",
   "execution_count": 40,
   "id": "48f11c92-dd61-476b-9c80-e152704a2e58",
   "metadata": {
    "id": "2535202c-086c-42ae-a7a0-2bce62d42e02"
   },
   "outputs": [
    {
     "data": {
      "application/vnd.jupyter.widget-view+json": {
       "model_id": "263d006c0e324a2c83ecf0a60272d793",
       "version_major": 2,
       "version_minor": 0
      },
      "text/plain": [
       "Computing transition probabilities:   0%|          | 0/15229 [00:00<?, ?it/s]"
      ]
     },
     "metadata": {},
     "output_type": "display_data"
    },
    {
     "name": "stderr",
     "output_type": "stream",
     "text": [
      "Generating walks (CPU: 1): 100%|███████████████████████████████████████████████████████| 18/18 [04:21<00:00, 14.52s/it]\n"
     ]
    },
    {
     "name": "stdout",
     "output_type": "stream",
     "text": [
      "Successfully saved the embeddings in ../result/embeddings_biological_node2vec_128.npy\n"
     ]
    }
   ],
   "source": [
    "# graph_keys[0] = facebook\n",
    "# graph_keys[1] = citation \n",
    "# graph_keys[2] = biological\n",
    "# graph_keys[3] = proteins\n",
    "# graph_keys[4] = spam\n",
    "curr_graph_key = \"biological\"   # chose the graph\n",
    "emb_dim = 128\n",
    "\n",
    "# DENSE GRAPH (G, dimensions=emb_dim, walk_length=20, num_walks=20, p=1, q=0.5, epochs = 10)\n",
    "# PAPER SETTINGS: (G, dimensions=128, walk_length=80, num_walks=10, p=1, q=0.5)\n",
    "# PAPER SETTINGS BLOG GRAPH 10k, 333k:  (G, dimensions=128, walk_length=80, num_walks=18, p=0.25, q=0.25)\n",
    "\n",
    "# facebook : (walk_length=80, num_walks=18, neighborhood_size = 16, p=0.25, q=0.25)\n",
    "# spam : (walk_length=80, num_walks=18, neighborhood_size = 16, p=0.25, q=0.25)\n",
    "# biological: (walk_length=80, num_walks=18, neighborhood_size = 16, p=0.25, q=0.25)\n",
    "# proteins: G, (walk_length=20, num_walks=20, neighborhood_size = 8, p=0.25, q=1)\n",
    "\n",
    "# facebook community detection: walk_length=60, num_walks=15, neighborhood_size=10, p=2, q=0.5\n",
    "\n",
    "G = graphs[curr_graph_key]\n",
    "embeddings[curr_graph_key][\"node2vec\"] = get_node2vec_embeddings(\n",
    "    G, dimensions=emb_dim, walk_length=80, num_walks=18, neighborhood_size = 16, p=0.25, q=0.25\n",
    ")\n",
    "save(embeddings[curr_graph_key][\"node2vec\"], curr_graph_key, \"node2vec\", emb_dim)"
   ]
  },
  {
   "cell_type": "markdown",
   "id": "900c4f4c-6f35-4c15-bff0-837960ef3411",
   "metadata": {
    "id": "900c4f4c-6f35-4c15-bff0-837960ef3411"
   },
   "source": [
    "# LINE : Large-scale information network embedding\n",
    "installation guide:\n",
    "- git clone https://github.com/VahidooX/LINE.git\n",
    "- !pip install keras\n",
    "- !pip install tensorflow\n",
    "- adjust the sys.path to where you downloaded LINE repository\n",
    "\n",
    "*NOTE*: it was necessary to modify utils.py to adapt it at current version of keras because some elements were deprecated"
   ]
  },
  {
   "cell_type": "code",
   "execution_count": 11,
   "id": "3e6cc917-5939-45b8-aca5-d192cb0fd1d9",
   "metadata": {
    "id": "3e6cc917-5939-45b8-aca5-d192cb0fd1d9"
   },
   "outputs": [],
   "source": [
    "sys.path.append(\"LINE\")\n",
    "\n",
    "from model import create_model\n",
    "from utils import batchgen_train\n",
    "\n",
    "def get_LINE_embeddings(G, embedding_dim=128, batch_size=1024, negative_ratio=5, epochs=10, negative_sampling=\"UNIFORM\"):\n",
    "    \"\"\"\n",
    "    Generate LINE embeddings for a given graph.\n",
    "\n",
    "    Parameters:\n",
    "        G (nx.Graph): The graph for which embeddings are computed.\n",
    "        embedding_dim (int): Dimensionality of the embeddings.\n",
    "        batch_size (int): Batch size for training.\n",
    "        negative_ratio (int): Ratio of negative to positive samples.\n",
    "        epochs (int): Number of training epochs.\n",
    "        negative_sampling (str): Negative sampling strategy (\"UNIFORM\" or \"NON-UNIFORM\").\n",
    "\n",
    "    Returns:\n",
    "        numpy.ndarray: Node embeddings (shape: [num_nodes, embedding_dim]).\n",
    "    \"\"\"\n",
    "    num_nodes = G.number_of_nodes()\n",
    "\n",
    "    # Convert networkx.Graph to adj_list (edge list as 2D numpy array)\n",
    "    adj_list = np.array(list(G.edges()), dtype=np.int32)\n",
    "\n",
    "    # Create LINE model\n",
    "    model, embed_generator = create_model(num_nodes, embedding_dim)\n",
    "\n",
    "    # Generate training batches\n",
    "    train_gen = batchgen_train(adj_list, num_nodes, batch_size, negative_ratio, negative_sampling)\n",
    "\n",
    "    # Compile and train the model\n",
    "    model.compile(optimizer=\"adam\", loss=\"binary_crossentropy\")\n",
    "    model.fit(train_gen, steps_per_epoch=500, epochs=epochs)\n",
    "\n",
    "    # Extract embeddings\n",
    "    node_ids = np.arange(num_nodes)  # Sequential node IDs\n",
    "    embeddings = embed_generator.predict_on_batch(node_ids)\n",
    "\n",
    "    print(\"Node Embeddings Shape:\", embeddings[0].shape)\n",
    "    return embeddings"
   ]
  },
  {
   "cell_type": "markdown",
   "id": "94620d7e-7d58-494a-a968-acf7f5b20b4f",
   "metadata": {},
   "source": [
    "## Produce the embeddings with LINE\n",
    "here you can easily produce the embeddings for any of the loaded graphs using LINE.<br>\n",
    "Adjust the variable curr_graph_key with the key of the graph you want to compute the embeddings for.<br>\n",
    "The embeddings are saved to file (look output to get path)."
   ]
  },
  {
   "cell_type": "code",
   "execution_count": 12,
   "id": "2535202c-086c-42ae-a7a0-2bce62d42e02",
   "metadata": {
    "collapsed": true,
    "id": "2535202c-086c-42ae-a7a0-2bce62d42e02",
    "jupyter": {
     "outputs_hidden": true
    }
   },
   "outputs": [
    {
     "name": "stdout",
     "output_type": "stream",
     "text": [
      "Epoch 1/20\n",
      " 20/500 [>.............................] - ETA: 1:47 - loss: 1.7294"
     ]
    },
    {
     "ename": "KeyboardInterrupt",
     "evalue": "",
     "output_type": "error",
     "traceback": [
      "\u001b[1;31m---------------------------------------------------------------------------\u001b[0m",
      "\u001b[1;31mKeyboardInterrupt\u001b[0m                         Traceback (most recent call last)",
      "Cell \u001b[1;32mIn[12], line 4\u001b[0m\n\u001b[0;32m      1\u001b[0m curr_graph_key \u001b[38;5;241m=\u001b[39m graph_keys[\u001b[38;5;241m3\u001b[39m]   \u001b[38;5;66;03m# chose the graph\u001b[39;00m\n\u001b[0;32m      2\u001b[0m emb_dim \u001b[38;5;241m=\u001b[39m \u001b[38;5;241m128\u001b[39m\n\u001b[1;32m----> 4\u001b[0m embeddings[curr_graph_key][\u001b[38;5;124m\"\u001b[39m\u001b[38;5;124mLINE\u001b[39m\u001b[38;5;124m\"\u001b[39m] \u001b[38;5;241m=\u001b[39m \u001b[43mget_LINE_embeddings\u001b[49m\u001b[43m(\u001b[49m\u001b[43mgraphs\u001b[49m\u001b[43m[\u001b[49m\u001b[43mcurr_graph_key\u001b[49m\u001b[43m]\u001b[49m\u001b[43m,\u001b[49m\u001b[43m \u001b[49m\u001b[43mepochs\u001b[49m\u001b[43m \u001b[49m\u001b[38;5;241;43m=\u001b[39;49m\u001b[43m \u001b[49m\u001b[38;5;241;43m20\u001b[39;49m\u001b[43m)\u001b[49m\n\u001b[0;32m      5\u001b[0m save(embeddings[curr_graph_key][\u001b[38;5;124m\"\u001b[39m\u001b[38;5;124mLINE\u001b[39m\u001b[38;5;124m\"\u001b[39m], curr_graph_key, \u001b[38;5;124m\"\u001b[39m\u001b[38;5;124mLINE\u001b[39m\u001b[38;5;124m\"\u001b[39m, emb_dim)\n",
      "Cell \u001b[1;32mIn[11], line 34\u001b[0m, in \u001b[0;36mget_LINE_embeddings\u001b[1;34m(G, embedding_dim, batch_size, negative_ratio, epochs, negative_sampling)\u001b[0m\n\u001b[0;32m     32\u001b[0m \u001b[38;5;66;03m# Compile and train the model\u001b[39;00m\n\u001b[0;32m     33\u001b[0m model\u001b[38;5;241m.\u001b[39mcompile(optimizer\u001b[38;5;241m=\u001b[39m\u001b[38;5;124m\"\u001b[39m\u001b[38;5;124madam\u001b[39m\u001b[38;5;124m\"\u001b[39m, loss\u001b[38;5;241m=\u001b[39m\u001b[38;5;124m\"\u001b[39m\u001b[38;5;124mbinary_crossentropy\u001b[39m\u001b[38;5;124m\"\u001b[39m)\n\u001b[1;32m---> 34\u001b[0m \u001b[43mmodel\u001b[49m\u001b[38;5;241;43m.\u001b[39;49m\u001b[43mfit\u001b[49m\u001b[43m(\u001b[49m\u001b[43mtrain_gen\u001b[49m\u001b[43m,\u001b[49m\u001b[43m \u001b[49m\u001b[43msteps_per_epoch\u001b[49m\u001b[38;5;241;43m=\u001b[39;49m\u001b[38;5;241;43m500\u001b[39;49m\u001b[43m,\u001b[49m\u001b[43m \u001b[49m\u001b[43mepochs\u001b[49m\u001b[38;5;241;43m=\u001b[39;49m\u001b[43mepochs\u001b[49m\u001b[43m)\u001b[49m\n\u001b[0;32m     36\u001b[0m \u001b[38;5;66;03m# Extract embeddings\u001b[39;00m\n\u001b[0;32m     37\u001b[0m node_ids \u001b[38;5;241m=\u001b[39m np\u001b[38;5;241m.\u001b[39marange(num_nodes)  \u001b[38;5;66;03m# Sequential node IDs\u001b[39;00m\n",
      "File \u001b[1;32m~\\AppData\\Local\\Programs\\Python\\Python38\\lib\\site-packages\\keras\\src\\utils\\traceback_utils.py:65\u001b[0m, in \u001b[0;36mfilter_traceback.<locals>.error_handler\u001b[1;34m(*args, **kwargs)\u001b[0m\n\u001b[0;32m     63\u001b[0m filtered_tb \u001b[38;5;241m=\u001b[39m \u001b[38;5;28;01mNone\u001b[39;00m\n\u001b[0;32m     64\u001b[0m \u001b[38;5;28;01mtry\u001b[39;00m:\n\u001b[1;32m---> 65\u001b[0m     \u001b[38;5;28;01mreturn\u001b[39;00m \u001b[43mfn\u001b[49m\u001b[43m(\u001b[49m\u001b[38;5;241;43m*\u001b[39;49m\u001b[43margs\u001b[49m\u001b[43m,\u001b[49m\u001b[43m \u001b[49m\u001b[38;5;241;43m*\u001b[39;49m\u001b[38;5;241;43m*\u001b[39;49m\u001b[43mkwargs\u001b[49m\u001b[43m)\u001b[49m\n\u001b[0;32m     66\u001b[0m \u001b[38;5;28;01mexcept\u001b[39;00m \u001b[38;5;167;01mException\u001b[39;00m \u001b[38;5;28;01mas\u001b[39;00m e:\n\u001b[0;32m     67\u001b[0m     filtered_tb \u001b[38;5;241m=\u001b[39m _process_traceback_frames(e\u001b[38;5;241m.\u001b[39m__traceback__)\n",
      "File \u001b[1;32m~\\AppData\\Local\\Programs\\Python\\Python38\\lib\\site-packages\\keras\\src\\engine\\training.py:1748\u001b[0m, in \u001b[0;36mModel.fit\u001b[1;34m(self, x, y, batch_size, epochs, verbose, callbacks, validation_split, validation_data, shuffle, class_weight, sample_weight, initial_epoch, steps_per_epoch, validation_steps, validation_batch_size, validation_freq, max_queue_size, workers, use_multiprocessing)\u001b[0m\n\u001b[0;32m   1746\u001b[0m logs \u001b[38;5;241m=\u001b[39m tmp_logs\n\u001b[0;32m   1747\u001b[0m end_step \u001b[38;5;241m=\u001b[39m step \u001b[38;5;241m+\u001b[39m data_handler\u001b[38;5;241m.\u001b[39mstep_increment\n\u001b[1;32m-> 1748\u001b[0m \u001b[43mcallbacks\u001b[49m\u001b[38;5;241;43m.\u001b[39;49m\u001b[43mon_train_batch_end\u001b[49m\u001b[43m(\u001b[49m\u001b[43mend_step\u001b[49m\u001b[43m,\u001b[49m\u001b[43m \u001b[49m\u001b[43mlogs\u001b[49m\u001b[43m)\u001b[49m\n\u001b[0;32m   1749\u001b[0m \u001b[38;5;28;01mif\u001b[39;00m \u001b[38;5;28mself\u001b[39m\u001b[38;5;241m.\u001b[39mstop_training:\n\u001b[0;32m   1750\u001b[0m     \u001b[38;5;28;01mbreak\u001b[39;00m\n",
      "File \u001b[1;32m~\\AppData\\Local\\Programs\\Python\\Python38\\lib\\site-packages\\keras\\src\\callbacks.py:475\u001b[0m, in \u001b[0;36mCallbackList.on_train_batch_end\u001b[1;34m(self, batch, logs)\u001b[0m\n\u001b[0;32m    468\u001b[0m \u001b[38;5;250m\u001b[39m\u001b[38;5;124;03m\"\"\"Calls the `on_train_batch_end` methods of its callbacks.\u001b[39;00m\n\u001b[0;32m    469\u001b[0m \n\u001b[0;32m    470\u001b[0m \u001b[38;5;124;03mArgs:\u001b[39;00m\n\u001b[0;32m    471\u001b[0m \u001b[38;5;124;03m    batch: Integer, index of batch within the current epoch.\u001b[39;00m\n\u001b[0;32m    472\u001b[0m \u001b[38;5;124;03m    logs: Dict. Aggregated metric results up until this batch.\u001b[39;00m\n\u001b[0;32m    473\u001b[0m \u001b[38;5;124;03m\"\"\"\u001b[39;00m\n\u001b[0;32m    474\u001b[0m \u001b[38;5;28;01mif\u001b[39;00m \u001b[38;5;28mself\u001b[39m\u001b[38;5;241m.\u001b[39m_should_call_train_batch_hooks:\n\u001b[1;32m--> 475\u001b[0m     \u001b[38;5;28;43mself\u001b[39;49m\u001b[38;5;241;43m.\u001b[39;49m\u001b[43m_call_batch_hook\u001b[49m\u001b[43m(\u001b[49m\u001b[43mModeKeys\u001b[49m\u001b[38;5;241;43m.\u001b[39;49m\u001b[43mTRAIN\u001b[49m\u001b[43m,\u001b[49m\u001b[43m \u001b[49m\u001b[38;5;124;43m\"\u001b[39;49m\u001b[38;5;124;43mend\u001b[39;49m\u001b[38;5;124;43m\"\u001b[39;49m\u001b[43m,\u001b[49m\u001b[43m \u001b[49m\u001b[43mbatch\u001b[49m\u001b[43m,\u001b[49m\u001b[43m \u001b[49m\u001b[43mlogs\u001b[49m\u001b[38;5;241;43m=\u001b[39;49m\u001b[43mlogs\u001b[49m\u001b[43m)\u001b[49m\n",
      "File \u001b[1;32m~\\AppData\\Local\\Programs\\Python\\Python38\\lib\\site-packages\\keras\\src\\callbacks.py:322\u001b[0m, in \u001b[0;36mCallbackList._call_batch_hook\u001b[1;34m(self, mode, hook, batch, logs)\u001b[0m\n\u001b[0;32m    320\u001b[0m     \u001b[38;5;28mself\u001b[39m\u001b[38;5;241m.\u001b[39m_call_batch_begin_hook(mode, batch, logs)\n\u001b[0;32m    321\u001b[0m \u001b[38;5;28;01melif\u001b[39;00m hook \u001b[38;5;241m==\u001b[39m \u001b[38;5;124m\"\u001b[39m\u001b[38;5;124mend\u001b[39m\u001b[38;5;124m\"\u001b[39m:\n\u001b[1;32m--> 322\u001b[0m     \u001b[38;5;28;43mself\u001b[39;49m\u001b[38;5;241;43m.\u001b[39;49m\u001b[43m_call_batch_end_hook\u001b[49m\u001b[43m(\u001b[49m\u001b[43mmode\u001b[49m\u001b[43m,\u001b[49m\u001b[43m \u001b[49m\u001b[43mbatch\u001b[49m\u001b[43m,\u001b[49m\u001b[43m \u001b[49m\u001b[43mlogs\u001b[49m\u001b[43m)\u001b[49m\n\u001b[0;32m    323\u001b[0m \u001b[38;5;28;01melse\u001b[39;00m:\n\u001b[0;32m    324\u001b[0m     \u001b[38;5;28;01mraise\u001b[39;00m \u001b[38;5;167;01mValueError\u001b[39;00m(\n\u001b[0;32m    325\u001b[0m         \u001b[38;5;124mf\u001b[39m\u001b[38;5;124m\"\u001b[39m\u001b[38;5;124mUnrecognized hook: \u001b[39m\u001b[38;5;132;01m{\u001b[39;00mhook\u001b[38;5;132;01m}\u001b[39;00m\u001b[38;5;124m. \u001b[39m\u001b[38;5;124m\"\u001b[39m\n\u001b[0;32m    326\u001b[0m         \u001b[38;5;124m'\u001b[39m\u001b[38;5;124mExpected values are [\u001b[39m\u001b[38;5;124m\"\u001b[39m\u001b[38;5;124mbegin\u001b[39m\u001b[38;5;124m\"\u001b[39m\u001b[38;5;124m, \u001b[39m\u001b[38;5;124m\"\u001b[39m\u001b[38;5;124mend\u001b[39m\u001b[38;5;124m\"\u001b[39m\u001b[38;5;124m]\u001b[39m\u001b[38;5;124m'\u001b[39m\n\u001b[0;32m    327\u001b[0m     )\n",
      "File \u001b[1;32m~\\AppData\\Local\\Programs\\Python\\Python38\\lib\\site-packages\\keras\\src\\callbacks.py:345\u001b[0m, in \u001b[0;36mCallbackList._call_batch_end_hook\u001b[1;34m(self, mode, batch, logs)\u001b[0m\n\u001b[0;32m    342\u001b[0m     batch_time \u001b[38;5;241m=\u001b[39m time\u001b[38;5;241m.\u001b[39mtime() \u001b[38;5;241m-\u001b[39m \u001b[38;5;28mself\u001b[39m\u001b[38;5;241m.\u001b[39m_batch_start_time\n\u001b[0;32m    343\u001b[0m     \u001b[38;5;28mself\u001b[39m\u001b[38;5;241m.\u001b[39m_batch_times\u001b[38;5;241m.\u001b[39mappend(batch_time)\n\u001b[1;32m--> 345\u001b[0m \u001b[38;5;28;43mself\u001b[39;49m\u001b[38;5;241;43m.\u001b[39;49m\u001b[43m_call_batch_hook_helper\u001b[49m\u001b[43m(\u001b[49m\u001b[43mhook_name\u001b[49m\u001b[43m,\u001b[49m\u001b[43m \u001b[49m\u001b[43mbatch\u001b[49m\u001b[43m,\u001b[49m\u001b[43m \u001b[49m\u001b[43mlogs\u001b[49m\u001b[43m)\u001b[49m\n\u001b[0;32m    347\u001b[0m \u001b[38;5;28;01mif\u001b[39;00m \u001b[38;5;28mlen\u001b[39m(\u001b[38;5;28mself\u001b[39m\u001b[38;5;241m.\u001b[39m_batch_times) \u001b[38;5;241m>\u001b[39m\u001b[38;5;241m=\u001b[39m \u001b[38;5;28mself\u001b[39m\u001b[38;5;241m.\u001b[39m_num_batches_for_timing_check:\n\u001b[0;32m    348\u001b[0m     end_hook_name \u001b[38;5;241m=\u001b[39m hook_name\n",
      "File \u001b[1;32m~\\AppData\\Local\\Programs\\Python\\Python38\\lib\\site-packages\\keras\\src\\callbacks.py:393\u001b[0m, in \u001b[0;36mCallbackList._call_batch_hook_helper\u001b[1;34m(self, hook_name, batch, logs)\u001b[0m\n\u001b[0;32m    391\u001b[0m \u001b[38;5;28;01mfor\u001b[39;00m callback \u001b[38;5;129;01min\u001b[39;00m \u001b[38;5;28mself\u001b[39m\u001b[38;5;241m.\u001b[39mcallbacks:\n\u001b[0;32m    392\u001b[0m     hook \u001b[38;5;241m=\u001b[39m \u001b[38;5;28mgetattr\u001b[39m(callback, hook_name)\n\u001b[1;32m--> 393\u001b[0m     \u001b[43mhook\u001b[49m\u001b[43m(\u001b[49m\u001b[43mbatch\u001b[49m\u001b[43m,\u001b[49m\u001b[43m \u001b[49m\u001b[43mlogs\u001b[49m\u001b[43m)\u001b[49m\n\u001b[0;32m    395\u001b[0m \u001b[38;5;28;01mif\u001b[39;00m \u001b[38;5;28mself\u001b[39m\u001b[38;5;241m.\u001b[39m_check_timing:\n\u001b[0;32m    396\u001b[0m     \u001b[38;5;28;01mif\u001b[39;00m hook_name \u001b[38;5;129;01mnot\u001b[39;00m \u001b[38;5;129;01min\u001b[39;00m \u001b[38;5;28mself\u001b[39m\u001b[38;5;241m.\u001b[39m_hook_times:\n",
      "File \u001b[1;32m~\\AppData\\Local\\Programs\\Python\\Python38\\lib\\site-packages\\keras\\src\\callbacks.py:1093\u001b[0m, in \u001b[0;36mProgbarLogger.on_train_batch_end\u001b[1;34m(self, batch, logs)\u001b[0m\n\u001b[0;32m   1092\u001b[0m \u001b[38;5;28;01mdef\u001b[39;00m \u001b[38;5;21mon_train_batch_end\u001b[39m(\u001b[38;5;28mself\u001b[39m, batch, logs\u001b[38;5;241m=\u001b[39m\u001b[38;5;28;01mNone\u001b[39;00m):\n\u001b[1;32m-> 1093\u001b[0m     \u001b[38;5;28;43mself\u001b[39;49m\u001b[38;5;241;43m.\u001b[39;49m\u001b[43m_batch_update_progbar\u001b[49m\u001b[43m(\u001b[49m\u001b[43mbatch\u001b[49m\u001b[43m,\u001b[49m\u001b[43m \u001b[49m\u001b[43mlogs\u001b[49m\u001b[43m)\u001b[49m\n",
      "File \u001b[1;32m~\\AppData\\Local\\Programs\\Python\\Python38\\lib\\site-packages\\keras\\src\\callbacks.py:1170\u001b[0m, in \u001b[0;36mProgbarLogger._batch_update_progbar\u001b[1;34m(self, batch, logs)\u001b[0m\n\u001b[0;32m   1167\u001b[0m \u001b[38;5;28;01mif\u001b[39;00m \u001b[38;5;28mself\u001b[39m\u001b[38;5;241m.\u001b[39mverbose \u001b[38;5;241m==\u001b[39m \u001b[38;5;241m1\u001b[39m:\n\u001b[0;32m   1168\u001b[0m     \u001b[38;5;66;03m# Only block async when verbose = 1.\u001b[39;00m\n\u001b[0;32m   1169\u001b[0m     logs \u001b[38;5;241m=\u001b[39m tf_utils\u001b[38;5;241m.\u001b[39msync_to_numpy_or_python_type(logs)\n\u001b[1;32m-> 1170\u001b[0m     \u001b[38;5;28;43mself\u001b[39;49m\u001b[38;5;241;43m.\u001b[39;49m\u001b[43mprogbar\u001b[49m\u001b[38;5;241;43m.\u001b[39;49m\u001b[43mupdate\u001b[49m\u001b[43m(\u001b[49m\u001b[38;5;28;43mself\u001b[39;49m\u001b[38;5;241;43m.\u001b[39;49m\u001b[43mseen\u001b[49m\u001b[43m,\u001b[49m\u001b[43m \u001b[49m\u001b[38;5;28;43mlist\u001b[39;49m\u001b[43m(\u001b[49m\u001b[43mlogs\u001b[49m\u001b[38;5;241;43m.\u001b[39;49m\u001b[43mitems\u001b[49m\u001b[43m(\u001b[49m\u001b[43m)\u001b[49m\u001b[43m)\u001b[49m\u001b[43m,\u001b[49m\u001b[43m \u001b[49m\u001b[43mfinalize\u001b[49m\u001b[38;5;241;43m=\u001b[39;49m\u001b[38;5;28;43;01mFalse\u001b[39;49;00m\u001b[43m)\u001b[49m\n",
      "File \u001b[1;32m~\\AppData\\Local\\Programs\\Python\\Python38\\lib\\site-packages\\keras\\src\\utils\\generic_utils.py:296\u001b[0m, in \u001b[0;36mProgbar.update\u001b[1;34m(self, current, values, finalize)\u001b[0m\n\u001b[0;32m    293\u001b[0m         info \u001b[38;5;241m+\u001b[39m\u001b[38;5;241m=\u001b[39m \u001b[38;5;124m\"\u001b[39m\u001b[38;5;130;01m\\n\u001b[39;00m\u001b[38;5;124m\"\u001b[39m\n\u001b[0;32m    295\u001b[0m     message \u001b[38;5;241m+\u001b[39m\u001b[38;5;241m=\u001b[39m info\n\u001b[1;32m--> 296\u001b[0m     \u001b[43mio_utils\u001b[49m\u001b[38;5;241;43m.\u001b[39;49m\u001b[43mprint_msg\u001b[49m\u001b[43m(\u001b[49m\u001b[43mmessage\u001b[49m\u001b[43m,\u001b[49m\u001b[43m \u001b[49m\u001b[43mline_break\u001b[49m\u001b[38;5;241;43m=\u001b[39;49m\u001b[38;5;28;43;01mFalse\u001b[39;49;00m\u001b[43m)\u001b[49m\n\u001b[0;32m    297\u001b[0m     message \u001b[38;5;241m=\u001b[39m \u001b[38;5;124m\"\u001b[39m\u001b[38;5;124m\"\u001b[39m\n\u001b[0;32m    299\u001b[0m \u001b[38;5;28;01melif\u001b[39;00m \u001b[38;5;28mself\u001b[39m\u001b[38;5;241m.\u001b[39mverbose \u001b[38;5;241m==\u001b[39m \u001b[38;5;241m2\u001b[39m:\n",
      "File \u001b[1;32m~\\AppData\\Local\\Programs\\Python\\Python38\\lib\\site-packages\\keras\\src\\utils\\io_utils.py:79\u001b[0m, in \u001b[0;36mprint_msg\u001b[1;34m(message, line_break)\u001b[0m\n\u001b[0;32m     77\u001b[0m         sys\u001b[38;5;241m.\u001b[39mstdout\u001b[38;5;241m.\u001b[39mwrite(message \u001b[38;5;241m+\u001b[39m \u001b[38;5;124m\"\u001b[39m\u001b[38;5;130;01m\\n\u001b[39;00m\u001b[38;5;124m\"\u001b[39m)\n\u001b[0;32m     78\u001b[0m     \u001b[38;5;28;01melse\u001b[39;00m:\n\u001b[1;32m---> 79\u001b[0m         \u001b[43msys\u001b[49m\u001b[38;5;241;43m.\u001b[39;49m\u001b[43mstdout\u001b[49m\u001b[38;5;241;43m.\u001b[39;49m\u001b[43mwrite\u001b[49m\u001b[43m(\u001b[49m\u001b[43mmessage\u001b[49m\u001b[43m)\u001b[49m\n\u001b[0;32m     80\u001b[0m     sys\u001b[38;5;241m.\u001b[39mstdout\u001b[38;5;241m.\u001b[39mflush()\n\u001b[0;32m     81\u001b[0m \u001b[38;5;28;01melse\u001b[39;00m:\n",
      "File \u001b[1;32m~\\AppData\\Local\\Programs\\Python\\Python38\\lib\\site-packages\\ipykernel\\iostream.py:694\u001b[0m, in \u001b[0;36mOutStream.write\u001b[1;34m(self, string)\u001b[0m\n\u001b[0;32m    692\u001b[0m     \u001b[38;5;28mself\u001b[39m\u001b[38;5;241m.\u001b[39mpub_thread\u001b[38;5;241m.\u001b[39mschedule(\u001b[38;5;28mself\u001b[39m\u001b[38;5;241m.\u001b[39m_flush)\n\u001b[0;32m    693\u001b[0m \u001b[38;5;28;01melse\u001b[39;00m:\n\u001b[1;32m--> 694\u001b[0m     \u001b[38;5;28;43mself\u001b[39;49m\u001b[38;5;241;43m.\u001b[39;49m\u001b[43m_schedule_flush\u001b[49m\u001b[43m(\u001b[49m\u001b[43m)\u001b[49m\n\u001b[0;32m    696\u001b[0m \u001b[38;5;28;01mreturn\u001b[39;00m \u001b[38;5;28mlen\u001b[39m(string)\n",
      "File \u001b[1;32m~\\AppData\\Local\\Programs\\Python\\Python38\\lib\\site-packages\\ipykernel\\iostream.py:590\u001b[0m, in \u001b[0;36mOutStream._schedule_flush\u001b[1;34m(self)\u001b[0m\n\u001b[0;32m    587\u001b[0m \u001b[38;5;28;01mdef\u001b[39;00m \u001b[38;5;21m_schedule_in_thread\u001b[39m():\n\u001b[0;32m    588\u001b[0m     \u001b[38;5;28mself\u001b[39m\u001b[38;5;241m.\u001b[39m_io_loop\u001b[38;5;241m.\u001b[39mcall_later(\u001b[38;5;28mself\u001b[39m\u001b[38;5;241m.\u001b[39mflush_interval, \u001b[38;5;28mself\u001b[39m\u001b[38;5;241m.\u001b[39m_flush)\n\u001b[1;32m--> 590\u001b[0m \u001b[38;5;28;43mself\u001b[39;49m\u001b[38;5;241;43m.\u001b[39;49m\u001b[43mpub_thread\u001b[49m\u001b[38;5;241;43m.\u001b[39;49m\u001b[43mschedule\u001b[49m\u001b[43m(\u001b[49m\u001b[43m_schedule_in_thread\u001b[49m\u001b[43m)\u001b[49m\n",
      "File \u001b[1;32m~\\AppData\\Local\\Programs\\Python\\Python38\\lib\\site-packages\\ipykernel\\iostream.py:267\u001b[0m, in \u001b[0;36mIOPubThread.schedule\u001b[1;34m(self, f)\u001b[0m\n\u001b[0;32m    265\u001b[0m     \u001b[38;5;28mself\u001b[39m\u001b[38;5;241m.\u001b[39m_events\u001b[38;5;241m.\u001b[39mappend(f)\n\u001b[0;32m    266\u001b[0m     \u001b[38;5;66;03m# wake event thread (message content is ignored)\u001b[39;00m\n\u001b[1;32m--> 267\u001b[0m     \u001b[38;5;28;43mself\u001b[39;49m\u001b[38;5;241;43m.\u001b[39;49m\u001b[43m_event_pipe\u001b[49m\u001b[38;5;241;43m.\u001b[39;49m\u001b[43msend\u001b[49m\u001b[43m(\u001b[49m\u001b[38;5;124;43mb\u001b[39;49m\u001b[38;5;124;43m\"\u001b[39;49m\u001b[38;5;124;43m\"\u001b[39;49m\u001b[43m)\u001b[49m\n\u001b[0;32m    268\u001b[0m \u001b[38;5;28;01melse\u001b[39;00m:\n\u001b[0;32m    269\u001b[0m     f()\n",
      "File \u001b[1;32m~\\AppData\\Local\\Programs\\Python\\Python38\\lib\\site-packages\\zmq\\sugar\\socket.py:696\u001b[0m, in \u001b[0;36mSocket.send\u001b[1;34m(self, data, flags, copy, track, routing_id, group)\u001b[0m\n\u001b[0;32m    689\u001b[0m         data \u001b[38;5;241m=\u001b[39m zmq\u001b[38;5;241m.\u001b[39mFrame(\n\u001b[0;32m    690\u001b[0m             data,\n\u001b[0;32m    691\u001b[0m             track\u001b[38;5;241m=\u001b[39mtrack,\n\u001b[0;32m    692\u001b[0m             copy\u001b[38;5;241m=\u001b[39mcopy \u001b[38;5;129;01mor\u001b[39;00m \u001b[38;5;28;01mNone\u001b[39;00m,\n\u001b[0;32m    693\u001b[0m             copy_threshold\u001b[38;5;241m=\u001b[39m\u001b[38;5;28mself\u001b[39m\u001b[38;5;241m.\u001b[39mcopy_threshold,\n\u001b[0;32m    694\u001b[0m         )\n\u001b[0;32m    695\u001b[0m     data\u001b[38;5;241m.\u001b[39mgroup \u001b[38;5;241m=\u001b[39m group\n\u001b[1;32m--> 696\u001b[0m \u001b[38;5;28;01mreturn\u001b[39;00m \u001b[38;5;28;43msuper\u001b[39;49m\u001b[43m(\u001b[49m\u001b[43m)\u001b[49m\u001b[38;5;241;43m.\u001b[39;49m\u001b[43msend\u001b[49m\u001b[43m(\u001b[49m\u001b[43mdata\u001b[49m\u001b[43m,\u001b[49m\u001b[43m \u001b[49m\u001b[43mflags\u001b[49m\u001b[38;5;241;43m=\u001b[39;49m\u001b[43mflags\u001b[49m\u001b[43m,\u001b[49m\u001b[43m \u001b[49m\u001b[43mcopy\u001b[49m\u001b[38;5;241;43m=\u001b[39;49m\u001b[43mcopy\u001b[49m\u001b[43m,\u001b[49m\u001b[43m \u001b[49m\u001b[43mtrack\u001b[49m\u001b[38;5;241;43m=\u001b[39;49m\u001b[43mtrack\u001b[49m\u001b[43m)\u001b[49m\n",
      "File \u001b[1;32mzmq\\\\backend\\\\cython\\\\socket.pyx:742\u001b[0m, in \u001b[0;36mzmq.backend.cython.socket.Socket.send\u001b[1;34m()\u001b[0m\n",
      "File \u001b[1;32mzmq\\\\backend\\\\cython\\\\socket.pyx:789\u001b[0m, in \u001b[0;36mzmq.backend.cython.socket.Socket.send\u001b[1;34m()\u001b[0m\n",
      "File \u001b[1;32mzmq\\\\backend\\\\cython\\\\socket.pyx:250\u001b[0m, in \u001b[0;36mzmq.backend.cython.socket._send_copy\u001b[1;34m()\u001b[0m\n",
      "File \u001b[1;32m~\\AppData\\Local\\Programs\\Python\\Python38\\lib\\site-packages\\zmq\\backend\\cython\\checkrc.pxd:13\u001b[0m, in \u001b[0;36mzmq.backend.cython.checkrc._check_rc\u001b[1;34m()\u001b[0m\n",
      "\u001b[1;31mKeyboardInterrupt\u001b[0m: "
     ]
    }
   ],
   "source": [
    "curr_graph_key = graph_keys[3]   # chose the graph\n",
    "emb_dim = 128\n",
    "\n",
    "embeddings[curr_graph_key][\"LINE\"] = get_LINE_embeddings(graphs[curr_graph_key], epochs = 20)\n",
    "save(embeddings[curr_graph_key][\"LINE\"], curr_graph_key, \"LINE\", emb_dim)"
   ]
  },
  {
   "cell_type": "markdown",
   "id": "5abc4a49",
   "metadata": {
    "id": "5abc4a49"
   },
   "source": [
    "# AttentionWalk"
   ]
  },
  {
   "cell_type": "markdown",
   "id": "5f540988",
   "metadata": {
    "id": "5f540988"
   },
   "source": [
    "## Installation guide\n",
    "<ol>\n",
    "<li>git clone https://github.com/benedekrozemberczki/AttentionWalk.git</li>\n",
    "<li>pip install texttable</li>\n",
    "</ol>\n",
    "\n",
    "It requires that the input file is a .csv, so first we have implemented a function that converts the .txt.gz and the .edges files to a .csv to be given as input to the AttentionWalk algorithm.<br>\n",
    "For starting the algorithm you have to enter to the AttentionWalk folder after having cloned it from the Github repository and then set the arguments as described in the README.md file."
   ]
  },
  {
   "cell_type": "code",
   "execution_count": null,
   "id": "a3b872e0",
   "metadata": {
    "colab": {
     "base_uri": "https://localhost:8080/"
    },
    "id": "a3b872e0",
    "outputId": "44fa23c4-3512-4e6c-e2e7-4459f560804d"
   },
   "outputs": [],
   "source": [
    "!git clone https://github.com/benedekrozemberczki/AttentionWalk.git"
   ]
  },
  {
   "cell_type": "code",
   "execution_count": 1,
   "id": "09f11f6f-0d1c-4ecc-843d-b9eb008dffc4",
   "metadata": {},
   "outputs": [
    {
     "name": "stdout",
     "output_type": "stream",
     "text": [
      "Collecting texttable\n",
      "  Downloading texttable-1.7.0-py2.py3-none-any.whl.metadata (9.8 kB)\n",
      "Downloading texttable-1.7.0-py2.py3-none-any.whl (10 kB)\n",
      "Installing collected packages: texttable\n",
      "Successfully installed texttable-1.7.0\n"
     ]
    }
   ],
   "source": [
    "!pip install texttable"
   ]
  },
  {
   "cell_type": "markdown",
   "id": "d01b0bbb",
   "metadata": {
    "id": "d01b0bbb"
   },
   "source": [
    "## Test with the facebook network\n",
    "Save the embeddings in the result folder<br>\n",
    "Time: 1m 50s"
   ]
  },
  {
   "cell_type": "code",
   "execution_count": 7,
   "id": "98fc24b7",
   "metadata": {
    "id": "98fc24b7",
    "outputId": "80702d2f-f99e-402c-a944-b6dcc8ab5146",
    "scrolled": true
   },
   "outputs": [
    {
     "name": "stdout",
     "output_type": "stream",
     "text": [
      "+----------------+---------------------------------------------+\n",
      "| Attention path |     ./output/chameleon_AW_attention.csv     |\n",
      "+================+=============================================+\n",
      "| Beta           | 0.500                                       |\n",
      "+----------------+---------------------------------------------+\n",
      "| Dimensions     | 128                                         |\n",
      "+----------------+---------------------------------------------+\n",
      "| Edge path      | ../../data/facebook/facebook_combined.csv   |\n",
      "+----------------+---------------------------------------------+\n",
      "| Embedding path | ../../result/embeddings_facebook_AW_128.csv |\n",
      "+----------------+---------------------------------------------+\n",
      "| Epochs         | 200                                         |\n",
      "+----------------+---------------------------------------------+\n",
      "| Gamma          | 0.500                                       |\n",
      "+----------------+---------------------------------------------+\n",
      "| Learning rate  | 0.010                                       |\n",
      "+----------------+---------------------------------------------+\n",
      "| Num of walks   | 30                                          |\n",
      "+----------------+---------------------------------------------+\n",
      "| Window size    | 16                                          |\n",
      "+----------------+---------------------------------------------+\n",
      "\n",
      "Target matrix creation started.\n",
      "\n",
      "\n",
      "Training the model.\n",
      "\n",
      "\n",
      "Saving the model.\n",
      "\n"
     ]
    },
    {
     "name": "stderr",
     "output_type": "stream",
     "text": [
      "\n",
      "Adjacency matrix powers:   0%|          | 0/15 [00:00<?, ?it/s]\n",
      "Adjacency matrix powers:  13%|#3        | 2/15 [00:00<00:02,  5.04it/s]\n",
      "Adjacency matrix powers:  20%|##        | 3/15 [00:01<00:05,  2.28it/s]\n",
      "Adjacency matrix powers:  27%|##6       | 4/15 [00:03<00:11,  1.07s/it]\n",
      "Adjacency matrix powers:  33%|###3      | 5/15 [00:06<00:17,  1.70s/it]\n",
      "Adjacency matrix powers:  40%|####      | 6/15 [00:08<00:18,  2.02s/it]\n",
      "Adjacency matrix powers:  47%|####6     | 7/15 [00:11<00:17,  2.23s/it]\n",
      "Adjacency matrix powers:  53%|#####3    | 8/15 [00:15<00:18,  2.66s/it]\n",
      "Adjacency matrix powers:  60%|######    | 9/15 [00:17<00:16,  2.70s/it]\n",
      "Adjacency matrix powers:  67%|######6   | 10/15 [00:20<00:13,  2.68s/it]\n",
      "Adjacency matrix powers:  73%|#######3  | 11/15 [00:23<00:11,  2.77s/it]\n",
      "Adjacency matrix powers:  80%|########  | 12/15 [00:26<00:08,  2.75s/it]\n",
      "Adjacency matrix powers:  87%|########6 | 13/15 [00:29<00:05,  2.79s/it]\n",
      "Adjacency matrix powers:  93%|#########3| 14/15 [00:32<00:02,  2.83s/it]\n",
      "Adjacency matrix powers: 100%|##########| 15/15 [00:34<00:00,  2.83s/it]\n",
      "Adjacency matrix powers: 100%|##########| 15/15 [00:34<00:00,  2.32s/it]\n",
      "\n",
      "Loss:   0%|          | 0/200 [00:00<?, ?it/s]\n",
      "Attention Walk (Loss=18.1918):   0%|          | 0/200 [00:01<?, ?it/s]\n",
      "Attention Walk (Loss=18.1918):   0%|          | 1/200 [00:01<05:03,  1.52s/it]\n",
      "Attention Walk (Loss=18.1908):   0%|          | 1/200 [00:03<05:03,  1.52s/it]\n",
      "Attention Walk (Loss=18.1908):   1%|1         | 2/200 [00:03<05:27,  1.66s/it]\n",
      "Attention Walk (Loss=18.1724):   1%|1         | 2/200 [00:04<05:27,  1.66s/it]\n",
      "Attention Walk (Loss=18.1724):   2%|1         | 3/200 [00:04<05:29,  1.67s/it]\n",
      "Attention Walk (Loss=18.1075):   2%|1         | 3/200 [00:06<05:29,  1.67s/it]\n",
      "Attention Walk (Loss=18.1075):   2%|2         | 4/200 [00:06<05:23,  1.65s/it]\n",
      "Attention Walk (Loss=17.9758):   2%|2         | 4/200 [00:08<05:23,  1.65s/it]\n",
      "Attention Walk (Loss=17.9758):   2%|2         | 5/200 [00:08<05:19,  1.64s/it]\n",
      "Attention Walk (Loss=17.7576):   2%|2         | 5/200 [00:09<05:19,  1.64s/it]\n",
      "Attention Walk (Loss=17.7576):   3%|3         | 6/200 [00:09<05:15,  1.63s/it]\n",
      "Attention Walk (Loss=17.4414):   3%|3         | 6/200 [00:11<05:15,  1.63s/it]\n",
      "Attention Walk (Loss=17.4414):   4%|3         | 7/200 [00:11<05:07,  1.60s/it]\n",
      "Attention Walk (Loss=17.0196):   4%|3         | 7/200 [00:12<05:07,  1.60s/it]\n",
      "Attention Walk (Loss=17.0196):   4%|4         | 8/200 [00:12<05:08,  1.61s/it]\n",
      "Attention Walk (Loss=16.4879):   4%|4         | 8/200 [00:14<05:08,  1.61s/it]\n",
      "Attention Walk (Loss=16.4879):   4%|4         | 9/200 [00:14<05:03,  1.59s/it]\n",
      "Attention Walk (Loss=15.846):   4%|4         | 9/200 [00:16<05:03,  1.59s/it] \n",
      "Attention Walk (Loss=15.846):   5%|5         | 10/200 [00:16<05:06,  1.61s/it]\n",
      "Attention Walk (Loss=15.0976):   5%|5         | 10/200 [00:17<05:06,  1.61s/it]\n",
      "Attention Walk (Loss=15.0976):   6%|5         | 11/200 [00:17<05:04,  1.61s/it]\n",
      "Attention Walk (Loss=14.2505):   6%|5         | 11/200 [00:19<05:04,  1.61s/it]\n",
      "Attention Walk (Loss=14.2505):   6%|6         | 12/200 [00:19<04:59,  1.60s/it]\n",
      "Attention Walk (Loss=13.3172):   6%|6         | 12/200 [00:20<04:59,  1.60s/it]\n",
      "Attention Walk (Loss=13.3172):   6%|6         | 13/200 [00:20<04:57,  1.59s/it]\n",
      "Attention Walk (Loss=12.3146):   6%|6         | 13/200 [00:22<04:57,  1.59s/it]\n",
      "Attention Walk (Loss=12.3146):   7%|7         | 14/200 [00:22<04:50,  1.56s/it]\n",
      "Attention Walk (Loss=11.2642):   7%|7         | 14/200 [00:23<04:50,  1.56s/it]\n",
      "Attention Walk (Loss=11.2642):   8%|7         | 15/200 [00:23<04:46,  1.55s/it]\n",
      "Attention Walk (Loss=10.191):   8%|7         | 15/200 [00:25<04:46,  1.55s/it] \n",
      "Attention Walk (Loss=10.191):   8%|8         | 16/200 [00:25<04:41,  1.53s/it]\n",
      "Attention Walk (Loss=9.1223):   8%|8         | 16/200 [00:27<04:41,  1.53s/it]\n",
      "Attention Walk (Loss=9.1223):   8%|8         | 17/200 [00:27<04:54,  1.61s/it]\n",
      "Attention Walk (Loss=8.0863):   8%|8         | 17/200 [00:28<04:54,  1.61s/it]\n",
      "Attention Walk (Loss=8.0863):   9%|9         | 18/200 [00:28<04:49,  1.59s/it]\n",
      "Attention Walk (Loss=7.1095):   9%|9         | 18/200 [00:30<04:49,  1.59s/it]\n",
      "Attention Walk (Loss=7.1095):  10%|9         | 19/200 [00:30<04:47,  1.59s/it]\n",
      "Attention Walk (Loss=6.2143):  10%|9         | 19/200 [00:32<04:47,  1.59s/it]\n",
      "Attention Walk (Loss=6.2143):  10%|#         | 20/200 [00:32<05:16,  1.76s/it]\n",
      "Attention Walk (Loss=5.4173):  10%|#         | 20/200 [00:33<05:16,  1.76s/it]\n",
      "Attention Walk (Loss=5.4173):  10%|#         | 21/200 [00:33<04:59,  1.67s/it]\n",
      "Attention Walk (Loss=4.7277):  10%|#         | 21/200 [00:35<04:59,  1.67s/it]\n",
      "Attention Walk (Loss=4.7277):  11%|#1        | 22/200 [00:35<04:48,  1.62s/it]\n",
      "Attention Walk (Loss=4.1471):  11%|#1        | 22/200 [00:37<04:48,  1.62s/it]\n",
      "Attention Walk (Loss=4.1471):  12%|#1        | 23/200 [00:37<04:57,  1.68s/it]\n",
      "Attention Walk (Loss=3.6708):  12%|#1        | 23/200 [00:39<04:57,  1.68s/it]\n",
      "Attention Walk (Loss=3.6708):  12%|#2        | 24/200 [00:39<05:00,  1.71s/it]\n",
      "Attention Walk (Loss=3.2891):  12%|#2        | 24/200 [00:40<05:00,  1.71s/it]\n",
      "Attention Walk (Loss=3.2891):  12%|#2        | 25/200 [00:40<04:57,  1.70s/it]\n",
      "Attention Walk (Loss=2.9897):  12%|#2        | 25/200 [00:42<04:57,  1.70s/it]\n",
      "Attention Walk (Loss=2.9897):  13%|#3        | 26/200 [00:42<04:59,  1.72s/it]\n",
      "Attention Walk (Loss=2.7591):  13%|#3        | 26/200 [00:44<04:59,  1.72s/it]\n",
      "Attention Walk (Loss=2.7591):  14%|#3        | 27/200 [00:44<05:00,  1.74s/it]\n",
      "Attention Walk (Loss=2.5844):  14%|#3        | 27/200 [00:45<05:00,  1.74s/it]\n",
      "Attention Walk (Loss=2.5844):  14%|#4        | 28/200 [00:45<04:50,  1.69s/it]\n",
      "Attention Walk (Loss=2.4541):  14%|#4        | 28/200 [00:47<04:50,  1.69s/it]\n",
      "Attention Walk (Loss=2.4541):  14%|#4        | 29/200 [00:47<04:43,  1.66s/it]\n",
      "Attention Walk (Loss=2.3581):  14%|#4        | 29/200 [00:49<04:43,  1.66s/it]\n",
      "Attention Walk (Loss=2.3581):  15%|#5        | 30/200 [00:49<04:43,  1.67s/it]\n",
      "Attention Walk (Loss=2.2883):  15%|#5        | 30/200 [00:50<04:43,  1.67s/it]\n",
      "Attention Walk (Loss=2.2883):  16%|#5        | 31/200 [00:50<04:45,  1.69s/it]\n",
      "Attention Walk (Loss=2.2382):  16%|#5        | 31/200 [00:52<04:45,  1.69s/it]\n",
      "Attention Walk (Loss=2.2382):  16%|#6        | 32/200 [00:52<04:44,  1.70s/it]\n",
      "Attention Walk (Loss=2.2028):  16%|#6        | 32/200 [00:54<04:44,  1.70s/it]\n",
      "Attention Walk (Loss=2.2028):  16%|#6        | 33/200 [00:54<04:53,  1.76s/it]\n",
      "Attention Walk (Loss=2.178):  16%|#6        | 33/200 [00:56<04:53,  1.76s/it] \n",
      "Attention Walk (Loss=2.178):  17%|#7        | 34/200 [00:56<05:00,  1.81s/it]\n",
      "Attention Walk (Loss=2.1609):  17%|#7        | 34/200 [00:58<05:00,  1.81s/it]\n",
      "Attention Walk (Loss=2.1609):  18%|#7        | 35/200 [00:58<04:59,  1.81s/it]\n",
      "Attention Walk (Loss=2.1493):  18%|#7        | 35/200 [01:00<04:59,  1.81s/it]\n",
      "Attention Walk (Loss=2.1493):  18%|#8        | 36/200 [01:00<05:00,  1.83s/it]\n",
      "Attention Walk (Loss=2.1414):  18%|#8        | 36/200 [01:01<05:00,  1.83s/it]\n",
      "Attention Walk (Loss=2.1414):  18%|#8        | 37/200 [01:01<04:55,  1.82s/it]\n",
      "Attention Walk (Loss=2.136):  18%|#8        | 37/200 [01:03<04:55,  1.82s/it] \n",
      "Attention Walk (Loss=2.136):  19%|#9        | 38/200 [01:03<04:55,  1.82s/it]\n",
      "Attention Walk (Loss=2.1321):  19%|#9        | 38/200 [01:05<04:55,  1.82s/it]\n",
      "Attention Walk (Loss=2.1321):  20%|#9        | 39/200 [01:05<04:52,  1.81s/it]\n",
      "Attention Walk (Loss=2.129):  20%|#9        | 39/200 [01:07<04:52,  1.81s/it] \n",
      "Attention Walk (Loss=2.129):  20%|##        | 40/200 [01:07<04:45,  1.78s/it]\n",
      "Attention Walk (Loss=2.1263):  20%|##        | 40/200 [01:08<04:45,  1.78s/it]\n",
      "Attention Walk (Loss=2.1263):  20%|##        | 41/200 [01:08<04:40,  1.77s/it]\n",
      "Attention Walk (Loss=2.1236):  20%|##        | 41/200 [01:10<04:40,  1.77s/it]\n",
      "Attention Walk (Loss=2.1236):  21%|##1       | 42/200 [01:10<04:31,  1.72s/it]\n",
      "Attention Walk (Loss=2.1206):  21%|##1       | 42/200 [01:12<04:31,  1.72s/it]\n",
      "Attention Walk (Loss=2.1206):  22%|##1       | 43/200 [01:12<04:29,  1.71s/it]\n",
      "Attention Walk (Loss=2.1173):  22%|##1       | 43/200 [01:13<04:29,  1.71s/it]\n",
      "Attention Walk (Loss=2.1173):  22%|##2       | 44/200 [01:13<04:25,  1.70s/it]\n",
      "Attention Walk (Loss=2.1135):  22%|##2       | 44/200 [01:15<04:25,  1.70s/it]\n",
      "Attention Walk (Loss=2.1135):  22%|##2       | 45/200 [01:15<04:19,  1.67s/it]\n",
      "Attention Walk (Loss=2.1091):  22%|##2       | 45/200 [01:17<04:19,  1.67s/it]\n",
      "Attention Walk (Loss=2.1091):  23%|##3       | 46/200 [01:17<04:10,  1.62s/it]\n",
      "Attention Walk (Loss=2.1043):  23%|##3       | 46/200 [01:18<04:10,  1.62s/it]\n",
      "Attention Walk (Loss=2.1043):  24%|##3       | 47/200 [01:18<04:08,  1.62s/it]\n",
      "Attention Walk (Loss=2.0989):  24%|##3       | 47/200 [01:20<04:08,  1.62s/it]\n",
      "Attention Walk (Loss=2.0989):  24%|##4       | 48/200 [01:20<04:04,  1.61s/it]\n",
      "Attention Walk (Loss=2.093):  24%|##4       | 48/200 [01:22<04:04,  1.61s/it] \n",
      "Attention Walk (Loss=2.093):  24%|##4       | 49/200 [01:22<04:10,  1.66s/it]\n",
      "Attention Walk (Loss=2.0867):  24%|##4       | 49/200 [01:23<04:10,  1.66s/it]\n",
      "Attention Walk (Loss=2.0867):  25%|##5       | 50/200 [01:23<04:17,  1.72s/it]\n",
      "Attention Walk (Loss=2.0801):  25%|##5       | 50/200 [01:25<04:17,  1.72s/it]\n",
      "Attention Walk (Loss=2.0801):  26%|##5       | 51/200 [01:25<04:15,  1.72s/it]\n",
      "Attention Walk (Loss=2.0731):  26%|##5       | 51/200 [01:27<04:15,  1.72s/it]\n",
      "Attention Walk (Loss=2.0731):  26%|##6       | 52/200 [01:27<04:14,  1.72s/it]\n",
      "Attention Walk (Loss=2.0658):  26%|##6       | 52/200 [01:29<04:14,  1.72s/it]\n",
      "Attention Walk (Loss=2.0658):  26%|##6       | 53/200 [01:29<04:10,  1.70s/it]\n",
      "Attention Walk (Loss=2.0584):  26%|##6       | 53/200 [01:30<04:10,  1.70s/it]\n",
      "Attention Walk (Loss=2.0584):  27%|##7       | 54/200 [01:30<04:06,  1.69s/it]\n",
      "Attention Walk (Loss=2.0508):  27%|##7       | 54/200 [01:32<04:06,  1.69s/it]\n",
      "Attention Walk (Loss=2.0508):  28%|##7       | 55/200 [01:32<04:08,  1.71s/it]\n",
      "Attention Walk (Loss=2.0431):  28%|##7       | 55/200 [01:34<04:08,  1.71s/it]\n",
      "Attention Walk (Loss=2.0431):  28%|##8       | 56/200 [01:34<04:02,  1.68s/it]\n",
      "Attention Walk (Loss=2.0353):  28%|##8       | 56/200 [01:35<04:02,  1.68s/it]\n",
      "Attention Walk (Loss=2.0353):  28%|##8       | 57/200 [01:35<03:58,  1.66s/it]\n",
      "Attention Walk (Loss=2.0276):  28%|##8       | 57/200 [01:37<03:58,  1.66s/it]\n",
      "Attention Walk (Loss=2.0276):  29%|##9       | 58/200 [01:37<03:47,  1.60s/it]\n",
      "Attention Walk (Loss=2.0199):  29%|##9       | 58/200 [01:38<03:47,  1.60s/it]\n",
      "Attention Walk (Loss=2.0199):  30%|##9       | 59/200 [01:38<03:39,  1.56s/it]\n",
      "Attention Walk (Loss=2.0123):  30%|##9       | 59/200 [01:40<03:39,  1.56s/it]\n",
      "Attention Walk (Loss=2.0123):  30%|###       | 60/200 [01:40<03:34,  1.53s/it]\n",
      "Attention Walk (Loss=2.0047):  30%|###       | 60/200 [01:41<03:34,  1.53s/it]\n",
      "Attention Walk (Loss=2.0047):  30%|###       | 61/200 [01:41<03:32,  1.53s/it]\n",
      "Attention Walk (Loss=1.9974):  30%|###       | 61/200 [01:43<03:32,  1.53s/it]\n",
      "Attention Walk (Loss=1.9974):  31%|###1      | 62/200 [01:43<03:34,  1.56s/it]\n",
      "Attention Walk (Loss=1.9902):  31%|###1      | 62/200 [01:44<03:34,  1.56s/it]\n",
      "Attention Walk (Loss=1.9902):  32%|###1      | 63/200 [01:44<03:36,  1.58s/it]\n",
      "Attention Walk (Loss=1.9831):  32%|###1      | 63/200 [01:46<03:36,  1.58s/it]\n",
      "Attention Walk (Loss=1.9831):  32%|###2      | 64/200 [01:46<03:31,  1.56s/it]\n",
      "Attention Walk (Loss=1.9763):  32%|###2      | 64/200 [01:47<03:31,  1.56s/it]\n",
      "Attention Walk (Loss=1.9763):  32%|###2      | 65/200 [01:47<03:30,  1.56s/it]\n",
      "Attention Walk (Loss=1.9697):  32%|###2      | 65/200 [01:49<03:30,  1.56s/it]\n",
      "Attention Walk (Loss=1.9697):  33%|###3      | 66/200 [01:49<03:26,  1.54s/it]\n",
      "Attention Walk (Loss=1.9634):  33%|###3      | 66/200 [01:50<03:26,  1.54s/it]\n",
      "Attention Walk (Loss=1.9634):  34%|###3      | 67/200 [01:50<03:21,  1.51s/it]\n",
      "Attention Walk (Loss=1.9572):  34%|###3      | 67/200 [01:52<03:21,  1.51s/it]\n",
      "Attention Walk (Loss=1.9572):  34%|###4      | 68/200 [01:52<03:19,  1.51s/it]\n",
      "Attention Walk (Loss=1.9513):  34%|###4      | 68/200 [01:53<03:19,  1.51s/it]\n",
      "Attention Walk (Loss=1.9513):  34%|###4      | 69/200 [01:53<03:20,  1.53s/it]\n",
      "Attention Walk (Loss=1.9457):  34%|###4      | 69/200 [01:55<03:20,  1.53s/it]\n",
      "Attention Walk (Loss=1.9457):  35%|###5      | 70/200 [01:55<03:17,  1.52s/it]\n",
      "Attention Walk (Loss=1.9402):  35%|###5      | 70/200 [01:57<03:17,  1.52s/it]\n",
      "Attention Walk (Loss=1.9402):  36%|###5      | 71/200 [01:57<03:23,  1.57s/it]\n",
      "Attention Walk (Loss=1.9351):  36%|###5      | 71/200 [01:58<03:23,  1.57s/it]\n",
      "Attention Walk (Loss=1.9351):  36%|###6      | 72/200 [01:58<03:17,  1.55s/it]\n",
      "Attention Walk (Loss=1.9301):  36%|###6      | 72/200 [02:00<03:17,  1.55s/it]\n",
      "Attention Walk (Loss=1.9301):  36%|###6      | 73/200 [02:00<03:31,  1.66s/it]\n",
      "Attention Walk (Loss=1.9254):  36%|###6      | 73/200 [02:02<03:31,  1.66s/it]\n",
      "Attention Walk (Loss=1.9254):  37%|###7      | 74/200 [02:02<03:38,  1.73s/it]\n",
      "Attention Walk (Loss=1.9209):  37%|###7      | 74/200 [02:03<03:38,  1.73s/it]\n",
      "Attention Walk (Loss=1.9209):  38%|###7      | 75/200 [02:03<03:27,  1.66s/it]\n",
      "Attention Walk (Loss=1.9166):  38%|###7      | 75/200 [02:05<03:27,  1.66s/it]\n",
      "Attention Walk (Loss=1.9166):  38%|###8      | 76/200 [02:05<03:19,  1.61s/it]\n",
      "Attention Walk (Loss=1.9126):  38%|###8      | 76/200 [02:07<03:19,  1.61s/it]\n",
      "Attention Walk (Loss=1.9126):  38%|###8      | 77/200 [02:07<03:19,  1.62s/it]\n",
      "Attention Walk (Loss=1.9087):  38%|###8      | 77/200 [02:08<03:19,  1.62s/it]\n",
      "Attention Walk (Loss=1.9087):  39%|###9      | 78/200 [02:08<03:08,  1.55s/it]\n",
      "Attention Walk (Loss=1.905):  39%|###9      | 78/200 [02:09<03:08,  1.55s/it] \n",
      "Attention Walk (Loss=1.905):  40%|###9      | 79/200 [02:09<03:01,  1.50s/it]\n",
      "Attention Walk (Loss=1.9015):  40%|###9      | 79/200 [02:11<03:01,  1.50s/it]\n",
      "Attention Walk (Loss=1.9015):  40%|####      | 80/200 [02:11<02:55,  1.46s/it]\n",
      "Attention Walk (Loss=1.8981):  40%|####      | 80/200 [02:12<02:55,  1.46s/it]\n",
      "Attention Walk (Loss=1.8981):  40%|####      | 81/200 [02:12<02:59,  1.51s/it]\n",
      "Attention Walk (Loss=1.8949):  40%|####      | 81/200 [02:14<02:59,  1.51s/it]\n",
      "Attention Walk (Loss=1.8949):  41%|####1     | 82/200 [02:14<02:58,  1.51s/it]\n",
      "Attention Walk (Loss=1.8918):  41%|####1     | 82/200 [02:16<02:58,  1.51s/it]\n",
      "Attention Walk (Loss=1.8918):  42%|####1     | 83/200 [02:16<03:12,  1.65s/it]\n",
      "Attention Walk (Loss=1.8889):  42%|####1     | 83/200 [02:18<03:12,  1.65s/it]\n",
      "Attention Walk (Loss=1.8889):  42%|####2     | 84/200 [02:18<03:14,  1.68s/it]\n",
      "Attention Walk (Loss=1.8861):  42%|####2     | 84/200 [02:19<03:14,  1.68s/it]\n",
      "Attention Walk (Loss=1.8861):  42%|####2     | 85/200 [02:19<03:18,  1.72s/it]\n",
      "Attention Walk (Loss=1.8835):  42%|####2     | 85/200 [02:21<03:18,  1.72s/it]\n",
      "Attention Walk (Loss=1.8835):  43%|####3     | 86/200 [02:21<03:22,  1.78s/it]\n",
      "Attention Walk (Loss=1.8809):  43%|####3     | 86/200 [02:23<03:22,  1.78s/it]\n",
      "Attention Walk (Loss=1.8809):  44%|####3     | 87/200 [02:23<03:12,  1.70s/it]\n",
      "Attention Walk (Loss=1.8785):  44%|####3     | 87/200 [02:24<03:12,  1.70s/it]\n",
      "Attention Walk (Loss=1.8785):  44%|####4     | 88/200 [02:24<03:07,  1.68s/it]\n",
      "Attention Walk (Loss=1.8762):  44%|####4     | 88/200 [02:26<03:07,  1.68s/it]\n",
      "Attention Walk (Loss=1.8762):  44%|####4     | 89/200 [02:26<03:03,  1.66s/it]\n",
      "Attention Walk (Loss=1.874):  44%|####4     | 89/200 [02:28<03:03,  1.66s/it] \n",
      "Attention Walk (Loss=1.874):  45%|####5     | 90/200 [02:28<03:03,  1.67s/it]\n",
      "Attention Walk (Loss=1.8718):  45%|####5     | 90/200 [02:29<03:03,  1.67s/it]\n",
      "Attention Walk (Loss=1.8718):  46%|####5     | 91/200 [02:29<02:56,  1.62s/it]\n",
      "Attention Walk (Loss=1.8698):  46%|####5     | 91/200 [02:31<02:56,  1.62s/it]\n",
      "Attention Walk (Loss=1.8698):  46%|####6     | 92/200 [02:31<02:50,  1.58s/it]\n",
      "Attention Walk (Loss=1.8678):  46%|####6     | 92/200 [02:32<02:50,  1.58s/it]\n",
      "Attention Walk (Loss=1.8678):  46%|####6     | 93/200 [02:32<02:53,  1.62s/it]\n",
      "Attention Walk (Loss=1.8659):  46%|####6     | 93/200 [02:34<02:53,  1.62s/it]\n",
      "Attention Walk (Loss=1.8659):  47%|####6     | 94/200 [02:34<02:42,  1.53s/it]\n",
      "Attention Walk (Loss=1.864):  47%|####6     | 94/200 [02:35<02:42,  1.53s/it] \n",
      "Attention Walk (Loss=1.864):  48%|####7     | 95/200 [02:35<02:34,  1.47s/it]\n",
      "Attention Walk (Loss=1.8623):  48%|####7     | 95/200 [02:36<02:34,  1.47s/it]\n",
      "Attention Walk (Loss=1.8623):  48%|####8     | 96/200 [02:36<02:28,  1.43s/it]\n",
      "Attention Walk (Loss=1.8606):  48%|####8     | 96/200 [02:38<02:28,  1.43s/it]\n",
      "Attention Walk (Loss=1.8606):  48%|####8     | 97/200 [02:38<02:25,  1.42s/it]\n",
      "Attention Walk (Loss=1.8589):  48%|####8     | 97/200 [02:39<02:25,  1.42s/it]\n",
      "Attention Walk (Loss=1.8589):  49%|####9     | 98/200 [02:39<02:29,  1.47s/it]\n",
      "Attention Walk (Loss=1.8574):  49%|####9     | 98/200 [02:41<02:29,  1.47s/it]\n",
      "Attention Walk (Loss=1.8574):  50%|####9     | 99/200 [02:41<02:34,  1.53s/it]\n",
      "Attention Walk (Loss=1.8558):  50%|####9     | 99/200 [02:43<02:34,  1.53s/it]\n",
      "Attention Walk (Loss=1.8558):  50%|#####     | 100/200 [02:43<02:41,  1.61s/it]\n",
      "Attention Walk (Loss=1.8543):  50%|#####     | 100/200 [02:44<02:41,  1.61s/it]\n",
      "Attention Walk (Loss=1.8543):  50%|#####     | 101/200 [02:44<02:34,  1.56s/it]\n",
      "Attention Walk (Loss=1.8529):  50%|#####     | 101/200 [02:46<02:34,  1.56s/it]\n",
      "Attention Walk (Loss=1.8529):  51%|#####1    | 102/200 [02:46<02:26,  1.49s/it]\n",
      "Attention Walk (Loss=1.8515):  51%|#####1    | 102/200 [02:47<02:26,  1.49s/it]\n",
      "Attention Walk (Loss=1.8515):  52%|#####1    | 103/200 [02:47<02:22,  1.47s/it]\n",
      "Attention Walk (Loss=1.8502):  52%|#####1    | 103/200 [02:48<02:22,  1.47s/it]\n",
      "Attention Walk (Loss=1.8502):  52%|#####2    | 104/200 [02:48<02:19,  1.45s/it]\n",
      "Attention Walk (Loss=1.8489):  52%|#####2    | 104/200 [02:50<02:19,  1.45s/it]\n",
      "Attention Walk (Loss=1.8489):  52%|#####2    | 105/200 [02:50<02:13,  1.40s/it]\n",
      "Attention Walk (Loss=1.8476):  52%|#####2    | 105/200 [02:51<02:13,  1.40s/it]\n",
      "Attention Walk (Loss=1.8476):  53%|#####3    | 106/200 [02:51<02:08,  1.37s/it]\n",
      "Attention Walk (Loss=1.8464):  53%|#####3    | 106/200 [02:52<02:08,  1.37s/it]\n",
      "Attention Walk (Loss=1.8464):  54%|#####3    | 107/200 [02:52<02:05,  1.35s/it]\n",
      "Attention Walk (Loss=1.8452):  54%|#####3    | 107/200 [02:54<02:05,  1.35s/it]\n",
      "Attention Walk (Loss=1.8452):  54%|#####4    | 108/200 [02:54<02:04,  1.35s/it]\n",
      "Attention Walk (Loss=1.844):  54%|#####4    | 108/200 [02:55<02:04,  1.35s/it] \n",
      "Attention Walk (Loss=1.844):  55%|#####4    | 109/200 [02:55<02:02,  1.35s/it]\n",
      "Attention Walk (Loss=1.8429):  55%|#####4    | 109/200 [02:56<02:02,  1.35s/it]\n",
      "Attention Walk (Loss=1.8429):  55%|#####5    | 110/200 [02:56<02:01,  1.35s/it]\n",
      "Attention Walk (Loss=1.8418):  55%|#####5    | 110/200 [02:58<02:01,  1.35s/it]\n",
      "Attention Walk (Loss=1.8418):  56%|#####5    | 111/200 [02:58<01:57,  1.32s/it]\n",
      "Attention Walk (Loss=1.8407):  56%|#####5    | 111/200 [02:59<01:57,  1.32s/it]\n",
      "Attention Walk (Loss=1.8407):  56%|#####6    | 112/200 [02:59<01:56,  1.32s/it]\n",
      "Attention Walk (Loss=1.8397):  56%|#####6    | 112/200 [03:00<01:56,  1.32s/it]\n",
      "Attention Walk (Loss=1.8397):  56%|#####6    | 113/200 [03:00<01:55,  1.33s/it]\n",
      "Attention Walk (Loss=1.8386):  56%|#####6    | 113/200 [03:02<01:55,  1.33s/it]\n",
      "Attention Walk (Loss=1.8386):  57%|#####6    | 114/200 [03:02<01:54,  1.33s/it]\n",
      "Attention Walk (Loss=1.8377):  57%|#####6    | 114/200 [03:03<01:54,  1.33s/it]\n",
      "Attention Walk (Loss=1.8377):  57%|#####7    | 115/200 [03:03<01:54,  1.34s/it]\n",
      "Attention Walk (Loss=1.8367):  57%|#####7    | 115/200 [03:04<01:54,  1.34s/it]\n",
      "Attention Walk (Loss=1.8367):  58%|#####8    | 116/200 [03:04<01:55,  1.38s/it]\n",
      "Attention Walk (Loss=1.8358):  58%|#####8    | 116/200 [03:06<01:55,  1.38s/it]\n",
      "Attention Walk (Loss=1.8358):  58%|#####8    | 117/200 [03:06<01:54,  1.38s/it]\n",
      "Attention Walk (Loss=1.8349):  58%|#####8    | 117/200 [03:07<01:54,  1.38s/it]\n",
      "Attention Walk (Loss=1.8349):  59%|#####8    | 118/200 [03:07<01:51,  1.35s/it]\n",
      "Attention Walk (Loss=1.834):  59%|#####8    | 118/200 [03:09<01:51,  1.35s/it] \n",
      "Attention Walk (Loss=1.834):  60%|#####9    | 119/200 [03:09<01:50,  1.36s/it]\n",
      "Attention Walk (Loss=1.8331):  60%|#####9    | 119/200 [03:10<01:50,  1.36s/it]\n",
      "Attention Walk (Loss=1.8331):  60%|######    | 120/200 [03:10<01:58,  1.49s/it]\n",
      "Attention Walk (Loss=1.8323):  60%|######    | 120/200 [03:12<01:58,  1.49s/it]\n",
      "Attention Walk (Loss=1.8323):  60%|######    | 121/200 [03:12<02:00,  1.53s/it]\n",
      "Attention Walk (Loss=1.8314):  60%|######    | 121/200 [03:13<02:00,  1.53s/it]\n",
      "Attention Walk (Loss=1.8314):  61%|######1   | 122/200 [03:13<01:54,  1.47s/it]\n",
      "Attention Walk (Loss=1.8306):  61%|######1   | 122/200 [03:15<01:54,  1.47s/it]\n",
      "Attention Walk (Loss=1.8306):  62%|######1   | 123/200 [03:15<01:53,  1.47s/it]\n",
      "Attention Walk (Loss=1.8298):  62%|######1   | 123/200 [03:16<01:53,  1.47s/it]\n",
      "Attention Walk (Loss=1.8298):  62%|######2   | 124/200 [03:16<01:50,  1.45s/it]\n",
      "Attention Walk (Loss=1.8291):  62%|######2   | 124/200 [03:17<01:50,  1.45s/it]\n",
      "Attention Walk (Loss=1.8291):  62%|######2   | 125/200 [03:17<01:45,  1.40s/it]\n",
      "Attention Walk (Loss=1.8283):  62%|######2   | 125/200 [03:19<01:45,  1.40s/it]\n",
      "Attention Walk (Loss=1.8283):  63%|######3   | 126/200 [03:19<01:45,  1.43s/it]\n",
      "Attention Walk (Loss=1.8276):  63%|######3   | 126/200 [03:21<01:45,  1.43s/it]\n",
      "Attention Walk (Loss=1.8276):  64%|######3   | 127/200 [03:21<01:54,  1.57s/it]\n",
      "Attention Walk (Loss=1.8269):  64%|######3   | 127/200 [03:23<01:54,  1.57s/it]\n",
      "Attention Walk (Loss=1.8269):  64%|######4   | 128/200 [03:23<01:57,  1.64s/it]\n",
      "Attention Walk (Loss=1.8262):  64%|######4   | 128/200 [03:24<01:57,  1.64s/it]\n",
      "Attention Walk (Loss=1.8262):  64%|######4   | 129/200 [03:24<01:58,  1.67s/it]\n",
      "Attention Walk (Loss=1.8255):  64%|######4   | 129/200 [03:26<01:58,  1.67s/it]\n",
      "Attention Walk (Loss=1.8255):  65%|######5   | 130/200 [03:26<01:59,  1.70s/it]\n",
      "Attention Walk (Loss=1.8249):  65%|######5   | 130/200 [03:28<01:59,  1.70s/it]\n",
      "Attention Walk (Loss=1.8249):  66%|######5   | 131/200 [03:28<01:58,  1.71s/it]\n",
      "Attention Walk (Loss=1.8242):  66%|######5   | 131/200 [03:30<01:58,  1.71s/it]\n",
      "Attention Walk (Loss=1.8242):  66%|######6   | 132/200 [03:30<01:57,  1.73s/it]\n",
      "Attention Walk (Loss=1.8236):  66%|######6   | 132/200 [03:31<01:57,  1.73s/it]\n",
      "Attention Walk (Loss=1.8236):  66%|######6   | 133/200 [03:31<01:51,  1.67s/it]\n",
      "Attention Walk (Loss=1.8229):  66%|######6   | 133/200 [03:33<01:51,  1.67s/it]\n",
      "Attention Walk (Loss=1.8229):  67%|######7   | 134/200 [03:33<01:47,  1.63s/it]\n",
      "Attention Walk (Loss=1.8223):  67%|######7   | 134/200 [03:34<01:47,  1.63s/it]\n",
      "Attention Walk (Loss=1.8223):  68%|######7   | 135/200 [03:34<01:43,  1.60s/it]\n",
      "Attention Walk (Loss=1.8217):  68%|######7   | 135/200 [03:36<01:43,  1.60s/it]\n",
      "Attention Walk (Loss=1.8217):  68%|######8   | 136/200 [03:36<01:42,  1.59s/it]\n",
      "Attention Walk (Loss=1.8212):  68%|######8   | 136/200 [03:37<01:42,  1.59s/it]\n",
      "Attention Walk (Loss=1.8212):  68%|######8   | 137/200 [03:37<01:38,  1.57s/it]\n",
      "Attention Walk (Loss=1.8206):  68%|######8   | 137/200 [03:39<01:38,  1.57s/it]\n",
      "Attention Walk (Loss=1.8206):  69%|######9   | 138/200 [03:39<01:36,  1.55s/it]\n",
      "Attention Walk (Loss=1.82):  69%|######9   | 138/200 [03:41<01:36,  1.55s/it]  \n",
      "Attention Walk (Loss=1.82):  70%|######9   | 139/200 [03:41<01:41,  1.66s/it]\n",
      "Attention Walk (Loss=1.8195):  70%|######9   | 139/200 [03:43<01:41,  1.66s/it]\n",
      "Attention Walk (Loss=1.8195):  70%|#######   | 140/200 [03:43<01:41,  1.69s/it]\n",
      "Attention Walk (Loss=1.8189):  70%|#######   | 140/200 [03:44<01:41,  1.69s/it]\n",
      "Attention Walk (Loss=1.8189):  70%|#######   | 141/200 [03:44<01:38,  1.67s/it]\n",
      "Attention Walk (Loss=1.8184):  70%|#######   | 141/200 [03:46<01:38,  1.67s/it]\n",
      "Attention Walk (Loss=1.8184):  71%|#######1  | 142/200 [03:46<01:33,  1.62s/it]\n",
      "Attention Walk (Loss=1.8179):  71%|#######1  | 142/200 [03:47<01:33,  1.62s/it]\n",
      "Attention Walk (Loss=1.8179):  72%|#######1  | 143/200 [03:47<01:29,  1.56s/it]\n",
      "Attention Walk (Loss=1.8174):  72%|#######1  | 143/200 [03:49<01:29,  1.56s/it]\n",
      "Attention Walk (Loss=1.8174):  72%|#######2  | 144/200 [03:49<01:26,  1.54s/it]\n",
      "Attention Walk (Loss=1.8169):  72%|#######2  | 144/200 [03:50<01:26,  1.54s/it]\n",
      "Attention Walk (Loss=1.8169):  72%|#######2  | 145/200 [03:50<01:27,  1.60s/it]\n",
      "Attention Walk (Loss=1.8164):  72%|#######2  | 145/200 [03:52<01:27,  1.60s/it]\n",
      "Attention Walk (Loss=1.8164):  73%|#######3  | 146/200 [03:52<01:27,  1.63s/it]\n",
      "Attention Walk (Loss=1.8159):  73%|#######3  | 146/200 [03:54<01:27,  1.63s/it]\n",
      "Attention Walk (Loss=1.8159):  74%|#######3  | 147/200 [03:54<01:27,  1.65s/it]\n",
      "Attention Walk (Loss=1.8155):  74%|#######3  | 147/200 [03:55<01:27,  1.65s/it]\n",
      "Attention Walk (Loss=1.8155):  74%|#######4  | 148/200 [03:55<01:25,  1.64s/it]\n",
      "Attention Walk (Loss=1.815):  74%|#######4  | 148/200 [03:57<01:25,  1.64s/it] \n",
      "Attention Walk (Loss=1.815):  74%|#######4  | 149/200 [03:57<01:23,  1.64s/it]\n",
      "Attention Walk (Loss=1.8146):  74%|#######4  | 149/200 [03:58<01:23,  1.64s/it]\n",
      "Attention Walk (Loss=1.8146):  75%|#######5  | 150/200 [03:58<01:19,  1.59s/it]\n",
      "Attention Walk (Loss=1.8141):  75%|#######5  | 150/200 [04:00<01:19,  1.59s/it]\n",
      "Attention Walk (Loss=1.8141):  76%|#######5  | 151/200 [04:00<01:15,  1.53s/it]\n",
      "Attention Walk (Loss=1.8137):  76%|#######5  | 151/200 [04:01<01:15,  1.53s/it]\n",
      "Attention Walk (Loss=1.8137):  76%|#######6  | 152/200 [04:01<01:11,  1.49s/it]\n",
      "Attention Walk (Loss=1.8133):  76%|#######6  | 152/200 [04:03<01:11,  1.49s/it]\n",
      "Attention Walk (Loss=1.8133):  76%|#######6  | 153/200 [04:03<01:08,  1.46s/it]\n",
      "Attention Walk (Loss=1.8129):  76%|#######6  | 153/200 [04:04<01:08,  1.46s/it]\n",
      "Attention Walk (Loss=1.8129):  77%|#######7  | 154/200 [04:04<01:06,  1.44s/it]\n",
      "Attention Walk (Loss=1.8124):  77%|#######7  | 154/200 [04:05<01:06,  1.44s/it]\n",
      "Attention Walk (Loss=1.8124):  78%|#######7  | 155/200 [04:05<01:03,  1.41s/it]\n",
      "Attention Walk (Loss=1.812):  78%|#######7  | 155/200 [04:07<01:03,  1.41s/it] \n",
      "Attention Walk (Loss=1.812):  78%|#######8  | 156/200 [04:07<01:01,  1.41s/it]\n",
      "Attention Walk (Loss=1.8117):  78%|#######8  | 156/200 [04:08<01:01,  1.41s/it]\n",
      "Attention Walk (Loss=1.8117):  78%|#######8  | 157/200 [04:08<01:00,  1.40s/it]\n",
      "Attention Walk (Loss=1.8113):  78%|#######8  | 157/200 [04:09<01:00,  1.40s/it]\n",
      "Attention Walk (Loss=1.8113):  79%|#######9  | 158/200 [04:09<00:58,  1.39s/it]\n",
      "Attention Walk (Loss=1.8109):  79%|#######9  | 158/200 [04:11<00:58,  1.39s/it]\n",
      "Attention Walk (Loss=1.8109):  80%|#######9  | 159/200 [04:11<00:57,  1.40s/it]\n",
      "Attention Walk (Loss=1.8105):  80%|#######9  | 159/200 [04:12<00:57,  1.40s/it]\n",
      "Attention Walk (Loss=1.8105):  80%|########  | 160/200 [04:12<00:55,  1.40s/it]\n",
      "Attention Walk (Loss=1.8101):  80%|########  | 160/200 [04:14<00:55,  1.40s/it]\n",
      "Attention Walk (Loss=1.8101):  80%|########  | 161/200 [04:14<00:54,  1.40s/it]\n",
      "Attention Walk (Loss=1.8098):  80%|########  | 161/200 [04:15<00:54,  1.40s/it]\n",
      "Attention Walk (Loss=1.8098):  81%|########1 | 162/200 [04:15<00:53,  1.41s/it]\n",
      "Attention Walk (Loss=1.8094):  81%|########1 | 162/200 [04:17<00:53,  1.41s/it]\n",
      "Attention Walk (Loss=1.8094):  82%|########1 | 163/200 [04:17<00:52,  1.42s/it]\n",
      "Attention Walk (Loss=1.8091):  82%|########1 | 163/200 [04:18<00:52,  1.42s/it]\n",
      "Attention Walk (Loss=1.8091):  82%|########2 | 164/200 [04:18<00:51,  1.42s/it]\n",
      "Attention Walk (Loss=1.8087):  82%|########2 | 164/200 [04:19<00:51,  1.42s/it]\n",
      "Attention Walk (Loss=1.8087):  82%|########2 | 165/200 [04:19<00:49,  1.41s/it]\n",
      "Attention Walk (Loss=1.8084):  82%|########2 | 165/200 [04:21<00:49,  1.41s/it]\n",
      "Attention Walk (Loss=1.8084):  83%|########2 | 166/200 [04:21<00:48,  1.42s/it]\n",
      "Attention Walk (Loss=1.8081):  83%|########2 | 166/200 [04:22<00:48,  1.42s/it]\n",
      "Attention Walk (Loss=1.8081):  84%|########3 | 167/200 [04:22<00:47,  1.44s/it]\n",
      "Attention Walk (Loss=1.8078):  84%|########3 | 167/200 [04:24<00:47,  1.44s/it]\n",
      "Attention Walk (Loss=1.8078):  84%|########4 | 168/200 [04:24<00:45,  1.43s/it]\n",
      "Attention Walk (Loss=1.8074):  84%|########4 | 168/200 [04:25<00:45,  1.43s/it]\n",
      "Attention Walk (Loss=1.8074):  84%|########4 | 169/200 [04:25<00:43,  1.41s/it]\n",
      "Attention Walk (Loss=1.8071):  84%|########4 | 169/200 [04:26<00:43,  1.41s/it]\n",
      "Attention Walk (Loss=1.8071):  85%|########5 | 170/200 [04:26<00:42,  1.40s/it]\n",
      "Attention Walk (Loss=1.8068):  85%|########5 | 170/200 [04:28<00:42,  1.40s/it]\n",
      "Attention Walk (Loss=1.8068):  86%|########5 | 171/200 [04:28<00:40,  1.40s/it]\n",
      "Attention Walk (Loss=1.8065):  86%|########5 | 171/200 [04:29<00:40,  1.40s/it]\n",
      "Attention Walk (Loss=1.8065):  86%|########6 | 172/200 [04:29<00:38,  1.39s/it]\n",
      "Attention Walk (Loss=1.8062):  86%|########6 | 172/200 [04:31<00:38,  1.39s/it]\n",
      "Attention Walk (Loss=1.8062):  86%|########6 | 173/200 [04:31<00:37,  1.38s/it]\n",
      "Attention Walk (Loss=1.8059):  86%|########6 | 173/200 [04:32<00:37,  1.38s/it]\n",
      "Attention Walk (Loss=1.8059):  87%|########7 | 174/200 [04:32<00:36,  1.39s/it]\n",
      "Attention Walk (Loss=1.8056):  87%|########7 | 174/200 [04:33<00:36,  1.39s/it]\n",
      "Attention Walk (Loss=1.8056):  88%|########7 | 175/200 [04:33<00:34,  1.39s/it]\n",
      "Attention Walk (Loss=1.8053):  88%|########7 | 175/200 [04:35<00:34,  1.39s/it]\n",
      "Attention Walk (Loss=1.8053):  88%|########8 | 176/200 [04:35<00:33,  1.39s/it]\n",
      "Attention Walk (Loss=1.8051):  88%|########8 | 176/200 [04:36<00:33,  1.39s/it]\n",
      "Attention Walk (Loss=1.8051):  88%|########8 | 177/200 [04:36<00:31,  1.38s/it]\n",
      "Attention Walk (Loss=1.8048):  88%|########8 | 177/200 [04:38<00:31,  1.38s/it]\n",
      "Attention Walk (Loss=1.8048):  89%|########9 | 178/200 [04:38<00:30,  1.39s/it]\n",
      "Attention Walk (Loss=1.8045):  89%|########9 | 178/200 [04:39<00:30,  1.39s/it]\n",
      "Attention Walk (Loss=1.8045):  90%|########9 | 179/200 [04:39<00:30,  1.43s/it]\n",
      "Attention Walk (Loss=1.8043):  90%|########9 | 179/200 [04:41<00:30,  1.43s/it]\n",
      "Attention Walk (Loss=1.8043):  90%|######### | 180/200 [04:41<00:28,  1.45s/it]\n",
      "Attention Walk (Loss=1.804):  90%|######### | 180/200 [04:42<00:28,  1.45s/it] \n",
      "Attention Walk (Loss=1.804):  90%|######### | 181/200 [04:42<00:27,  1.45s/it]\n",
      "Attention Walk (Loss=1.8037):  90%|######### | 181/200 [04:43<00:27,  1.45s/it]\n",
      "Attention Walk (Loss=1.8037):  91%|#########1| 182/200 [04:43<00:26,  1.46s/it]\n",
      "Attention Walk (Loss=1.8035):  91%|#########1| 182/200 [04:45<00:26,  1.46s/it]\n",
      "Attention Walk (Loss=1.8035):  92%|#########1| 183/200 [04:45<00:24,  1.44s/it]\n",
      "Attention Walk (Loss=1.8032):  92%|#########1| 183/200 [04:46<00:24,  1.44s/it]\n",
      "Attention Walk (Loss=1.8032):  92%|#########2| 184/200 [04:46<00:22,  1.42s/it]\n",
      "Attention Walk (Loss=1.803):  92%|#########2| 184/200 [04:48<00:22,  1.42s/it] \n",
      "Attention Walk (Loss=1.803):  92%|#########2| 185/200 [04:48<00:21,  1.42s/it]\n",
      "Attention Walk (Loss=1.8027):  92%|#########2| 185/200 [04:49<00:21,  1.42s/it]\n",
      "Attention Walk (Loss=1.8027):  93%|#########3| 186/200 [04:49<00:19,  1.41s/it]\n",
      "Attention Walk (Loss=1.8025):  93%|#########3| 186/200 [04:50<00:19,  1.41s/it]\n",
      "Attention Walk (Loss=1.8025):  94%|#########3| 187/200 [04:50<00:18,  1.40s/it]\n",
      "Attention Walk (Loss=1.8023):  94%|#########3| 187/200 [04:52<00:18,  1.40s/it]\n",
      "Attention Walk (Loss=1.8023):  94%|#########3| 188/200 [04:52<00:16,  1.40s/it]\n",
      "Attention Walk (Loss=1.802):  94%|#########3| 188/200 [04:53<00:16,  1.40s/it] \n",
      "Attention Walk (Loss=1.802):  94%|#########4| 189/200 [04:53<00:15,  1.42s/it]\n",
      "Attention Walk (Loss=1.8018):  94%|#########4| 189/200 [04:55<00:15,  1.42s/it]\n",
      "Attention Walk (Loss=1.8018):  95%|#########5| 190/200 [04:55<00:16,  1.60s/it]\n",
      "Attention Walk (Loss=1.8016):  95%|#########5| 190/200 [04:57<00:16,  1.60s/it]\n",
      "Attention Walk (Loss=1.8016):  96%|#########5| 191/200 [04:57<00:14,  1.66s/it]\n",
      "Attention Walk (Loss=1.8013):  96%|#########5| 191/200 [04:59<00:14,  1.66s/it]\n",
      "Attention Walk (Loss=1.8013):  96%|#########6| 192/200 [04:59<00:12,  1.62s/it]\n",
      "Attention Walk (Loss=1.8011):  96%|#########6| 192/200 [05:00<00:12,  1.62s/it]\n",
      "Attention Walk (Loss=1.8011):  96%|#########6| 193/200 [05:00<00:11,  1.63s/it]\n",
      "Attention Walk (Loss=1.8009):  96%|#########6| 193/200 [05:02<00:11,  1.63s/it]\n",
      "Attention Walk (Loss=1.8009):  97%|#########7| 194/200 [05:02<00:09,  1.63s/it]\n",
      "Attention Walk (Loss=1.8007):  97%|#########7| 194/200 [05:03<00:09,  1.63s/it]\n",
      "Attention Walk (Loss=1.8007):  98%|#########7| 195/200 [05:03<00:07,  1.60s/it]\n",
      "Attention Walk (Loss=1.8005):  98%|#########7| 195/200 [05:05<00:07,  1.60s/it]\n",
      "Attention Walk (Loss=1.8005):  98%|#########8| 196/200 [05:05<00:06,  1.61s/it]\n",
      "Attention Walk (Loss=1.8003):  98%|#########8| 196/200 [05:07<00:06,  1.61s/it]\n",
      "Attention Walk (Loss=1.8003):  98%|#########8| 197/200 [05:07<00:04,  1.57s/it]\n",
      "Attention Walk (Loss=1.8001):  98%|#########8| 197/200 [05:08<00:04,  1.57s/it]\n",
      "Attention Walk (Loss=1.8001):  99%|#########9| 198/200 [05:08<00:03,  1.62s/it]\n",
      "Attention Walk (Loss=1.7999):  99%|#########9| 198/200 [05:10<00:03,  1.62s/it]\n",
      "Attention Walk (Loss=1.7999): 100%|#########9| 199/200 [05:10<00:01,  1.56s/it]\n",
      "Attention Walk (Loss=1.7997): 100%|#########9| 199/200 [05:11<00:01,  1.56s/it]\n",
      "Attention Walk (Loss=1.7997): 100%|##########| 200/200 [05:11<00:00,  1.55s/it]\n",
      "Attention Walk (Loss=1.7997): 100%|##########| 200/200 [05:11<00:00,  1.56s/it]\n"
     ]
    }
   ],
   "source": [
    "!cd AttentionWalk && python src/main.py --edge-path ../../data/facebook/facebook_combined.csv --embedding-path ../../result/embeddings_facebook_AW_128.csv --window-size 16 --num-of-walks 30 --learning-rate 0.01"
   ]
  },
  {
   "cell_type": "markdown",
   "id": "de1c81e3",
   "metadata": {
    "id": "de1c81e3"
   },
   "source": [
    "## Test with the citation network\n",
    "Infeasible!!"
   ]
  },
  {
   "cell_type": "code",
   "execution_count": null,
   "id": "ab1dc864",
   "metadata": {
    "id": "ab1dc864",
    "outputId": "a9337ff5-b81b-407b-80a2-072176a06703"
   },
   "outputs": [],
   "source": [
    "!cd AttentionWalk && python src/main.py --edge-path ../../data/cit-HepTh_edges.csv --embedding-path ../../result/cit-HepTh_embeddings_attention.csv --attention-path ../../result/cit-HepTh_attention.csv --epochs 176"
   ]
  },
  {
   "cell_type": "markdown",
   "id": "P2KVPWY9ovVm",
   "metadata": {
    "id": "P2KVPWY9ovVm"
   },
   "source": [
    "## Test with the biological network\n",
    "Infeasible!!!"
   ]
  },
  {
   "cell_type": "code",
   "execution_count": null,
   "id": "-URjbGoLozuS",
   "metadata": {
    "colab": {
     "base_uri": "https://localhost:8080/"
    },
    "id": "-URjbGoLozuS",
    "outputId": "17f2f3d5-e0ad-49dd-ffb1-760414c60dec"
   },
   "outputs": [],
   "source": [
    "!cd AttentionWalk && python src/main.py --edge-path ../../data/bio-CE-CX_edges.csv --embedding-path ../../result/bio-CE-CX_embeddings_attention.csv --attention-path ....//result/bio-CE-CX_attention.csv"
   ]
  },
  {
   "cell_type": "markdown",
   "id": "a3cc8b89",
   "metadata": {},
   "source": [
    "## Test proteins network"
   ]
  },
  {
   "cell_type": "code",
   "execution_count": 1,
   "id": "eee1c589",
   "metadata": {
    "collapsed": true,
    "jupyter": {
     "outputs_hidden": true
    }
   },
   "outputs": [
    {
     "name": "stdout",
     "output_type": "stream",
     "text": [
      "+----------------+---------------------------------------------+\n",
      "| Attention path |     ./output/chameleon_AW_attention.csv     |\n",
      "+================+=============================================+\n",
      "| Beta           | 0.500                                       |\n",
      "+----------------+---------------------------------------------+\n",
      "| Dimensions     | 128                                         |\n",
      "+----------------+---------------------------------------------+\n",
      "| Edge path      | ../../data/proteins/PROTEINS-full.csv       |\n",
      "+----------------+---------------------------------------------+\n",
      "| Embedding path | ../../result/embeddings_PROTEINS_AW_128.csv |\n",
      "+----------------+---------------------------------------------+\n",
      "| Epochs         | 200                                         |\n",
      "+----------------+---------------------------------------------+\n",
      "| Gamma          | 0.500                                       |\n",
      "+----------------+---------------------------------------------+\n",
      "| Learning rate  | 0.010                                       |\n",
      "+----------------+---------------------------------------------+\n",
      "| Num of walks   | 80                                          |\n",
      "+----------------+---------------------------------------------+\n",
      "| Window size    | 5                                           |\n",
      "+----------------+---------------------------------------------+\n",
      "\n",
      "Target matrix creation started.\n",
      "\n"
     ]
    },
    {
     "name": "stderr",
     "output_type": "stream",
     "text": [
      "c:\\Users\\pietr\\AppData\\Local\\Programs\\Python\\Python310\\lib\\site-packages\\scipy\\sparse\\_data.py:133: RuntimeWarning: divide by zero encountered in power\n",
      "  return self._with_data(data ** n)\n",
      "\n",
      "Adjacency matrix powers:   0%|          | 0/4 [00:00<?, ?it/s]\n",
      "Adjacency matrix powers:  25%|██▌       | 1/4 [00:00<00:01,  1.75it/s]\n",
      "Adjacency matrix powers:  50%|█████     | 2/4 [00:01<00:01,  1.07it/s]\n",
      "Adjacency matrix powers:  50%|█████     | 2/4 [00:01<00:01,  1.02it/s]\n",
      "Traceback (most recent call last):\n",
      "  File \"c:\\Users\\pietr\\OneDrive\\Desktop\\lfn_project\\src\\AttentionWalk\\src\\main.py\", line 19, in <module>\n",
      "    main()\n",
      "  File \"c:\\Users\\pietr\\OneDrive\\Desktop\\lfn_project\\src\\AttentionWalk\\src\\main.py\", line 14, in main\n",
      "    model = AttentionWalkTrainer(args)\n",
      "  File \"c:\\Users\\pietr\\OneDrive\\Desktop\\lfn_project\\src\\AttentionWalk\\src\\attentionwalk.py\", line 78, in __init__\n",
      "    self.initialize_model_and_features()\n",
      "  File \"c:\\Users\\pietr\\OneDrive\\Desktop\\lfn_project\\src\\AttentionWalk\\src\\attentionwalk.py\", line 84, in initialize_model_and_features\n",
      "    self.target_tensor = feature_calculator(self.args, self.graph)\n",
      "  File \"c:\\Users\\pietr\\OneDrive\\Desktop\\lfn_project\\src\\AttentionWalk\\src\\utils.py\", line 56, in feature_calculator\n",
      "    to_add = powered_A.todense()\n",
      "  File \"c:\\Users\\pietr\\AppData\\Local\\Programs\\Python\\Python310\\lib\\site-packages\\scipy\\sparse\\_base.py\", line 959, in todense\n",
      "    return self._ascontainer(self.toarray(order=order, out=out))\n",
      "  File \"c:\\Users\\pietr\\AppData\\Local\\Programs\\Python\\Python310\\lib\\site-packages\\scipy\\sparse\\_compressed.py\", line 1106, in toarray\n",
      "    out = self._process_toarray_args(order, out)\n",
      "  File \"c:\\Users\\pietr\\AppData\\Local\\Programs\\Python\\Python310\\lib\\site-packages\\scipy\\sparse\\_base.py\", line 1327, in _process_toarray_args\n",
      "    return np.zeros(self.shape, dtype=self.dtype, order=order)\n",
      "numpy.core._exceptions._ArrayMemoryError: Unable to allocate 14.1 GiB for an array with shape (43472, 43472) and data type float64\n"
     ]
    }
   ],
   "source": [
    "!cd AttentionWalk && python src/main.py --edge-path ../../data/proteins/PROTEINS-full.csv --embedding-path ../../result/embeddings_PROTEINS_AW_128.csv --dimensions 128"
   ]
  },
  {
   "cell_type": "markdown",
   "id": "125957f4",
   "metadata": {},
   "source": [
    "## Test spam"
   ]
  },
  {
   "cell_type": "code",
   "execution_count": null,
   "id": "d5b5a6a7",
   "metadata": {},
   "outputs": [],
   "source": [
    "!cd AttentionWalk && python src/main.py --edge-path ../../data/spam/spam.csv --embedding-path ../../result/embeddings_spam_AW_128.csv --window-size 16 --num-of-walks 40"
   ]
  },
  {
   "cell_type": "markdown",
   "id": "59a558d7",
   "metadata": {},
   "source": [
    "# GAE"
   ]
  },
  {
   "cell_type": "code",
   "execution_count": null,
   "id": "9fcc9444",
   "metadata": {},
   "outputs": [],
   "source": [
    "!cd gae && python setup.py install"
   ]
  },
  {
   "cell_type": "code",
   "execution_count": null,
   "id": "95228f46",
   "metadata": {},
   "outputs": [],
   "source": [
    "!cd gae/gae && python train.py"
   ]
  }
 ],
 "metadata": {
  "colab": {
   "provenance": []
  },
  "kernelspec": {
   "display_name": "Python 3 (ipykernel)",
   "language": "python",
   "name": "python3"
  },
  "language_info": {
   "codemirror_mode": {
    "name": "ipython",
    "version": 3
   },
   "file_extension": ".py",
   "mimetype": "text/x-python",
   "name": "python",
   "nbconvert_exporter": "python",
   "pygments_lexer": "ipython3",
   "version": "3.8.0"
  }
 },
 "nbformat": 4,
 "nbformat_minor": 5
}
