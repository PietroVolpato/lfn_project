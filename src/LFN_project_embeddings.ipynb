{
 "cells": [
  {
   "cell_type": "markdown",
   "id": "d121cbd5",
   "metadata": {
    "id": "d121cbd5"
   },
   "source": [
    "<a href=\"https://colab.research.google.com/github/PietroVolpato/lfn_project/blob/main/src/LFN_project_embeddings.ipynb\" target=\"_parent\"><img src=\"https://colab.research.google.com/assets/colab-badge.svg\" alt=\"Open In Colab\"/></a>"
   ]
  },
  {
   "cell_type": "markdown",
   "id": "358080be-e62b-4a82-b8d3-e5becb180aac",
   "metadata": {
    "id": "358080be-e62b-4a82-b8d3-e5becb180aac"
   },
   "source": [
    "# Learning from networks project\n",
    "### Evaluation of different Node Embedding algorithms\n",
    "Members:<br>\n",
    "- D'Emilio Filippo, id : 2120931\n",
    "- Volpato Pietro, id : 2120825\n",
    "\n",
    "### Information about the notebook (have a look at the report for details)\n",
    "This notebook is responsable of computing the embeddings for every embedding technique and for every selected graph.<br>\n",
    "Each computed embedding is saved to file as a numpy array (extension .npy), in the directory /embeddings. In this way that once an embedding is computed, it won't be lost when the runtime of the notebook is terminated.<br>\n",
    "We can then efficiently load the embeddings in the \"test\" notebook, and evaluate the quality of the embeddings.<br>\n",
    "Selected embedding techniques:\n",
    "- Node2Vec\n",
    "- Line\n",
    "- ...\n",
    "\n",
    "For information about the graphs, se cells below.<br>\n",
    "*NOTE*: by implementation choice, the computation of each embedding is computed separately (e.g. there are no function to coincisely compute all embeddings).<br>\n",
    "This choice comes from the fact that computing embeddings is computationally intensive, and we might want to compute only a specific\n",
    "embedding strategy for a specific graph, in order to update only this entry in the folder containing the embeddings."
   ]
  },
  {
   "cell_type": "markdown",
   "id": "bb1d3b60-f774-4fc7-b0bc-7617057d6459",
   "metadata": {
    "id": "bb1d3b60-f774-4fc7-b0bc-7617057d6459"
   },
   "source": [
    "### Imports"
   ]
  },
  {
   "cell_type": "code",
   "execution_count": 1,
   "id": "93987c53-ecce-41d6-948b-4a4b7ac4978a",
   "metadata": {
    "id": "93987c53-ecce-41d6-948b-4a4b7ac4978a"
   },
   "outputs": [],
   "source": [
    "import numpy as np\n",
    "import networkx as nx\n",
    "import matplotlib.pyplot as plt\n",
    "from node2vec import Node2Vec\n",
    "from sklearn.metrics import mean_squared_error\n",
    "from sklearn.metrics.pairwise import cosine_similarity\n",
    "import gzip\n",
    "import sys\n",
    "import re"
   ]
  },
  {
   "cell_type": "markdown",
   "id": "d6b64818-de78-4c30-945e-b95279c7f1c9",
   "metadata": {
    "id": "d6b64818-de78-4c30-945e-b95279c7f1c9"
   },
   "source": [
    "# configuration\n",
    "Here you can properly configure the names of the graphs and the names of the embedding strategies. Use meaningful names."
   ]
  },
  {
   "cell_type": "code",
   "execution_count": 2,
   "id": "6e5b26d0-84d0-46ad-83dd-ac826faac4fe",
   "metadata": {
    "id": "6e5b26d0-84d0-46ad-83dd-ac826faac4fe"
   },
   "outputs": [],
   "source": [
    "graph_keys = [\"facebook\",\"citation\",\"biological\",\"proteins\",\"spam\"]\n",
    "embedding_keys = [\"LINE\", \"node2vec\"]"
   ]
  },
  {
   "cell_type": "markdown",
   "id": "79f6ca3e-b5f5-4869-a3ef-47fb66cd7c56",
   "metadata": {
    "id": "79f6ca3e-b5f5-4869-a3ef-47fb66cd7c56"
   },
   "source": [
    "# Loading the graphs\n",
    "Selected graphs:\n",
    "- Facebook_combined    https://snap.stanford.edu/data/ego-Facebook.html          \n",
    "- cit-Helpth           https://networkrepository.com/cit-HepTh.php             \n",
    "- bio-CE-CX            https://networkrepository.com/bio-CE-CX.php             \n",
    "- proteins-full        https://networkrepository.com/PROTEINS-full.php ---- the graph has node labels\n",
    "- spam                 https://networkrepository.com/web-spam-detection.php  ---- the graph has node labels\n",
    "\n",
    "To run this notebook, adjust the paths to match where the files are saved in your PC.<br>\n",
    "To keep paths as they are, create a \"data\" folder inside the directory of this notebook, and store the files there.<br>\n",
    "Graphs are stored as a dictionary: the key is the graph name, the value is the corresponding netowrkx graph.<br>\n",
    "\n",
    "When it is created a networkX graph from a text file the node are renamed as integers form 0 to |V|-1, so that we can store the embeddings\n",
    "on a matrix, and each row index corresponds to the embedding vector of the corrisponding node."
   ]
  },
  {
   "cell_type": "code",
   "execution_count": 3,
   "id": "TtpPrXlsIUgJ",
   "metadata": {
    "id": "TtpPrXlsIUgJ"
   },
   "outputs": [],
   "source": [
    "facebook_path = '../data/facebook/facebook_combined.txt.gz'\n",
    "citation_path = '../data/citation/cit-HepTh.edges'\n",
    "biological_path = '../data/biological/bio-CE-CX.edges'\n",
    "proteins_path = \"../data/proteins/PROTEINS-full.edges\"\n",
    "spam_path = \"../data/spam/web-spam-detection.edges\""
   ]
  },
  {
   "cell_type": "code",
   "execution_count": 4,
   "id": "e83f7ed1-5bbd-4e15-8d0c-1a93e9802783",
   "metadata": {
    "id": "e83f7ed1-5bbd-4e15-8d0c-1a93e9802783"
   },
   "outputs": [],
   "source": [
    "def load_graph(path):\n",
    "    \"\"\"\n",
    "    For files with extension .edges\n",
    "    nodes are renamed as integers, starting from 0\n",
    "    \"\"\"\n",
    "    G = nx.Graph()\n",
    "    with open(path, 'rt') as f:\n",
    "        for line in f:\n",
    "            if line.startswith('%'):  # Skip comment lines\n",
    "                continue\n",
    "            # Split the line based on spaces or commas\n",
    "            data = re.split(r'[,\\s]+', line.strip())\n",
    "            if len(data) < 2:  # Skip lines that don't have at least two columns\n",
    "                continue\n",
    "            # Extract the first two columns (nodes)\n",
    "            node1, node2 = int(data[0]), int(data[1])\n",
    "            G.add_edge(node1, node2)\n",
    "    mapping = {node : i for i,node in enumerate(G.nodes)} # mappoing original : relabeled\n",
    "    G = nx.relabel_nodes(G, mapping)\n",
    "    return G\n",
    "\n",
    "def load_graph_with_gz(path):\n",
    "    \"\"\"\n",
    "    For files with extension .txt.gz\n",
    "    nodes are renamed as integers, starting from 0\n",
    "    \"\"\"\n",
    "    G = nx.Graph()\n",
    "    with gzip.open(path, 'rt') as f:\n",
    "        for line in f:\n",
    "            node1, node2 = map(int, line.strip().split())\n",
    "            G.add_edge(node1, node2)\n",
    "    mapping = {node : i for i,node in enumerate(G.nodes)} # mappoing original : relabeled\n",
    "    G = nx.relabel_nodes(G, mapping)\n",
    "    return G\n",
    "\n",
    "def print_graphs_info(graphs):\n",
    "    for k in graph_keys:\n",
    "        G = graphs[k]\n",
    "        print(f\"{k}: |V|={len(G.nodes)}, |E|={len(G.edges)}\")"
   ]
  },
  {
   "cell_type": "code",
   "execution_count": 5,
   "id": "c2ab6207-3fe1-44b0-bf8e-636a7d9f9f2b",
   "metadata": {
    "colab": {
     "base_uri": "https://localhost:8080/"
    },
    "id": "c2ab6207-3fe1-44b0-bf8e-636a7d9f9f2b",
    "outputId": "b810991c-26ec-47d1-b2c3-248de16db6fe"
   },
   "outputs": [
    {
     "name": "stdout",
     "output_type": "stream",
     "text": [
      "facebook: |V|=4039, |E|=88234\n",
      "citation: |V|=22908, |E|=2444798\n",
      "biological: |V|=15229, |E|=245952\n",
      "proteins: |V|=43471, |E|=81049\n",
      "spam: |V|=9072, |E|=473854\n"
     ]
    }
   ],
   "source": [
    "graphs = {}\n",
    "\n",
    "# facebook graph is the only one .tar.gz\n",
    "graphs[graph_keys[0]] = load_graph_with_gz(facebook_path)  # relabeling nodes to integer\n",
    "graphs[graph_keys[1]] = load_graph(citation_path)\n",
    "graphs[graph_keys[2]] = load_graph(biological_path)\n",
    "graphs[graph_keys[3]] = load_graph(proteins_path)  # node labeled\n",
    "graphs[graph_keys[4]] = load_graph(spam_path)  # node labeled\n",
    "\n",
    "print_graphs_info(graphs)"
   ]
  },
  {
   "cell_type": "markdown",
   "id": "8tGjO8jcn7P5",
   "metadata": {
    "id": "8tGjO8jcn7P5"
   },
   "source": [
    "# Download the dataset from the GitHub repository"
   ]
  },
  {
   "cell_type": "code",
   "execution_count": 6,
   "id": "pBB2zmeGoCXe",
   "metadata": {
    "id": "pBB2zmeGoCXe"
   },
   "outputs": [],
   "source": [
    "import requests\n",
    "\n",
    "url = \"https://raw.githubusercontent.com/PietroVolpato/lfn_project/main/data/\"\n",
    "filename = \"bio-CE-CX_edges.csv\"\n",
    "\n",
    "response = requests.get(url + filename)\n",
    "with open(filename, \"wb\") as file:\n",
    "    file.write(response.content)"
   ]
  },
  {
   "cell_type": "markdown",
   "id": "f14ab17a-9328-47b5-bc28-15dbd59deabf",
   "metadata": {
    "id": "f14ab17a-9328-47b5-bc28-15dbd59deabf"
   },
   "source": [
    "# Functions and declarations for the embeddings\n",
    "Embedding data structure is defined as following:<br>\n",
    "- The first index refer to the graph (e.g. embeddings[\"facebook\"] contains the embeddings of the facebook graph for every embedding technique).<br>\n",
    "- The second index refer to the embedding technique (e.g. embeddings[\"facebook\"][\"LINE\"] cointans the embedding of facebook graph computed using LINE)"
   ]
  },
  {
   "cell_type": "code",
   "execution_count": 7,
   "id": "0e7e55ae-2aa3-4989-8903-0ccc3898309f",
   "metadata": {
    "id": "0e7e55ae-2aa3-4989-8903-0ccc3898309f"
   },
   "outputs": [],
   "source": [
    "def save(emb, graph_key, embedding_key, emb_dim):\n",
    "    path = f\"../result/embeddings_{graph_key}_{embedding_key}_{emb_dim}.npy\"\n",
    "    np.save(path, emb)\n",
    "    print(f\"Successfully saved the embeddings in {path}\")\n",
    "\n",
    "# dictionaries to store the embeddings, obtained by several techniques, for each graph\n",
    "embeddings = {}\n",
    "for k in graph_keys:\n",
    "    embeddings[k] = {}"
   ]
  },
  {
   "cell_type": "markdown",
   "id": "d7649b02-023b-4ec3-b1e7-4d051776d0f2",
   "metadata": {
    "id": "d7649b02-023b-4ec3-b1e7-4d051776d0f2"
   },
   "source": [
    "# Node2Vec\n",
    "- pip install node2vec"
   ]
  },
  {
   "cell_type": "code",
   "execution_count": 8,
   "id": "c54d5a3a-a0ff-4044-8ba4-808588927dba",
   "metadata": {
    "id": "c54d5a3a-a0ff-4044-8ba4-808588927dba"
   },
   "outputs": [],
   "source": [
    "def get_node2vec_embeddings(G, dimensions=128, walk_length=50, num_walks=40, p=0.5, q=2, workers=1, epochs = 10):\n",
    "    \"\"\"\n",
    "    Generate node embeddings for a graph using the Node2Vec algorithm.\n",
    "\n",
    "    Parameters:\n",
    "        G (networkx.Graph):The input graph for which embeddings are to be generated.\n",
    "            The graph should have nodes labeled as integers, ideally sequentially starting from 0.\n",
    "        dimensions (int, optional): The dimensionality of the embedding space. Default is 128.\n",
    "        walk_length (int, optional): The length of each random walk. Default is 10.\n",
    "        num_walks (int, optional): The number of random walks to start from each node. Default is 20.\n",
    "        p (float, optional):\n",
    "            The return parameter, controlling the likelihood of immediately revisiting a node in the walk.\n",
    "            A higher value makes it more likely to backtrack. Default is 1.\n",
    "        q (float, optional):\n",
    "            The in-out parameter, controlling the likelihood of exploring outward from the starting node.\n",
    "            A higher value makes it more likely to move outward. Default is 1.\n",
    "        workers (int, optional): The number of parallel workers for random walk generation and model training. Default is 1.\n",
    "\n",
    "    Returns:\n",
    "        np.ndarray: A NumPy array where each row represents the embedding of a node.\n",
    "            The row index corresponds to the node ID, and each row has `dimensions` elements.\n",
    "    \"\"\"\n",
    "    # Initialize Node2Vec model\n",
    "    node2vec = Node2Vec(G, dimensions=dimensions, walk_length=walk_length, num_walks=num_walks, p=p, q=q, workers=workers)\n",
    "\n",
    "    # Fit the Node2Vec model and generate embeddings\n",
    "    model = node2vec.fit(window=5, min_count=1, batch_words=4, epochs = epochs)\n",
    "\n",
    "    # Convert embeddings to a NumPy array\n",
    "    num_nodes = G.number_of_nodes()\n",
    "    embeddings = np.zeros((num_nodes, dimensions))  \n",
    "    for node in G.nodes:\n",
    "        embeddings[node] = model.wv[node]\n",
    "\n",
    "    return embeddings"
   ]
  },
  {
   "cell_type": "markdown",
   "id": "019d9eac-2b78-4283-bea5-354f1f324e49",
   "metadata": {},
   "source": [
    "## Produce the embeddings with node2vec\n",
    "here you can easily produce the embeddings for any of the loaded graphs using node2vec.<br>\n",
    "Adjust the variable curr_graph_key with the key of the graph you want to compute the embeddings for.<br>\n",
    "The embeddings are saved to file (look output to get path)."
   ]
  },
  {
   "cell_type": "code",
   "execution_count": null,
   "id": "48f11c92-dd61-476b-9c80-e152704a2e58",
   "metadata": {
    "id": "2535202c-086c-42ae-a7a0-2bce62d42e02"
   },
   "outputs": [
    {
     "data": {
      "application/vnd.jupyter.widget-view+json": {
       "model_id": "f93341c8554540b786c67eebe3880f5f",
       "version_major": 2,
       "version_minor": 0
      },
      "text/plain": [
       "Computing transition probabilities:   0%|          | 0/9072 [00:00<?, ?it/s]"
      ]
     },
     "metadata": {},
     "output_type": "display_data"
    },
    {
     "name": "stderr",
     "output_type": "stream",
     "text": [
      "Generating walks (CPU: 1): 100%|███████████████████████████████████████████████████████| 20/20 [02:45<00:00,  8.30s/it]\n"
     ]
    }
   ],
   "source": [
    "# graph_keys[0] = facebook\n",
    "# graph_keys[1] = biological\n",
    "# graph_keys[2] = citation\n",
    "# graph_keys[3] = proteins\n",
    "# graph_keys[4] = spam\n",
    "curr_graph_key = graph_keys[4]   # chose the graph\n",
    "emb_dim = 128\n",
    "G = graphs[curr_graph_key]\n",
    "embeddings[curr_graph_key][\"node2vec\"] = get_node2vec_embeddings(G, dimensions=emb_dim, walk_length=20, num_walks=20, p=1, q=0.5, epochs = 10)\n",
    "save(embeddings[curr_graph_key][\"node2vec\"], curr_graph_key, \"node2vec\", emb_dim)"
   ]
  },
  {
   "cell_type": "markdown",
   "id": "900c4f4c-6f35-4c15-bff0-837960ef3411",
   "metadata": {
    "id": "900c4f4c-6f35-4c15-bff0-837960ef3411"
   },
   "source": [
    "# LINE : Large-scale information network embedding\n",
    "installation guide:\n",
    "- git clone https://github.com/VahidooX/LINE.git\n",
    "- !pip install keras\n",
    "- !pip install tensorflow\n",
    "- adjust the sys.path to where you downloaded LINE repository\n",
    "\n",
    "*NOTE*: it was necessary to modify utils.py to adapt it at current version of keras because some elements were deprecated"
   ]
  },
  {
   "cell_type": "code",
   "execution_count": 10,
   "id": "3e6cc917-5939-45b8-aca5-d192cb0fd1d9",
   "metadata": {
    "id": "3e6cc917-5939-45b8-aca5-d192cb0fd1d9"
   },
   "outputs": [],
   "source": [
    "sys.path.append(r'C:\\Users\\oppil\\OneDrive\\Desktop\\Universita\\magistrale\\2_1\\LFN\\REPO_PROJECT\\lfn_project\\src\\LINE')\n",
    "\n",
    "from model import create_model\n",
    "from utils import batchgen_train\n",
    "\n",
    "def get_LINE_embeddings(G, embedding_dim=128, batch_size=1024, negative_ratio=5, epochs=10, negative_sampling=\"UNIFORM\"):\n",
    "    \"\"\"\n",
    "    Generate LINE embeddings for a given graph.\n",
    "\n",
    "    Parameters:\n",
    "        G (nx.Graph): The graph for which embeddings are computed.\n",
    "        embedding_dim (int): Dimensionality of the embeddings.\n",
    "        batch_size (int): Batch size for training.\n",
    "        negative_ratio (int): Ratio of negative to positive samples.\n",
    "        epochs (int): Number of training epochs.\n",
    "        negative_sampling (str): Negative sampling strategy (\"UNIFORM\" or \"NON-UNIFORM\").\n",
    "\n",
    "    Returns:\n",
    "        numpy.ndarray: Node embeddings (shape: [num_nodes, embedding_dim]).\n",
    "    \"\"\"\n",
    "    num_nodes = G.number_of_nodes()\n",
    "\n",
    "    # Convert networkx.Graph to adj_list (edge list as 2D numpy array)\n",
    "    adj_list = np.array(list(G.edges()), dtype=np.int32)\n",
    "\n",
    "    # Create LINE model\n",
    "    model, embed_generator = create_model(num_nodes, embedding_dim)\n",
    "\n",
    "    # Generate training batches\n",
    "    train_gen = batchgen_train(adj_list, num_nodes, batch_size, negative_ratio, negative_sampling)\n",
    "\n",
    "    # Compile and train the model\n",
    "    model.compile(optimizer=\"adam\", loss=\"binary_crossentropy\")\n",
    "    model.fit(train_gen, steps_per_epoch=500, epochs=epochs)\n",
    "\n",
    "    # Extract embeddings\n",
    "    node_ids = np.arange(num_nodes)  # Sequential node IDs\n",
    "    embeddings = embed_generator.predict_on_batch(node_ids)\n",
    "\n",
    "    print(\"Node Embeddings Shape:\", embeddings[0].shape)\n",
    "    return embeddings"
   ]
  },
  {
   "cell_type": "markdown",
   "id": "94620d7e-7d58-494a-a968-acf7f5b20b4f",
   "metadata": {},
   "source": [
    "## Produce the embeddings with LINE\n",
    "here you can easily produce the embeddings for any of the loaded graphs using LINE.<br>\n",
    "Adjust the variable curr_graph_key with the key of the graph you want to compute the embeddings for.<br>\n",
    "The embeddings are saved to file (look output to get path)."
   ]
  },
  {
   "cell_type": "code",
   "execution_count": 13,
   "id": "2535202c-086c-42ae-a7a0-2bce62d42e02",
   "metadata": {
    "id": "2535202c-086c-42ae-a7a0-2bce62d42e02"
   },
   "outputs": [
    {
     "name": "stdout",
     "output_type": "stream",
     "text": [
      "Epoch 1/15\n",
      "500/500 [==============================] - 64s 128ms/step - loss: 1.3198\n",
      "Epoch 2/15\n",
      "500/500 [==============================] - 64s 128ms/step - loss: 0.7435\n",
      "Epoch 3/15\n",
      "500/500 [==============================] - 64s 129ms/step - loss: 0.5357\n",
      "Epoch 4/15\n",
      "500/500 [==============================] - 62s 125ms/step - loss: 0.4573\n",
      "Epoch 5/15\n",
      "500/500 [==============================] - 63s 126ms/step - loss: 0.4156\n",
      "Epoch 6/15\n",
      "500/500 [==============================] - 64s 128ms/step - loss: 0.3902\n",
      "Epoch 7/15\n",
      "500/500 [==============================] - 63s 126ms/step - loss: 0.3676\n",
      "Epoch 8/15\n",
      "500/500 [==============================] - 64s 127ms/step - loss: 0.3481\n",
      "Epoch 9/15\n",
      "500/500 [==============================] - 63s 125ms/step - loss: 0.3347\n",
      "Epoch 10/15\n",
      "500/500 [==============================] - 63s 126ms/step - loss: 0.3280\n",
      "Epoch 11/15\n",
      "500/500 [==============================] - 64s 129ms/step - loss: 0.3091\n",
      "Epoch 12/15\n",
      "500/500 [==============================] - 62s 124ms/step - loss: 0.3041\n",
      "Epoch 13/15\n",
      "500/500 [==============================] - 63s 125ms/step - loss: 0.2922\n",
      "Epoch 14/15\n",
      "500/500 [==============================] - 64s 128ms/step - loss: 0.2750\n",
      "Epoch 15/15\n",
      "500/500 [==============================] - 63s 126ms/step - loss: 0.2671\n",
      "Node Embeddings Shape: (128,)\n",
      "Successfully saved the embeddings in ../result/embeddings_spam_LINE_128.npy\n"
     ]
    }
   ],
   "source": [
    "curr_graph_key = graph_keys[4]   # chose the graph\n",
    "emb_dim = 128\n",
    "\n",
    "embeddings[curr_graph_key][\"LINE\"] = get_LINE_embeddings(graphs[curr_graph_key], epochs = 15, embedding_dim=emb_dim)\n",
    "save(embeddings[curr_graph_key][\"LINE\"], curr_graph_key, \"LINE\", emb_dim)"
   ]
  },
  {
   "cell_type": "markdown",
   "id": "5abc4a49",
   "metadata": {
    "id": "5abc4a49"
   },
   "source": [
    "# AttentionWalk"
   ]
  },
  {
   "cell_type": "markdown",
   "id": "5f540988",
   "metadata": {
    "id": "5f540988"
   },
   "source": [
    "## Installation guide\n",
    "<ol>\n",
    "<li>git clone https://github.com/benedekrozemberczki/AttentionWalk.git</li>\n",
    "<li>pip install texttable</li>\n",
    "</ol>\n",
    "\n",
    "It requires that the input file is a .csv, so first we have implemented a function that converts the .txt.gz and the .edges files to a .csv to be given as input to the AttentionWalk algorithm.<br>\n",
    "For starting the algorithm you have to enter to the AttentionWalk folder after having cloned it from the Github repository and then set the arguments as described in the README.md file."
   ]
  },
  {
   "cell_type": "code",
   "execution_count": null,
   "id": "a3b872e0",
   "metadata": {
    "colab": {
     "base_uri": "https://localhost:8080/"
    },
    "id": "a3b872e0",
    "outputId": "44fa23c4-3512-4e6c-e2e7-4459f560804d"
   },
   "outputs": [],
   "source": [
    "!git clone https://github.com/benedekrozemberczki/AttentionWalk.git"
   ]
  },
  {
   "cell_type": "code",
   "execution_count": null,
   "id": "7d33c074",
   "metadata": {
    "colab": {
     "base_uri": "https://localhost:8080/"
    },
    "id": "7d33c074",
    "outputId": "bdb2c444-b76b-4596-af4b-f60315b0747e"
   },
   "outputs": [],
   "source": [
    "!pip install texttable"
   ]
  },
  {
   "cell_type": "markdown",
   "id": "d01b0bbb",
   "metadata": {
    "id": "d01b0bbb"
   },
   "source": [
    "## Test with the facebook network\n",
    "Save the embeddings in the result folder<br>\n",
    "Time: 1m 50s"
   ]
  },
  {
   "cell_type": "code",
   "execution_count": null,
   "id": "98fc24b7",
   "metadata": {
    "id": "98fc24b7",
    "outputId": "80702d2f-f99e-402c-a944-b6dcc8ab5146"
   },
   "outputs": [],
   "source": [
    "!cd AttentionWalk && python src/main.py --edge-path ../../data/facebook/facebook_combined.csv --embedding-path ../../result/embeddings_facebook_AW_256.csv --dimensions 256"
   ]
  },
  {
   "cell_type": "markdown",
   "id": "de1c81e3",
   "metadata": {
    "id": "de1c81e3"
   },
   "source": [
    "## Test with the citation network\n",
    "Infeasible!!"
   ]
  },
  {
   "cell_type": "code",
   "execution_count": null,
   "id": "ab1dc864",
   "metadata": {
    "id": "ab1dc864",
    "outputId": "a9337ff5-b81b-407b-80a2-072176a06703"
   },
   "outputs": [],
   "source": [
    "!cd AttentionWalk && python src/main.py --edge-path ../../data/cit-HepTh_edges.csv --embedding-path ../../result/cit-HepTh_embeddings_attention.csv --attention-path ../../result/cit-HepTh_attention.csv --epochs 176"
   ]
  },
  {
   "cell_type": "markdown",
   "id": "P2KVPWY9ovVm",
   "metadata": {
    "id": "P2KVPWY9ovVm"
   },
   "source": [
    "## Test with the biological network\n",
    "Infeasible!!!"
   ]
  },
  {
   "cell_type": "code",
   "execution_count": null,
   "id": "-URjbGoLozuS",
   "metadata": {
    "colab": {
     "base_uri": "https://localhost:8080/"
    },
    "id": "-URjbGoLozuS",
    "outputId": "17f2f3d5-e0ad-49dd-ffb1-760414c60dec"
   },
   "outputs": [],
   "source": [
    "!cd AttentionWalk && python src/main.py --edge-path ../../data/bio-CE-CX_edges.csv --embedding-path ../../result/bio-CE-CX_embeddings_attention.csv --attention-path ....//result/bio-CE-CX_attention.csv"
   ]
  },
  {
   "cell_type": "markdown",
   "id": "a3cc8b89",
   "metadata": {},
   "source": [
    "## Test proteins network"
   ]
  },
  {
   "cell_type": "code",
   "execution_count": null,
   "id": "eee1c589",
   "metadata": {},
   "outputs": [],
   "source": [
    "!cd AttentionWalk && python src/main.py --edge-path ../../data/proteins/PROTEINS-full.csv --embedding-path ../../result/embeddings_PROTEINS_AW_128.csv --dimensions 128"
   ]
  },
  {
   "cell_type": "markdown",
   "id": "74ac8179",
   "metadata": {},
   "source": [
    "## Test with email-Enron\n",
    "Infeasibile"
   ]
  },
  {
   "cell_type": "code",
   "execution_count": null,
   "id": "80f520ab",
   "metadata": {},
   "outputs": [],
   "source": [
    "!cd AttentionWalk && python src/main.py --edge-path ../../data/email-Enron.csv --embedding-path ../../result/email-Enron_embeddings_attention.csv --attention-path ../../result/email-Enron_attention.csv"
   ]
  },
  {
   "cell_type": "markdown",
   "id": "6c4f6d07",
   "metadata": {},
   "source": [
    "## Test with CL-100K-1d8-L9"
   ]
  },
  {
   "cell_type": "code",
   "execution_count": null,
   "id": "674d6f6e",
   "metadata": {},
   "outputs": [],
   "source": [
    "!cd AttentionWalk && python src/main.py --edge-path ../../data/CL-100K-1d8-L9.csv --embedding-path ../../result/CL-100K-1d8-L9_embeddings_attention.csv --attention-path ../../result/CL-100K-1d8-L9_attention.csv"
   ]
  },
  {
   "cell_type": "markdown",
   "id": "8d66578b",
   "metadata": {},
   "source": [
    "## Test with COX2-MD"
   ]
  },
  {
   "cell_type": "code",
   "execution_count": null,
   "id": "aed70496",
   "metadata": {},
   "outputs": [],
   "source": [
    "!cd AttentionWalk && python src/main.py --edge-path ../../data/COX2-MD.csv --embedding-path ../../result/embeddings_COX2-MD_AW_128.csv --dimensions 128"
   ]
  },
  {
   "cell_type": "markdown",
   "id": "59a558d7",
   "metadata": {},
   "source": [
    "# GAE"
   ]
  },
  {
   "cell_type": "code",
   "execution_count": null,
   "id": "9fcc9444",
   "metadata": {},
   "outputs": [],
   "source": [
    "!cd gae && python setup.py install"
   ]
  },
  {
   "cell_type": "code",
   "execution_count": null,
   "id": "95228f46",
   "metadata": {},
   "outputs": [],
   "source": [
    "!cd gae/gae && python train.py"
   ]
  }
 ],
 "metadata": {
  "colab": {
   "provenance": []
  },
  "kernelspec": {
   "display_name": "Python 3 (ipykernel)",
   "language": "python",
   "name": "python3"
  },
  "language_info": {
   "codemirror_mode": {
    "name": "ipython",
    "version": 3
   },
   "file_extension": ".py",
   "mimetype": "text/x-python",
   "name": "python",
   "nbconvert_exporter": "python",
   "pygments_lexer": "ipython3",
   "version": "3.8.0"
  }
 },
 "nbformat": 4,
 "nbformat_minor": 5
}
