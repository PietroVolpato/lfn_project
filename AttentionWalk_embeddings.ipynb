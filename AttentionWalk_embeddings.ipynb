{
  "nbformat": 4,
  "nbformat_minor": 0,
  "metadata": {
    "colab": {
      "provenance": [],
      "authorship_tag": "ABX9TyMJz+wA89AnnPHufmi+ADub",
      "include_colab_link": true
    },
    "kernelspec": {
      "name": "python3",
      "display_name": "Python 3"
    },
    "language_info": {
      "name": "python"
    }
  },
  "cells": [
    {
      "cell_type": "markdown",
      "metadata": {
        "id": "view-in-github",
        "colab_type": "text"
      },
      "source": [
        "<a href=\"https://colab.research.google.com/github/PietroVolpato/lfn_project/blob/main/AttentionWalk_embeddings.ipynb\" target=\"_parent\"><img src=\"https://colab.research.google.com/assets/colab-badge.svg\" alt=\"Open In Colab\"/></a>"
      ]
    },
    {
      "cell_type": "markdown",
      "source": [
        "# AttentionWalk"
      ],
      "metadata": {
        "id": "Qxfzy1Wxd0GQ"
      }
    },
    {
      "cell_type": "code",
      "execution_count": null,
      "metadata": {
        "colab": {
          "base_uri": "https://localhost:8080/"
        },
        "id": "SEhgmKeQdPeC",
        "outputId": "4435412d-8a61-414b-9926-1db445eb9ba3"
      },
      "outputs": [
        {
          "output_type": "stream",
          "name": "stdout",
          "text": [
            "fatal: destination path 'AttentionWalk' already exists and is not an empty directory.\n",
            "python3: can't open file '/content/src/main.py': [Errno 2] No such file or directory\n"
          ]
        }
      ],
      "source": [
        "!git clone https://github.com/benedekrozemberczki/AttentionWalk.git"
      ]
    },
    {
      "source": [
        "!pip install texttable==1.6.7"
      ],
      "cell_type": "code",
      "metadata": {
        "colab": {
          "base_uri": "https://localhost:8080/"
        },
        "id": "p2ZWa1QIhAXM",
        "outputId": "c37cfcf9-063f-45ac-a275-6a35ee33018e"
      },
      "execution_count": null,
      "outputs": [
        {
          "output_type": "stream",
          "name": "stdout",
          "text": [
            "Collecting texttable==1.6.7\n",
            "  Downloading texttable-1.6.7-py2.py3-none-any.whl.metadata (9.8 kB)\n",
            "Downloading texttable-1.6.7-py2.py3-none-any.whl (10 kB)\n",
            "Installing collected packages: texttable\n",
            "Successfully installed texttable-1.6.7\n"
          ]
        }
      ]
    },
    {
      "cell_type": "code",
      "source": [
        "import requests\n",
        "\n",
        "file_path = \"https://raw.githubusercontent.com/PietroVolpato/lfn_project/main/data/facebook_edges.csv\"\n",
        "\n",
        "\n",
        "response = requests.get(file_path, stream=True)\n",
        "response.raise_for_status()\n",
        "\n",
        "with open(\"facebook_edges.csv\", \"wb\") as file:\n",
        "    file.write(response.content)"
      ],
      "metadata": {
        "colab": {
          "base_uri": "https://localhost:8080/"
        },
        "id": "fFcPs_S2iAKu",
        "outputId": "2289bb1d-d4cd-4369-e0b2-922085bfb4a3"
      },
      "execution_count": 19,
      "outputs": [
        {
          "output_type": "stream",
          "name": "stdout",
          "text": [
            "AttentionWalk  facebook_combined.txt.gz  facebook_edges.csv  sample_data\n"
          ]
        }
      ]
    },
    {
      "cell_type": "code",
      "source": [
        "!cd AttentionWalk && python src/main.py --edge-path ../facebook_edges.csv"
      ],
      "metadata": {
        "colab": {
          "base_uri": "https://localhost:8080/"
        },
        "id": "tMm_BFngfeiW",
        "outputId": "297ca0f3-ddb4-4696-d247-5b782ae1b384"
      },
      "execution_count": 20,
      "outputs": [
        {
          "output_type": "stream",
          "name": "stdout",
          "text": [
            "+----------------+-------------------------------------+\n",
            "| Attention path | ./output/chameleon_AW_attention.csv |\n",
            "+================+=====================================+\n",
            "| Beta           | 0.500                               |\n",
            "+----------------+-------------------------------------+\n",
            "| Dimensions     | 128                                 |\n",
            "+----------------+-------------------------------------+\n",
            "| Edge path      | ../facebook_edges.csv               |\n",
            "+----------------+-------------------------------------+\n",
            "| Embedding path | ./output/chameleon_AW_embedding.csv |\n",
            "+----------------+-------------------------------------+\n",
            "| Epochs         | 200                                 |\n",
            "+----------------+-------------------------------------+\n",
            "| Gamma          | 0.500                               |\n",
            "+----------------+-------------------------------------+\n",
            "| Learning rate  | 0.010                               |\n",
            "+----------------+-------------------------------------+\n",
            "| Num of walks   | 80                                  |\n",
            "+----------------+-------------------------------------+\n",
            "| Window size    | 5                                   |\n",
            "+----------------+-------------------------------------+\n",
            "\n",
            "Target matrix creation started.\n",
            "\n",
            "Traceback (most recent call last):\n",
            "  File \"/content/AttentionWalk/src/main.py\", line 19, in <module>\n",
            "    main()\n",
            "  File \"/content/AttentionWalk/src/main.py\", line 14, in main\n",
            "    model = AttentionWalkTrainer(args)\n",
            "  File \"/content/AttentionWalk/src/attentionwalk.py\", line 76, in __init__\n",
            "    self.graph = read_graph(self.args.edge_path)\n",
            "  File \"/content/AttentionWalk/src/utils.py\", line 17, in read_graph\n",
            "    graph = nx.from_edgelist(pd.read_csv(graph_path).values.tolist())\n",
            "  File \"/usr/local/lib/python3.10/dist-packages/networkx/utils/decorators.py\", line 788, in func\n",
            "    return argmap._lazy_compile(__wrapper)(*args, **kwargs)\n",
            "  File \"<class 'networkx.utils.decorators.argmap'> compilation 4\", line 3, in argmap_from_edgelist_1\n",
            "  File \"/usr/local/lib/python3.10/dist-packages/networkx/utils/backends.py\", line 1355, in __call__\n",
            "    return self._call_with_backend(backend_name, args, kwargs)\n",
            "  File \"/usr/local/lib/python3.10/dist-packages/networkx/utils/backends.py\", line 1858, in _call_with_backend\n",
            "    return self.orig_func(*args, **kwargs)\n",
            "  File \"/usr/local/lib/python3.10/dist-packages/networkx/convert.py\", line 501, in from_edgelist\n",
            "    G.add_edges_from(edgelist)\n",
            "  File \"/usr/local/lib/python3.10/dist-packages/networkx/classes/graph.py\", line 1038, in add_edges_from\n",
            "    raise NetworkXError(f\"Edge tuple {e} must be a 2-tuple or 3-tuple.\")\n",
            "networkx.exception.NetworkXError: Edge tuple ['0,1'] must be a 2-tuple or 3-tuple.\n"
          ]
        }
      ]
    },
    {
      "cell_type": "markdown",
      "source": [
        "## Parameters to set:\n",
        "<ul>\n",
        "<li>"
      ],
      "metadata": {
        "id": "zW_CSKPzeUyz"
      }
    }
  ]
}